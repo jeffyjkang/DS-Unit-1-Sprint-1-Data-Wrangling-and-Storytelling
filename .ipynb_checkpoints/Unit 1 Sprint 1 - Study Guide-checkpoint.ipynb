{
 "cells": [
  {
   "cell_type": "markdown",
   "metadata": {
    "id": "Nd2OOOVXxXS1"
   },
   "source": [
    "This study guide should reinforce and provide practice for all of the concepts you have seen in Unit 1 Sprint 1. There are a mix of written questions and coding exercises, both are equally important to prepare you for the sprint challenge as well as to be able to speak on these topics comfortably in interviews and on the job.\n",
    "\n",
    "If you get stuck or are unsure of something remember the 20 minute rule. If that doesn't help, then research a solution with google and stackoverflow. Only once you have exausted these methods should you turn to your track team and mentor - they won't be there on your SC or during an interview. That being said, don't hesitate to ask for help if you truly are stuck.\n",
    "\n",
    "Have fun studying!"
   ]
  },
  {
   "cell_type": "markdown",
   "metadata": {
    "id": "fpvInKdXekFi"
   },
   "source": [
    "## Questions"
   ]
  },
  {
   "cell_type": "code",
   "execution_count": null,
   "metadata": {
    "id": "Q8aB5qieZG-k"
   },
   "outputs": [],
   "source": []
  },
  {
   "cell_type": "markdown",
   "metadata": {
    "id": "Q6bS8AhBZ86H"
   },
   "source": [
    "When completing this section, try to limit your answers to 2-3 sentences max and use plain english as much as possible. It's very easy to hide incomplete knowledge and undertanding behind fancy or technical words, so imagine you are explaining these things to a non-technical interviewer.\n",
    "\n",
    "1. What is a Data Frame?\n",
    "```\n",
    "Two-dimensional, size-mutable, potentially heterogeneous tabular data\n",
    "```\n",
    "\n",
    "2. What is Pandas?\n",
    "```\n",
    "Open source data analysis and manipulation tool, built on top of Python\n",
    "```\n",
    "\n",
    "3. How do you check for missing values?\n",
    "```\n",
    "inull / isna / isnan\n",
    "```\n",
    "\n",
    "4. What is numpy?\n",
    "```\n",
    "Python library that provides scientific computing, (math, logical, shape manipulation, sorting, selecting, etc)\n",
    "```\n",
    "\n",
    "5. Explain the difference between tidy and wide (summary) data.\n",
    "```\n",
    "tidy data has a single column for each variable, wide spreads a variable across several columns\n",
    "```\n",
    "\n",
    "6. Explain the difference between categorical and quantitative data.\n",
    "```\n",
    "categorical - category or label\n",
    "quantitative - numerical or measuring\n",
    "```\n",
    "\n",
    "7. For categorical variables, explain the difference between an ordinal, nominal or identifier variable.\n",
    "```\n",
    "ordinal - has a predetermined or natural order\n",
    "nominal - no natural order or rank\n",
    "```\n",
    "\n",
    "8. For quantitative variables, explain the difference between a discrete and a continuous variable.\n",
    "```\n",
    "discrete - takes on certain values\n",
    "continuous - takes on any value\n",
    "```\n",
    "\n",
    "9. Explain the differnece between an inner, outer, left and right merge.\n",
    "```\n",
    "inner - use intersection of keys from both frames, preserve order of the left keys\n",
    "outer - use union of keys from both frames, sort keys lexicographically\n",
    "left - use only keys from left frame, preserve key order\n",
    "right - use only keys from right frame, preserve key order\n",
    "```\n",
    "\n",
    "10. Explain the differnece between merging and concatenating data.\n",
    "```\n",
    "merge - combine two or more dataframes on the basis of values of common columns\n",
    "concat - append one or more dataframes despending on axis option\n",
    "```\n",
    "\n",
    "11. Explain the purpose of a function.\n",
    "```\n",
    "format or modify a dataframe based on conditions set forth by function\n",
    "```\n",
    "\n",
    "12. Explain what .apply() does.\n",
    "```\n",
    "apply a function along an axis of the dataframe\n",
    "```\n",
    "\n",
    "13. Explain what .strip() does.\n",
    "```\n",
    "remove leading characters on a string\n",
    "```\n",
    "\n",
    "14. Explain what .strip('%') does.\n",
    "```\n",
    "cast value to float rather than a string\n",
    "```\n",
    "\n",
    "15. Explain what .split('-') does.\n",
    "```\n",
    "split strings around given separator/delimiter\n",
    "```\n",
    "\n",
    "16. Give an example of a misleading figure and how you would fix it.\n",
    "```\n",
    "plots with selective / limited x or y axis values should be changed to reflect the appropriate and proportionate values\n",
    "```\n",
    "\n",
    "17. Describe the important fetures of the distribution of a quantitative variable.\n",
    "```\n",
    "1. number of nodes (highest point on the graph)\n",
    "2. symmetry / skew\n",
    "3. outliers\n",
    "```"
   ]
  },
  {
   "cell_type": "markdown",
   "metadata": {
    "id": "dUQaIwbceohq"
   },
   "source": [
    "## Coding problems"
   ]
  },
  {
   "cell_type": "markdown",
   "metadata": {
    "id": "4jnYgnFjP6eE"
   },
   "source": [
    "Import pandas, numpy, matplotlib, etc.\n"
   ]
  },
  {
   "cell_type": "code",
   "execution_count": 5,
   "metadata": {
    "id": "S9hFYrmqQlLA"
   },
   "outputs": [],
   "source": [
    "import pandas as pd\n",
    "import numpy as np\n",
    "import matplotlib.pyplot as plt"
   ]
  },
  {
   "cell_type": "markdown",
   "metadata": {
    "id": "bCbET5ioQlmQ"
   },
   "source": [
    "Import a dataset from a link\n"
   ]
  },
  {
   "cell_type": "code",
   "execution_count": 3,
   "metadata": {
    "id": "lwNwPn5nQowi"
   },
   "outputs": [],
   "source": [
    "sleep_url = 'https://raw.githubusercontent.com/LambdaSchool/data-science-practice-datasets/main/unit_1/Sleep/Sleep.csv'"
   ]
  },
  {
   "cell_type": "markdown",
   "metadata": {
    "id": "2hq-PhcTQph7"
   },
   "source": [
    "Import a dataset from a .csv file saved on your personal computer."
   ]
  },
  {
   "cell_type": "code",
   "execution_count": null,
   "metadata": {
    "id": "ZsWsuYwXRRP3"
   },
   "outputs": [],
   "source": []
  },
  {
   "cell_type": "markdown",
   "metadata": {
    "id": "jVqQYLgxld7M"
   },
   "source": [
    "Import matplotlib"
   ]
  },
  {
   "cell_type": "code",
   "execution_count": null,
   "metadata": {
    "id": "ScovMuwvRdtq"
   },
   "outputs": [],
   "source": []
  },
  {
   "cell_type": "markdown",
   "metadata": {
    "id": "uD5cTw9plh9c"
   },
   "source": [
    "Loading and viewing a Dataframe"
   ]
  },
  {
   "cell_type": "code",
   "execution_count": 17,
   "metadata": {
    "id": "XlazD59ClhXi"
   },
   "outputs": [
    {
     "data": {
      "text/plain": [
       "(42, 11)"
      ]
     },
     "execution_count": 17,
     "metadata": {},
     "output_type": "execute_result"
    }
   ],
   "source": [
    "sleep = pd.read_csv(sleep_url)\n",
    "sleep.shape"
   ]
  },
  {
   "cell_type": "markdown",
   "metadata": {
    "id": "JyThYBHGlm60"
   },
   "source": [
    "Using the loaded DataFrame to create and display a plot or graph."
   ]
  },
  {
   "cell_type": "code",
   "execution_count": 10,
   "metadata": {
    "id": "pr_vT8VSmK6J"
   },
   "outputs": [
    {
     "data": {
      "text/plain": [
       "Text(0.5, 1.0, 'Daily total sleep in mammal species')"
      ]
     },
     "execution_count": 10,
     "metadata": {},
     "output_type": "execute_result"
    },
    {
     "data": {
      "image/png": "[encoded data removed]",
      "text/plain": [
       "<Figure size 432x288 with 1 Axes>"
      ]
     },
     "metadata": {
      "needs_background": "light"
     },
     "output_type": "display_data"
    }
   ],
   "source": [
    "fig, ax = plt.subplots()\n",
    "ax.hist(sleep['Totsleep'])\n",
    "ax.set_xlabel('Total Hours of sleep') \n",
    "ax.set_ylabel('Frequency') \n",
    "ax.set_title('Daily total sleep in mammal species')\n"
   ]
  },
  {
   "cell_type": "markdown",
   "metadata": {
    "id": "jsVSa5EXnS_o"
   },
   "source": [
    "Print the first five rows of a dataset\n"
   ]
  },
  {
   "cell_type": "code",
   "execution_count": 12,
   "metadata": {
    "id": "mmdHcvXznVec"
   },
   "outputs": [
    {
     "data": {
      "text/html": [
       "<div>\n",
       "<style scoped>\n",
       "    .dataframe tbody tr th:only-of-type {\n",
       "        vertical-align: middle;\n",
       "    }\n",
       "\n",
       "    .dataframe tbody tr th {\n",
       "        vertical-align: top;\n",
       "    }\n",
       "\n",
       "    .dataframe thead th {\n",
       "        text-align: right;\n",
       "    }\n",
       "</style>\n",
       "<table border=\"1\" class=\"dataframe\">\n",
       "  <thead>\n",
       "    <tr style=\"text-align: right;\">\n",
       "      <th></th>\n",
       "      <th>Animal</th>\n",
       "      <th>Body</th>\n",
       "      <th>Brain</th>\n",
       "      <th>SWsleep</th>\n",
       "      <th>Parasleep</th>\n",
       "      <th>Totsleep</th>\n",
       "      <th>Life</th>\n",
       "      <th>Gest</th>\n",
       "      <th>Pred</th>\n",
       "      <th>Exposure</th>\n",
       "      <th>Danger</th>\n",
       "    </tr>\n",
       "  </thead>\n",
       "  <tbody>\n",
       "    <tr>\n",
       "      <th>0</th>\n",
       "      <td>African_giant_pouched_rat</td>\n",
       "      <td>1.000</td>\n",
       "      <td>6.6</td>\n",
       "      <td>6.3</td>\n",
       "      <td>2.0</td>\n",
       "      <td>8.3</td>\n",
       "      <td>4.5</td>\n",
       "      <td>42.0</td>\n",
       "      <td>3</td>\n",
       "      <td>1</td>\n",
       "      <td>3</td>\n",
       "    </tr>\n",
       "    <tr>\n",
       "      <th>1</th>\n",
       "      <td>Asian_elephant</td>\n",
       "      <td>2547.000</td>\n",
       "      <td>4603.0</td>\n",
       "      <td>2.1</td>\n",
       "      <td>1.8</td>\n",
       "      <td>3.9</td>\n",
       "      <td>69.0</td>\n",
       "      <td>624.0</td>\n",
       "      <td>3</td>\n",
       "      <td>5</td>\n",
       "      <td>4</td>\n",
       "    </tr>\n",
       "    <tr>\n",
       "      <th>2</th>\n",
       "      <td>Baboon</td>\n",
       "      <td>10.550</td>\n",
       "      <td>179.5</td>\n",
       "      <td>9.1</td>\n",
       "      <td>0.7</td>\n",
       "      <td>9.8</td>\n",
       "      <td>27.0</td>\n",
       "      <td>180.0</td>\n",
       "      <td>4</td>\n",
       "      <td>4</td>\n",
       "      <td>4</td>\n",
       "    </tr>\n",
       "    <tr>\n",
       "      <th>3</th>\n",
       "      <td>Big_brown_bat</td>\n",
       "      <td>0.023</td>\n",
       "      <td>0.3</td>\n",
       "      <td>15.8</td>\n",
       "      <td>3.9</td>\n",
       "      <td>19.7</td>\n",
       "      <td>19.0</td>\n",
       "      <td>35.0</td>\n",
       "      <td>1</td>\n",
       "      <td>1</td>\n",
       "      <td>1</td>\n",
       "    </tr>\n",
       "    <tr>\n",
       "      <th>4</th>\n",
       "      <td>Brazilian_tapir</td>\n",
       "      <td>160.000</td>\n",
       "      <td>169.0</td>\n",
       "      <td>5.2</td>\n",
       "      <td>1.0</td>\n",
       "      <td>6.2</td>\n",
       "      <td>30.4</td>\n",
       "      <td>392.0</td>\n",
       "      <td>4</td>\n",
       "      <td>5</td>\n",
       "      <td>4</td>\n",
       "    </tr>\n",
       "  </tbody>\n",
       "</table>\n",
       "</div>"
      ],
      "text/plain": [
       "                      Animal      Body   Brain  SWsleep  Parasleep  Totsleep  \\\n",
       "0  African_giant_pouched_rat     1.000     6.6      6.3        2.0       8.3   \n",
       "1             Asian_elephant  2547.000  4603.0      2.1        1.8       3.9   \n",
       "2                     Baboon    10.550   179.5      9.1        0.7       9.8   \n",
       "3              Big_brown_bat     0.023     0.3     15.8        3.9      19.7   \n",
       "4            Brazilian_tapir   160.000   169.0      5.2        1.0       6.2   \n",
       "\n",
       "   Life   Gest  Pred  Exposure  Danger  \n",
       "0   4.5   42.0     3         1       3  \n",
       "1  69.0  624.0     3         5       4  \n",
       "2  27.0  180.0     4         4       4  \n",
       "3  19.0   35.0     1         1       1  \n",
       "4  30.4  392.0     4         5       4  "
      ]
     },
     "execution_count": 12,
     "metadata": {},
     "output_type": "execute_result"
    }
   ],
   "source": [
    "sleep.head()"
   ]
  },
  {
   "cell_type": "markdown",
   "metadata": {
    "id": "gmYQEUVtnVrS"
   },
   "source": [
    "Print the last five rows of a dataset"
   ]
  },
  {
   "cell_type": "code",
   "execution_count": 13,
   "metadata": {
    "id": "bs4t6foXnXyC"
   },
   "outputs": [
    {
     "data": {
      "text/html": [
       "<div>\n",
       "<style scoped>\n",
       "    .dataframe tbody tr th:only-of-type {\n",
       "        vertical-align: middle;\n",
       "    }\n",
       "\n",
       "    .dataframe tbody tr th {\n",
       "        vertical-align: top;\n",
       "    }\n",
       "\n",
       "    .dataframe thead th {\n",
       "        text-align: right;\n",
       "    }\n",
       "</style>\n",
       "<table border=\"1\" class=\"dataframe\">\n",
       "  <thead>\n",
       "    <tr style=\"text-align: right;\">\n",
       "      <th></th>\n",
       "      <th>Animal</th>\n",
       "      <th>Body</th>\n",
       "      <th>Brain</th>\n",
       "      <th>SWsleep</th>\n",
       "      <th>Parasleep</th>\n",
       "      <th>Totsleep</th>\n",
       "      <th>Life</th>\n",
       "      <th>Gest</th>\n",
       "      <th>Pred</th>\n",
       "      <th>Exposure</th>\n",
       "      <th>Danger</th>\n",
       "    </tr>\n",
       "  </thead>\n",
       "  <tbody>\n",
       "    <tr>\n",
       "      <th>37</th>\n",
       "      <td>Tenrec</td>\n",
       "      <td>0.900</td>\n",
       "      <td>2.6</td>\n",
       "      <td>11.0</td>\n",
       "      <td>2.3</td>\n",
       "      <td>13.3</td>\n",
       "      <td>4.5</td>\n",
       "      <td>60.0</td>\n",
       "      <td>2</td>\n",
       "      <td>1</td>\n",
       "      <td>2</td>\n",
       "    </tr>\n",
       "    <tr>\n",
       "      <th>38</th>\n",
       "      <td>Tree_hyrax</td>\n",
       "      <td>2.000</td>\n",
       "      <td>12.3</td>\n",
       "      <td>4.9</td>\n",
       "      <td>0.5</td>\n",
       "      <td>5.4</td>\n",
       "      <td>7.5</td>\n",
       "      <td>200.0</td>\n",
       "      <td>3</td>\n",
       "      <td>1</td>\n",
       "      <td>3</td>\n",
       "    </tr>\n",
       "    <tr>\n",
       "      <th>39</th>\n",
       "      <td>Tree_shrew</td>\n",
       "      <td>0.104</td>\n",
       "      <td>2.5</td>\n",
       "      <td>13.2</td>\n",
       "      <td>2.6</td>\n",
       "      <td>15.8</td>\n",
       "      <td>2.3</td>\n",
       "      <td>46.0</td>\n",
       "      <td>3</td>\n",
       "      <td>2</td>\n",
       "      <td>2</td>\n",
       "    </tr>\n",
       "    <tr>\n",
       "      <th>40</th>\n",
       "      <td>Vervet</td>\n",
       "      <td>4.190</td>\n",
       "      <td>58.0</td>\n",
       "      <td>9.7</td>\n",
       "      <td>0.6</td>\n",
       "      <td>10.3</td>\n",
       "      <td>24.0</td>\n",
       "      <td>210.0</td>\n",
       "      <td>4</td>\n",
       "      <td>3</td>\n",
       "      <td>4</td>\n",
       "    </tr>\n",
       "    <tr>\n",
       "      <th>41</th>\n",
       "      <td>Water_opossum</td>\n",
       "      <td>3.500</td>\n",
       "      <td>3.9</td>\n",
       "      <td>12.8</td>\n",
       "      <td>6.6</td>\n",
       "      <td>19.4</td>\n",
       "      <td>3.0</td>\n",
       "      <td>14.0</td>\n",
       "      <td>2</td>\n",
       "      <td>1</td>\n",
       "      <td>1</td>\n",
       "    </tr>\n",
       "  </tbody>\n",
       "</table>\n",
       "</div>"
      ],
      "text/plain": [
       "           Animal   Body  Brain  SWsleep  Parasleep  Totsleep  Life   Gest  \\\n",
       "37         Tenrec  0.900    2.6     11.0        2.3      13.3   4.5   60.0   \n",
       "38     Tree_hyrax  2.000   12.3      4.9        0.5       5.4   7.5  200.0   \n",
       "39     Tree_shrew  0.104    2.5     13.2        2.6      15.8   2.3   46.0   \n",
       "40         Vervet  4.190   58.0      9.7        0.6      10.3  24.0  210.0   \n",
       "41  Water_opossum  3.500    3.9     12.8        6.6      19.4   3.0   14.0   \n",
       "\n",
       "    Pred  Exposure  Danger  \n",
       "37     2         1       2  \n",
       "38     3         1       3  \n",
       "39     3         2       2  \n",
       "40     4         3       4  \n",
       "41     2         1       1  "
      ]
     },
     "execution_count": 13,
     "metadata": {},
     "output_type": "execute_result"
    }
   ],
   "source": [
    "sleep.tail()"
   ]
  },
  {
   "cell_type": "markdown",
   "metadata": {
    "id": "Lk74FAh9nYHL"
   },
   "source": [
    "Print a single variable in a dataset"
   ]
  },
  {
   "cell_type": "code",
   "execution_count": 14,
   "metadata": {
    "id": "abVBumEJnbTj"
   },
   "outputs": [
    {
     "data": {
      "text/plain": [
       "0     African_giant_pouched_rat\n",
       "1                Asian_elephant\n",
       "2                        Baboon\n",
       "3                 Big_brown_bat\n",
       "4               Brazilian_tapir\n",
       "5                           Cat\n",
       "6                    Chimpanzee\n",
       "7                    Chinchilla\n",
       "8                           Cow\n",
       "9         Eastern_American_mole\n",
       "10                      Echidna\n",
       "11            European_hedgehog\n",
       "12                       Galago\n",
       "13                         Goat\n",
       "14               Golden_hamster\n",
       "15                    Gray_seal\n",
       "16              Ground_squirrel\n",
       "17                   Guinea_pig\n",
       "18                        Horse\n",
       "19    Lesser_short_tailed_shrew\n",
       "20             Little_brown_bat\n",
       "21                        Human\n",
       "22                        Mouse\n",
       "23                   Musk_shrew\n",
       "24           N_American_opossum\n",
       "25        Nine_banded_armadillo\n",
       "26                   Owl_monkey\n",
       "27                 Patas_monkey\n",
       "28                   Phanlanger\n",
       "29                          Pig\n",
       "30                       Rabbit\n",
       "31                          Rat\n",
       "32                      Red_fox\n",
       "33                Rhesus_monkey\n",
       "34        Rock_hyrax_(Hetero_b)\n",
       "35    Rock_hyrax_(Procavia_hab)\n",
       "36                        Sheep\n",
       "37                       Tenrec\n",
       "38                   Tree_hyrax\n",
       "39                   Tree_shrew\n",
       "40                       Vervet\n",
       "41                Water_opossum\n",
       "Name: Animal, dtype: object"
      ]
     },
     "execution_count": 14,
     "metadata": {},
     "output_type": "execute_result"
    }
   ],
   "source": [
    "sleep['Animal']"
   ]
  },
  {
   "cell_type": "markdown",
   "metadata": {
    "id": "yxvIfMg2nblq"
   },
   "source": [
    "Drop rows from a dataset"
   ]
  },
  {
   "cell_type": "code",
   "execution_count": 15,
   "metadata": {
    "id": "lxpnqi1PnuS4"
   },
   "outputs": [
    {
     "data": {
      "text/html": [
       "<div>\n",
       "<style scoped>\n",
       "    .dataframe tbody tr th:only-of-type {\n",
       "        vertical-align: middle;\n",
       "    }\n",
       "\n",
       "    .dataframe tbody tr th {\n",
       "        vertical-align: top;\n",
       "    }\n",
       "\n",
       "    .dataframe thead th {\n",
       "        text-align: right;\n",
       "    }\n",
       "</style>\n",
       "<table border=\"1\" class=\"dataframe\">\n",
       "  <thead>\n",
       "    <tr style=\"text-align: right;\">\n",
       "      <th></th>\n",
       "      <th>Animal</th>\n",
       "      <th>Brain</th>\n",
       "      <th>SWsleep</th>\n",
       "      <th>Parasleep</th>\n",
       "      <th>Totsleep</th>\n",
       "      <th>Life</th>\n",
       "      <th>Gest</th>\n",
       "      <th>Pred</th>\n",
       "      <th>Exposure</th>\n",
       "      <th>Danger</th>\n",
       "    </tr>\n",
       "  </thead>\n",
       "  <tbody>\n",
       "    <tr>\n",
       "      <th>0</th>\n",
       "      <td>African_giant_pouched_rat</td>\n",
       "      <td>6.60</td>\n",
       "      <td>6.3</td>\n",
       "      <td>2.0</td>\n",
       "      <td>8.3</td>\n",
       "      <td>4.5</td>\n",
       "      <td>42.0</td>\n",
       "      <td>3</td>\n",
       "      <td>1</td>\n",
       "      <td>3</td>\n",
       "    </tr>\n",
       "    <tr>\n",
       "      <th>1</th>\n",
       "      <td>Asian_elephant</td>\n",
       "      <td>4603.00</td>\n",
       "      <td>2.1</td>\n",
       "      <td>1.8</td>\n",
       "      <td>3.9</td>\n",
       "      <td>69.0</td>\n",
       "      <td>624.0</td>\n",
       "      <td>3</td>\n",
       "      <td>5</td>\n",
       "      <td>4</td>\n",
       "    </tr>\n",
       "    <tr>\n",
       "      <th>2</th>\n",
       "      <td>Baboon</td>\n",
       "      <td>179.50</td>\n",
       "      <td>9.1</td>\n",
       "      <td>0.7</td>\n",
       "      <td>9.8</td>\n",
       "      <td>27.0</td>\n",
       "      <td>180.0</td>\n",
       "      <td>4</td>\n",
       "      <td>4</td>\n",
       "      <td>4</td>\n",
       "    </tr>\n",
       "    <tr>\n",
       "      <th>3</th>\n",
       "      <td>Big_brown_bat</td>\n",
       "      <td>0.30</td>\n",
       "      <td>15.8</td>\n",
       "      <td>3.9</td>\n",
       "      <td>19.7</td>\n",
       "      <td>19.0</td>\n",
       "      <td>35.0</td>\n",
       "      <td>1</td>\n",
       "      <td>1</td>\n",
       "      <td>1</td>\n",
       "    </tr>\n",
       "    <tr>\n",
       "      <th>4</th>\n",
       "      <td>Brazilian_tapir</td>\n",
       "      <td>169.00</td>\n",
       "      <td>5.2</td>\n",
       "      <td>1.0</td>\n",
       "      <td>6.2</td>\n",
       "      <td>30.4</td>\n",
       "      <td>392.0</td>\n",
       "      <td>4</td>\n",
       "      <td>5</td>\n",
       "      <td>4</td>\n",
       "    </tr>\n",
       "    <tr>\n",
       "      <th>5</th>\n",
       "      <td>Cat</td>\n",
       "      <td>25.60</td>\n",
       "      <td>10.9</td>\n",
       "      <td>3.6</td>\n",
       "      <td>14.5</td>\n",
       "      <td>28.0</td>\n",
       "      <td>63.0</td>\n",
       "      <td>1</td>\n",
       "      <td>2</td>\n",
       "      <td>1</td>\n",
       "    </tr>\n",
       "    <tr>\n",
       "      <th>6</th>\n",
       "      <td>Chimpanzee</td>\n",
       "      <td>440.00</td>\n",
       "      <td>8.3</td>\n",
       "      <td>1.4</td>\n",
       "      <td>9.7</td>\n",
       "      <td>50.0</td>\n",
       "      <td>230.0</td>\n",
       "      <td>1</td>\n",
       "      <td>1</td>\n",
       "      <td>1</td>\n",
       "    </tr>\n",
       "    <tr>\n",
       "      <th>7</th>\n",
       "      <td>Chinchilla</td>\n",
       "      <td>6.40</td>\n",
       "      <td>11.0</td>\n",
       "      <td>1.5</td>\n",
       "      <td>12.5</td>\n",
       "      <td>7.0</td>\n",
       "      <td>112.0</td>\n",
       "      <td>5</td>\n",
       "      <td>4</td>\n",
       "      <td>4</td>\n",
       "    </tr>\n",
       "    <tr>\n",
       "      <th>8</th>\n",
       "      <td>Cow</td>\n",
       "      <td>423.00</td>\n",
       "      <td>3.2</td>\n",
       "      <td>0.7</td>\n",
       "      <td>3.9</td>\n",
       "      <td>30.0</td>\n",
       "      <td>281.0</td>\n",
       "      <td>5</td>\n",
       "      <td>5</td>\n",
       "      <td>5</td>\n",
       "    </tr>\n",
       "    <tr>\n",
       "      <th>9</th>\n",
       "      <td>Eastern_American_mole</td>\n",
       "      <td>1.20</td>\n",
       "      <td>6.3</td>\n",
       "      <td>2.1</td>\n",
       "      <td>8.4</td>\n",
       "      <td>3.5</td>\n",
       "      <td>42.0</td>\n",
       "      <td>1</td>\n",
       "      <td>1</td>\n",
       "      <td>1</td>\n",
       "    </tr>\n",
       "    <tr>\n",
       "      <th>10</th>\n",
       "      <td>Echidna</td>\n",
       "      <td>25.00</td>\n",
       "      <td>8.6</td>\n",
       "      <td>0.0</td>\n",
       "      <td>8.6</td>\n",
       "      <td>50.0</td>\n",
       "      <td>28.0</td>\n",
       "      <td>2</td>\n",
       "      <td>2</td>\n",
       "      <td>2</td>\n",
       "    </tr>\n",
       "    <tr>\n",
       "      <th>11</th>\n",
       "      <td>European_hedgehog</td>\n",
       "      <td>3.50</td>\n",
       "      <td>6.6</td>\n",
       "      <td>4.1</td>\n",
       "      <td>10.7</td>\n",
       "      <td>6.0</td>\n",
       "      <td>42.0</td>\n",
       "      <td>2</td>\n",
       "      <td>2</td>\n",
       "      <td>2</td>\n",
       "    </tr>\n",
       "    <tr>\n",
       "      <th>12</th>\n",
       "      <td>Galago</td>\n",
       "      <td>5.00</td>\n",
       "      <td>9.5</td>\n",
       "      <td>1.2</td>\n",
       "      <td>10.7</td>\n",
       "      <td>10.4</td>\n",
       "      <td>120.0</td>\n",
       "      <td>2</td>\n",
       "      <td>2</td>\n",
       "      <td>2</td>\n",
       "    </tr>\n",
       "    <tr>\n",
       "      <th>13</th>\n",
       "      <td>Goat</td>\n",
       "      <td>115.00</td>\n",
       "      <td>3.3</td>\n",
       "      <td>0.5</td>\n",
       "      <td>3.8</td>\n",
       "      <td>20.0</td>\n",
       "      <td>148.0</td>\n",
       "      <td>5</td>\n",
       "      <td>5</td>\n",
       "      <td>5</td>\n",
       "    </tr>\n",
       "    <tr>\n",
       "      <th>14</th>\n",
       "      <td>Golden_hamster</td>\n",
       "      <td>1.00</td>\n",
       "      <td>11.0</td>\n",
       "      <td>3.4</td>\n",
       "      <td>14.4</td>\n",
       "      <td>3.9</td>\n",
       "      <td>16.0</td>\n",
       "      <td>3</td>\n",
       "      <td>1</td>\n",
       "      <td>2</td>\n",
       "    </tr>\n",
       "    <tr>\n",
       "      <th>15</th>\n",
       "      <td>Gray_seal</td>\n",
       "      <td>325.00</td>\n",
       "      <td>4.7</td>\n",
       "      <td>1.5</td>\n",
       "      <td>6.2</td>\n",
       "      <td>41.0</td>\n",
       "      <td>310.0</td>\n",
       "      <td>1</td>\n",
       "      <td>3</td>\n",
       "      <td>1</td>\n",
       "    </tr>\n",
       "    <tr>\n",
       "      <th>16</th>\n",
       "      <td>Ground_squirrel</td>\n",
       "      <td>4.00</td>\n",
       "      <td>10.4</td>\n",
       "      <td>3.4</td>\n",
       "      <td>13.8</td>\n",
       "      <td>9.0</td>\n",
       "      <td>28.0</td>\n",
       "      <td>5</td>\n",
       "      <td>1</td>\n",
       "      <td>3</td>\n",
       "    </tr>\n",
       "    <tr>\n",
       "      <th>17</th>\n",
       "      <td>Guinea_pig</td>\n",
       "      <td>5.50</td>\n",
       "      <td>7.4</td>\n",
       "      <td>0.8</td>\n",
       "      <td>8.2</td>\n",
       "      <td>7.6</td>\n",
       "      <td>68.0</td>\n",
       "      <td>5</td>\n",
       "      <td>3</td>\n",
       "      <td>4</td>\n",
       "    </tr>\n",
       "    <tr>\n",
       "      <th>18</th>\n",
       "      <td>Horse</td>\n",
       "      <td>655.00</td>\n",
       "      <td>2.1</td>\n",
       "      <td>0.8</td>\n",
       "      <td>2.9</td>\n",
       "      <td>46.0</td>\n",
       "      <td>336.0</td>\n",
       "      <td>5</td>\n",
       "      <td>5</td>\n",
       "      <td>5</td>\n",
       "    </tr>\n",
       "    <tr>\n",
       "      <th>19</th>\n",
       "      <td>Lesser_short_tailed_shrew</td>\n",
       "      <td>0.14</td>\n",
       "      <td>7.7</td>\n",
       "      <td>1.4</td>\n",
       "      <td>9.1</td>\n",
       "      <td>2.6</td>\n",
       "      <td>21.5</td>\n",
       "      <td>5</td>\n",
       "      <td>2</td>\n",
       "      <td>4</td>\n",
       "    </tr>\n",
       "    <tr>\n",
       "      <th>20</th>\n",
       "      <td>Little_brown_bat</td>\n",
       "      <td>0.25</td>\n",
       "      <td>17.9</td>\n",
       "      <td>2.0</td>\n",
       "      <td>19.9</td>\n",
       "      <td>24.0</td>\n",
       "      <td>50.0</td>\n",
       "      <td>1</td>\n",
       "      <td>1</td>\n",
       "      <td>1</td>\n",
       "    </tr>\n",
       "    <tr>\n",
       "      <th>21</th>\n",
       "      <td>Human</td>\n",
       "      <td>1320.00</td>\n",
       "      <td>6.1</td>\n",
       "      <td>1.9</td>\n",
       "      <td>8.0</td>\n",
       "      <td>100.0</td>\n",
       "      <td>267.0</td>\n",
       "      <td>1</td>\n",
       "      <td>1</td>\n",
       "      <td>1</td>\n",
       "    </tr>\n",
       "    <tr>\n",
       "      <th>22</th>\n",
       "      <td>Mouse</td>\n",
       "      <td>0.40</td>\n",
       "      <td>11.9</td>\n",
       "      <td>1.3</td>\n",
       "      <td>13.2</td>\n",
       "      <td>3.2</td>\n",
       "      <td>19.0</td>\n",
       "      <td>4</td>\n",
       "      <td>1</td>\n",
       "      <td>3</td>\n",
       "    </tr>\n",
       "    <tr>\n",
       "      <th>23</th>\n",
       "      <td>Musk_shrew</td>\n",
       "      <td>0.33</td>\n",
       "      <td>10.8</td>\n",
       "      <td>2.0</td>\n",
       "      <td>12.8</td>\n",
       "      <td>2.0</td>\n",
       "      <td>30.0</td>\n",
       "      <td>4</td>\n",
       "      <td>1</td>\n",
       "      <td>3</td>\n",
       "    </tr>\n",
       "    <tr>\n",
       "      <th>24</th>\n",
       "      <td>N_American_opossum</td>\n",
       "      <td>6.30</td>\n",
       "      <td>13.8</td>\n",
       "      <td>5.6</td>\n",
       "      <td>19.4</td>\n",
       "      <td>5.0</td>\n",
       "      <td>12.0</td>\n",
       "      <td>2</td>\n",
       "      <td>1</td>\n",
       "      <td>1</td>\n",
       "    </tr>\n",
       "    <tr>\n",
       "      <th>25</th>\n",
       "      <td>Nine_banded_armadillo</td>\n",
       "      <td>10.80</td>\n",
       "      <td>14.3</td>\n",
       "      <td>3.1</td>\n",
       "      <td>17.4</td>\n",
       "      <td>6.5</td>\n",
       "      <td>120.0</td>\n",
       "      <td>2</td>\n",
       "      <td>1</td>\n",
       "      <td>1</td>\n",
       "    </tr>\n",
       "    <tr>\n",
       "      <th>26</th>\n",
       "      <td>Owl_monkey</td>\n",
       "      <td>15.50</td>\n",
       "      <td>15.2</td>\n",
       "      <td>1.8</td>\n",
       "      <td>17.0</td>\n",
       "      <td>12.0</td>\n",
       "      <td>140.0</td>\n",
       "      <td>2</td>\n",
       "      <td>2</td>\n",
       "      <td>2</td>\n",
       "    </tr>\n",
       "    <tr>\n",
       "      <th>27</th>\n",
       "      <td>Patas_monkey</td>\n",
       "      <td>115.00</td>\n",
       "      <td>10.0</td>\n",
       "      <td>0.9</td>\n",
       "      <td>10.9</td>\n",
       "      <td>20.2</td>\n",
       "      <td>170.0</td>\n",
       "      <td>4</td>\n",
       "      <td>4</td>\n",
       "      <td>4</td>\n",
       "    </tr>\n",
       "    <tr>\n",
       "      <th>28</th>\n",
       "      <td>Phanlanger</td>\n",
       "      <td>11.40</td>\n",
       "      <td>11.9</td>\n",
       "      <td>1.8</td>\n",
       "      <td>13.7</td>\n",
       "      <td>13.0</td>\n",
       "      <td>17.0</td>\n",
       "      <td>2</td>\n",
       "      <td>1</td>\n",
       "      <td>2</td>\n",
       "    </tr>\n",
       "    <tr>\n",
       "      <th>29</th>\n",
       "      <td>Pig</td>\n",
       "      <td>180.00</td>\n",
       "      <td>6.5</td>\n",
       "      <td>1.9</td>\n",
       "      <td>8.4</td>\n",
       "      <td>27.0</td>\n",
       "      <td>115.0</td>\n",
       "      <td>4</td>\n",
       "      <td>4</td>\n",
       "      <td>4</td>\n",
       "    </tr>\n",
       "    <tr>\n",
       "      <th>30</th>\n",
       "      <td>Rabbit</td>\n",
       "      <td>12.10</td>\n",
       "      <td>7.5</td>\n",
       "      <td>0.9</td>\n",
       "      <td>8.4</td>\n",
       "      <td>18.0</td>\n",
       "      <td>31.0</td>\n",
       "      <td>5</td>\n",
       "      <td>5</td>\n",
       "      <td>5</td>\n",
       "    </tr>\n",
       "    <tr>\n",
       "      <th>31</th>\n",
       "      <td>Rat</td>\n",
       "      <td>1.90</td>\n",
       "      <td>10.6</td>\n",
       "      <td>2.6</td>\n",
       "      <td>13.2</td>\n",
       "      <td>4.7</td>\n",
       "      <td>21.0</td>\n",
       "      <td>3</td>\n",
       "      <td>1</td>\n",
       "      <td>3</td>\n",
       "    </tr>\n",
       "    <tr>\n",
       "      <th>32</th>\n",
       "      <td>Red_fox</td>\n",
       "      <td>50.40</td>\n",
       "      <td>7.4</td>\n",
       "      <td>2.4</td>\n",
       "      <td>9.8</td>\n",
       "      <td>9.8</td>\n",
       "      <td>52.0</td>\n",
       "      <td>1</td>\n",
       "      <td>1</td>\n",
       "      <td>1</td>\n",
       "    </tr>\n",
       "    <tr>\n",
       "      <th>33</th>\n",
       "      <td>Rhesus_monkey</td>\n",
       "      <td>179.00</td>\n",
       "      <td>8.4</td>\n",
       "      <td>1.2</td>\n",
       "      <td>9.6</td>\n",
       "      <td>29.0</td>\n",
       "      <td>164.0</td>\n",
       "      <td>2</td>\n",
       "      <td>3</td>\n",
       "      <td>2</td>\n",
       "    </tr>\n",
       "    <tr>\n",
       "      <th>34</th>\n",
       "      <td>Rock_hyrax_(Hetero_b)</td>\n",
       "      <td>12.30</td>\n",
       "      <td>5.7</td>\n",
       "      <td>0.9</td>\n",
       "      <td>6.6</td>\n",
       "      <td>7.0</td>\n",
       "      <td>225.0</td>\n",
       "      <td>2</td>\n",
       "      <td>2</td>\n",
       "      <td>2</td>\n",
       "    </tr>\n",
       "    <tr>\n",
       "      <th>35</th>\n",
       "      <td>Rock_hyrax_(Procavia_hab)</td>\n",
       "      <td>21.00</td>\n",
       "      <td>4.9</td>\n",
       "      <td>0.5</td>\n",
       "      <td>5.4</td>\n",
       "      <td>6.0</td>\n",
       "      <td>225.0</td>\n",
       "      <td>3</td>\n",
       "      <td>2</td>\n",
       "      <td>3</td>\n",
       "    </tr>\n",
       "    <tr>\n",
       "      <th>36</th>\n",
       "      <td>Sheep</td>\n",
       "      <td>175.00</td>\n",
       "      <td>3.2</td>\n",
       "      <td>0.6</td>\n",
       "      <td>3.8</td>\n",
       "      <td>20.0</td>\n",
       "      <td>151.0</td>\n",
       "      <td>5</td>\n",
       "      <td>5</td>\n",
       "      <td>5</td>\n",
       "    </tr>\n",
       "    <tr>\n",
       "      <th>37</th>\n",
       "      <td>Tenrec</td>\n",
       "      <td>2.60</td>\n",
       "      <td>11.0</td>\n",
       "      <td>2.3</td>\n",
       "      <td>13.3</td>\n",
       "      <td>4.5</td>\n",
       "      <td>60.0</td>\n",
       "      <td>2</td>\n",
       "      <td>1</td>\n",
       "      <td>2</td>\n",
       "    </tr>\n",
       "    <tr>\n",
       "      <th>38</th>\n",
       "      <td>Tree_hyrax</td>\n",
       "      <td>12.30</td>\n",
       "      <td>4.9</td>\n",
       "      <td>0.5</td>\n",
       "      <td>5.4</td>\n",
       "      <td>7.5</td>\n",
       "      <td>200.0</td>\n",
       "      <td>3</td>\n",
       "      <td>1</td>\n",
       "      <td>3</td>\n",
       "    </tr>\n",
       "    <tr>\n",
       "      <th>39</th>\n",
       "      <td>Tree_shrew</td>\n",
       "      <td>2.50</td>\n",
       "      <td>13.2</td>\n",
       "      <td>2.6</td>\n",
       "      <td>15.8</td>\n",
       "      <td>2.3</td>\n",
       "      <td>46.0</td>\n",
       "      <td>3</td>\n",
       "      <td>2</td>\n",
       "      <td>2</td>\n",
       "    </tr>\n",
       "    <tr>\n",
       "      <th>40</th>\n",
       "      <td>Vervet</td>\n",
       "      <td>58.00</td>\n",
       "      <td>9.7</td>\n",
       "      <td>0.6</td>\n",
       "      <td>10.3</td>\n",
       "      <td>24.0</td>\n",
       "      <td>210.0</td>\n",
       "      <td>4</td>\n",
       "      <td>3</td>\n",
       "      <td>4</td>\n",
       "    </tr>\n",
       "    <tr>\n",
       "      <th>41</th>\n",
       "      <td>Water_opossum</td>\n",
       "      <td>3.90</td>\n",
       "      <td>12.8</td>\n",
       "      <td>6.6</td>\n",
       "      <td>19.4</td>\n",
       "      <td>3.0</td>\n",
       "      <td>14.0</td>\n",
       "      <td>2</td>\n",
       "      <td>1</td>\n",
       "      <td>1</td>\n",
       "    </tr>\n",
       "  </tbody>\n",
       "</table>\n",
       "</div>"
      ],
      "text/plain": [
       "                       Animal    Brain  SWsleep  Parasleep  Totsleep   Life  \\\n",
       "0   African_giant_pouched_rat     6.60      6.3        2.0       8.3    4.5   \n",
       "1              Asian_elephant  4603.00      2.1        1.8       3.9   69.0   \n",
       "2                      Baboon   179.50      9.1        0.7       9.8   27.0   \n",
       "3               Big_brown_bat     0.30     15.8        3.9      19.7   19.0   \n",
       "4             Brazilian_tapir   169.00      5.2        1.0       6.2   30.4   \n",
       "5                         Cat    25.60     10.9        3.6      14.5   28.0   \n",
       "6                  Chimpanzee   440.00      8.3        1.4       9.7   50.0   \n",
       "7                  Chinchilla     6.40     11.0        1.5      12.5    7.0   \n",
       "8                         Cow   423.00      3.2        0.7       3.9   30.0   \n",
       "9       Eastern_American_mole     1.20      6.3        2.1       8.4    3.5   \n",
       "10                    Echidna    25.00      8.6        0.0       8.6   50.0   \n",
       "11          European_hedgehog     3.50      6.6        4.1      10.7    6.0   \n",
       "12                     Galago     5.00      9.5        1.2      10.7   10.4   \n",
       "13                       Goat   115.00      3.3        0.5       3.8   20.0   \n",
       "14             Golden_hamster     1.00     11.0        3.4      14.4    3.9   \n",
       "15                  Gray_seal   325.00      4.7        1.5       6.2   41.0   \n",
       "16            Ground_squirrel     4.00     10.4        3.4      13.8    9.0   \n",
       "17                 Guinea_pig     5.50      7.4        0.8       8.2    7.6   \n",
       "18                      Horse   655.00      2.1        0.8       2.9   46.0   \n",
       "19  Lesser_short_tailed_shrew     0.14      7.7        1.4       9.1    2.6   \n",
       "20           Little_brown_bat     0.25     17.9        2.0      19.9   24.0   \n",
       "21                      Human  1320.00      6.1        1.9       8.0  100.0   \n",
       "22                      Mouse     0.40     11.9        1.3      13.2    3.2   \n",
       "23                 Musk_shrew     0.33     10.8        2.0      12.8    2.0   \n",
       "24         N_American_opossum     6.30     13.8        5.6      19.4    5.0   \n",
       "25      Nine_banded_armadillo    10.80     14.3        3.1      17.4    6.5   \n",
       "26                 Owl_monkey    15.50     15.2        1.8      17.0   12.0   \n",
       "27               Patas_monkey   115.00     10.0        0.9      10.9   20.2   \n",
       "28                 Phanlanger    11.40     11.9        1.8      13.7   13.0   \n",
       "29                        Pig   180.00      6.5        1.9       8.4   27.0   \n",
       "30                     Rabbit    12.10      7.5        0.9       8.4   18.0   \n",
       "31                        Rat     1.90     10.6        2.6      13.2    4.7   \n",
       "32                    Red_fox    50.40      7.4        2.4       9.8    9.8   \n",
       "33              Rhesus_monkey   179.00      8.4        1.2       9.6   29.0   \n",
       "34      Rock_hyrax_(Hetero_b)    12.30      5.7        0.9       6.6    7.0   \n",
       "35  Rock_hyrax_(Procavia_hab)    21.00      4.9        0.5       5.4    6.0   \n",
       "36                      Sheep   175.00      3.2        0.6       3.8   20.0   \n",
       "37                     Tenrec     2.60     11.0        2.3      13.3    4.5   \n",
       "38                 Tree_hyrax    12.30      4.9        0.5       5.4    7.5   \n",
       "39                 Tree_shrew     2.50     13.2        2.6      15.8    2.3   \n",
       "40                     Vervet    58.00      9.7        0.6      10.3   24.0   \n",
       "41              Water_opossum     3.90     12.8        6.6      19.4    3.0   \n",
       "\n",
       "     Gest  Pred  Exposure  Danger  \n",
       "0    42.0     3         1       3  \n",
       "1   624.0     3         5       4  \n",
       "2   180.0     4         4       4  \n",
       "3    35.0     1         1       1  \n",
       "4   392.0     4         5       4  \n",
       "5    63.0     1         2       1  \n",
       "6   230.0     1         1       1  \n",
       "7   112.0     5         4       4  \n",
       "8   281.0     5         5       5  \n",
       "9    42.0     1         1       1  \n",
       "10   28.0     2         2       2  \n",
       "11   42.0     2         2       2  \n",
       "12  120.0     2         2       2  \n",
       "13  148.0     5         5       5  \n",
       "14   16.0     3         1       2  \n",
       "15  310.0     1         3       1  \n",
       "16   28.0     5         1       3  \n",
       "17   68.0     5         3       4  \n",
       "18  336.0     5         5       5  \n",
       "19   21.5     5         2       4  \n",
       "20   50.0     1         1       1  \n",
       "21  267.0     1         1       1  \n",
       "22   19.0     4         1       3  \n",
       "23   30.0     4         1       3  \n",
       "24   12.0     2         1       1  \n",
       "25  120.0     2         1       1  \n",
       "26  140.0     2         2       2  \n",
       "27  170.0     4         4       4  \n",
       "28   17.0     2         1       2  \n",
       "29  115.0     4         4       4  \n",
       "30   31.0     5         5       5  \n",
       "31   21.0     3         1       3  \n",
       "32   52.0     1         1       1  \n",
       "33  164.0     2         3       2  \n",
       "34  225.0     2         2       2  \n",
       "35  225.0     3         2       3  \n",
       "36  151.0     5         5       5  \n",
       "37   60.0     2         1       2  \n",
       "38  200.0     3         1       3  \n",
       "39   46.0     3         2       2  \n",
       "40  210.0     4         3       4  \n",
       "41   14.0     2         1       1  "
      ]
     },
     "execution_count": 15,
     "metadata": {},
     "output_type": "execute_result"
    }
   ],
   "source": [
    "sleep.drop(['Body'], axis = 1)"
   ]
  },
  {
   "cell_type": "markdown",
   "metadata": {
    "id": "3lMapML2nueU"
   },
   "source": [
    "Find the dimensions of a dataframe"
   ]
  },
  {
   "cell_type": "code",
   "execution_count": 16,
   "metadata": {
    "id": "MO8vcOK3oAI3"
   },
   "outputs": [
    {
     "data": {
      "text/plain": [
       "(42, 11)"
      ]
     },
     "execution_count": 16,
     "metadata": {},
     "output_type": "execute_result"
    }
   ],
   "source": [
    "sleep.shape"
   ]
  },
  {
   "cell_type": "markdown",
   "metadata": {
    "id": "-TMBHELcoAUL"
   },
   "source": [
    "Identify the data types for each column in a dataframe"
   ]
  },
  {
   "cell_type": "code",
   "execution_count": 19,
   "metadata": {
    "id": "VdHEuBNQoEdL"
   },
   "outputs": [
    {
     "data": {
      "text/plain": [
       "Animal        object\n",
       "Body         float64\n",
       "Brain        float64\n",
       "SWsleep      float64\n",
       "Parasleep    float64\n",
       "Totsleep     float64\n",
       "Life         float64\n",
       "Gest         float64\n",
       "Pred           int64\n",
       "Exposure       int64\n",
       "Danger         int64\n",
       "dtype: object"
      ]
     },
     "execution_count": 19,
     "metadata": {},
     "output_type": "execute_result"
    }
   ],
   "source": [
    "sleep.dtypes"
   ]
  },
  {
   "cell_type": "markdown",
   "metadata": {
    "id": "c0LRaORtoPJj"
   },
   "source": [
    "Display summary statstics for a dataset."
   ]
  },
  {
   "cell_type": "code",
   "execution_count": 21,
   "metadata": {
    "id": "PXP_Ir9noTY6"
   },
   "outputs": [
    {
     "data": {
      "text/html": [
       "<div>\n",
       "<style scoped>\n",
       "    .dataframe tbody tr th:only-of-type {\n",
       "        vertical-align: middle;\n",
       "    }\n",
       "\n",
       "    .dataframe tbody tr th {\n",
       "        vertical-align: top;\n",
       "    }\n",
       "\n",
       "    .dataframe thead th {\n",
       "        text-align: right;\n",
       "    }\n",
       "</style>\n",
       "<table border=\"1\" class=\"dataframe\">\n",
       "  <thead>\n",
       "    <tr style=\"text-align: right;\">\n",
       "      <th></th>\n",
       "      <th>Body</th>\n",
       "      <th>Brain</th>\n",
       "      <th>SWsleep</th>\n",
       "      <th>Parasleep</th>\n",
       "      <th>Totsleep</th>\n",
       "      <th>Life</th>\n",
       "      <th>Gest</th>\n",
       "      <th>Pred</th>\n",
       "      <th>Exposure</th>\n",
       "      <th>Danger</th>\n",
       "    </tr>\n",
       "  </thead>\n",
       "  <tbody>\n",
       "    <tr>\n",
       "      <th>count</th>\n",
       "      <td>42.000000</td>\n",
       "      <td>42.000000</td>\n",
       "      <td>42.000000</td>\n",
       "      <td>42.000000</td>\n",
       "      <td>42.000000</td>\n",
       "      <td>42.000000</td>\n",
       "      <td>42.000000</td>\n",
       "      <td>42.000000</td>\n",
       "      <td>42.000000</td>\n",
       "      <td>42.000000</td>\n",
       "    </tr>\n",
       "    <tr>\n",
       "      <th>mean</th>\n",
       "      <td>100.813905</td>\n",
       "      <td>218.683810</td>\n",
       "      <td>8.742857</td>\n",
       "      <td>1.900000</td>\n",
       "      <td>10.642857</td>\n",
       "      <td>19.371429</td>\n",
       "      <td>129.940476</td>\n",
       "      <td>2.952381</td>\n",
       "      <td>2.357143</td>\n",
       "      <td>2.690476</td>\n",
       "    </tr>\n",
       "    <tr>\n",
       "      <th>std</th>\n",
       "      <td>402.082389</td>\n",
       "      <td>732.848427</td>\n",
       "      <td>3.837437</td>\n",
       "      <td>1.388805</td>\n",
       "      <td>4.709417</td>\n",
       "      <td>20.257131</td>\n",
       "      <td>127.839848</td>\n",
       "      <td>1.447494</td>\n",
       "      <td>1.527335</td>\n",
       "      <td>1.387894</td>\n",
       "    </tr>\n",
       "    <tr>\n",
       "      <th>min</th>\n",
       "      <td>0.005000</td>\n",
       "      <td>0.140000</td>\n",
       "      <td>2.100000</td>\n",
       "      <td>0.000000</td>\n",
       "      <td>2.900000</td>\n",
       "      <td>2.000000</td>\n",
       "      <td>12.000000</td>\n",
       "      <td>1.000000</td>\n",
       "      <td>1.000000</td>\n",
       "      <td>1.000000</td>\n",
       "    </tr>\n",
       "    <tr>\n",
       "      <th>25%</th>\n",
       "      <td>0.316250</td>\n",
       "      <td>3.600000</td>\n",
       "      <td>6.150000</td>\n",
       "      <td>0.900000</td>\n",
       "      <td>8.050000</td>\n",
       "      <td>5.250000</td>\n",
       "      <td>32.000000</td>\n",
       "      <td>2.000000</td>\n",
       "      <td>1.000000</td>\n",
       "      <td>1.250000</td>\n",
       "    </tr>\n",
       "    <tr>\n",
       "      <th>50%</th>\n",
       "      <td>2.250000</td>\n",
       "      <td>12.200000</td>\n",
       "      <td>8.500000</td>\n",
       "      <td>1.650000</td>\n",
       "      <td>9.800000</td>\n",
       "      <td>11.200000</td>\n",
       "      <td>90.000000</td>\n",
       "      <td>3.000000</td>\n",
       "      <td>2.000000</td>\n",
       "      <td>2.500000</td>\n",
       "    </tr>\n",
       "    <tr>\n",
       "      <th>75%</th>\n",
       "      <td>10.412500</td>\n",
       "      <td>155.500000</td>\n",
       "      <td>11.000000</td>\n",
       "      <td>2.375000</td>\n",
       "      <td>13.600000</td>\n",
       "      <td>27.000000</td>\n",
       "      <td>195.000000</td>\n",
       "      <td>4.000000</td>\n",
       "      <td>3.750000</td>\n",
       "      <td>4.000000</td>\n",
       "    </tr>\n",
       "    <tr>\n",
       "      <th>max</th>\n",
       "      <td>2547.000000</td>\n",
       "      <td>4603.000000</td>\n",
       "      <td>17.900000</td>\n",
       "      <td>6.600000</td>\n",
       "      <td>19.900000</td>\n",
       "      <td>100.000000</td>\n",
       "      <td>624.000000</td>\n",
       "      <td>5.000000</td>\n",
       "      <td>5.000000</td>\n",
       "      <td>5.000000</td>\n",
       "    </tr>\n",
       "  </tbody>\n",
       "</table>\n",
       "</div>"
      ],
      "text/plain": [
       "              Body        Brain    SWsleep  Parasleep   Totsleep        Life  \\\n",
       "count    42.000000    42.000000  42.000000  42.000000  42.000000   42.000000   \n",
       "mean    100.813905   218.683810   8.742857   1.900000  10.642857   19.371429   \n",
       "std     402.082389   732.848427   3.837437   1.388805   4.709417   20.257131   \n",
       "min       0.005000     0.140000   2.100000   0.000000   2.900000    2.000000   \n",
       "25%       0.316250     3.600000   6.150000   0.900000   8.050000    5.250000   \n",
       "50%       2.250000    12.200000   8.500000   1.650000   9.800000   11.200000   \n",
       "75%      10.412500   155.500000  11.000000   2.375000  13.600000   27.000000   \n",
       "max    2547.000000  4603.000000  17.900000   6.600000  19.900000  100.000000   \n",
       "\n",
       "             Gest       Pred   Exposure     Danger  \n",
       "count   42.000000  42.000000  42.000000  42.000000  \n",
       "mean   129.940476   2.952381   2.357143   2.690476  \n",
       "std    127.839848   1.447494   1.527335   1.387894  \n",
       "min     12.000000   1.000000   1.000000   1.000000  \n",
       "25%     32.000000   2.000000   1.000000   1.250000  \n",
       "50%     90.000000   3.000000   2.000000   2.500000  \n",
       "75%    195.000000   4.000000   3.750000   4.000000  \n",
       "max    624.000000   5.000000   5.000000   5.000000  "
      ]
     },
     "execution_count": 21,
     "metadata": {},
     "output_type": "execute_result"
    }
   ],
   "source": [
    "sleep.describe()"
   ]
  },
  {
   "cell_type": "markdown",
   "metadata": {
    "id": "DqzkGVSaoT0b"
   },
   "source": [
    "Create a new variable that is a linear combination of other variables."
   ]
  },
  {
   "cell_type": "code",
   "execution_count": 28,
   "metadata": {
    "id": "wK8t9QrNosLv"
   },
   "outputs": [
    {
     "data": {
      "text/html": [
       "<div>\n",
       "<style scoped>\n",
       "    .dataframe tbody tr th:only-of-type {\n",
       "        vertical-align: middle;\n",
       "    }\n",
       "\n",
       "    .dataframe tbody tr th {\n",
       "        vertical-align: top;\n",
       "    }\n",
       "\n",
       "    .dataframe thead th {\n",
       "        text-align: right;\n",
       "    }\n",
       "</style>\n",
       "<table border=\"1\" class=\"dataframe\">\n",
       "  <thead>\n",
       "    <tr style=\"text-align: right;\">\n",
       "      <th></th>\n",
       "      <th>Animal</th>\n",
       "      <th>Body</th>\n",
       "      <th>Brain</th>\n",
       "      <th>SWsleep</th>\n",
       "      <th>Parasleep</th>\n",
       "      <th>Totsleep</th>\n",
       "      <th>Life</th>\n",
       "      <th>Gest</th>\n",
       "      <th>Pred</th>\n",
       "      <th>Exposure</th>\n",
       "      <th>Danger</th>\n",
       "      <th>allSleep</th>\n",
       "    </tr>\n",
       "  </thead>\n",
       "  <tbody>\n",
       "    <tr>\n",
       "      <th>0</th>\n",
       "      <td>African_giant_pouched_rat</td>\n",
       "      <td>1.000</td>\n",
       "      <td>6.6</td>\n",
       "      <td>6.3</td>\n",
       "      <td>2.0</td>\n",
       "      <td>8.3</td>\n",
       "      <td>4.5</td>\n",
       "      <td>42.0</td>\n",
       "      <td>3</td>\n",
       "      <td>1</td>\n",
       "      <td>3</td>\n",
       "      <td>8.3</td>\n",
       "    </tr>\n",
       "    <tr>\n",
       "      <th>1</th>\n",
       "      <td>Asian_elephant</td>\n",
       "      <td>2547.000</td>\n",
       "      <td>4603.0</td>\n",
       "      <td>2.1</td>\n",
       "      <td>1.8</td>\n",
       "      <td>3.9</td>\n",
       "      <td>69.0</td>\n",
       "      <td>624.0</td>\n",
       "      <td>3</td>\n",
       "      <td>5</td>\n",
       "      <td>4</td>\n",
       "      <td>3.9</td>\n",
       "    </tr>\n",
       "    <tr>\n",
       "      <th>2</th>\n",
       "      <td>Baboon</td>\n",
       "      <td>10.550</td>\n",
       "      <td>179.5</td>\n",
       "      <td>9.1</td>\n",
       "      <td>0.7</td>\n",
       "      <td>9.8</td>\n",
       "      <td>27.0</td>\n",
       "      <td>180.0</td>\n",
       "      <td>4</td>\n",
       "      <td>4</td>\n",
       "      <td>4</td>\n",
       "      <td>9.8</td>\n",
       "    </tr>\n",
       "    <tr>\n",
       "      <th>3</th>\n",
       "      <td>Big_brown_bat</td>\n",
       "      <td>0.023</td>\n",
       "      <td>0.3</td>\n",
       "      <td>15.8</td>\n",
       "      <td>3.9</td>\n",
       "      <td>19.7</td>\n",
       "      <td>19.0</td>\n",
       "      <td>35.0</td>\n",
       "      <td>1</td>\n",
       "      <td>1</td>\n",
       "      <td>1</td>\n",
       "      <td>19.7</td>\n",
       "    </tr>\n",
       "    <tr>\n",
       "      <th>4</th>\n",
       "      <td>Brazilian_tapir</td>\n",
       "      <td>160.000</td>\n",
       "      <td>169.0</td>\n",
       "      <td>5.2</td>\n",
       "      <td>1.0</td>\n",
       "      <td>6.2</td>\n",
       "      <td>30.4</td>\n",
       "      <td>392.0</td>\n",
       "      <td>4</td>\n",
       "      <td>5</td>\n",
       "      <td>4</td>\n",
       "      <td>6.2</td>\n",
       "    </tr>\n",
       "  </tbody>\n",
       "</table>\n",
       "</div>"
      ],
      "text/plain": [
       "                      Animal      Body   Brain  SWsleep  Parasleep  Totsleep  \\\n",
       "0  African_giant_pouched_rat     1.000     6.6      6.3        2.0       8.3   \n",
       "1             Asian_elephant  2547.000  4603.0      2.1        1.8       3.9   \n",
       "2                     Baboon    10.550   179.5      9.1        0.7       9.8   \n",
       "3              Big_brown_bat     0.023     0.3     15.8        3.9      19.7   \n",
       "4            Brazilian_tapir   160.000   169.0      5.2        1.0       6.2   \n",
       "\n",
       "   Life   Gest  Pred  Exposure  Danger  allSleep  \n",
       "0   4.5   42.0     3         1       3       8.3  \n",
       "1  69.0  624.0     3         5       4       3.9  \n",
       "2  27.0  180.0     4         4       4       9.8  \n",
       "3  19.0   35.0     1         1       1      19.7  \n",
       "4  30.4  392.0     4         5       4       6.2  "
      ]
     },
     "execution_count": 28,
     "metadata": {},
     "output_type": "execute_result"
    }
   ],
   "source": [
    "sleep['allSleep'] = sleep['SWsleep'] + sleep['Parasleep']\n",
    "sleep.head()"
   ]
  },
  {
   "cell_type": "markdown",
   "metadata": {
    "id": "9wUphwc2ostv"
   },
   "source": [
    "Create a new variable using the .apply() function."
   ]
  },
  {
   "cell_type": "code",
   "execution_count": 31,
   "metadata": {
    "id": "HbtajpAQpSsB"
   },
   "outputs": [
    {
     "data": {
      "text/html": [
       "<div>\n",
       "<style scoped>\n",
       "    .dataframe tbody tr th:only-of-type {\n",
       "        vertical-align: middle;\n",
       "    }\n",
       "\n",
       "    .dataframe tbody tr th {\n",
       "        vertical-align: top;\n",
       "    }\n",
       "\n",
       "    .dataframe thead th {\n",
       "        text-align: right;\n",
       "    }\n",
       "</style>\n",
       "<table border=\"1\" class=\"dataframe\">\n",
       "  <thead>\n",
       "    <tr style=\"text-align: right;\">\n",
       "      <th></th>\n",
       "      <th>Animal</th>\n",
       "      <th>Body</th>\n",
       "      <th>Brain</th>\n",
       "      <th>SWsleep</th>\n",
       "      <th>Parasleep</th>\n",
       "      <th>Totsleep</th>\n",
       "      <th>Life</th>\n",
       "      <th>Gest</th>\n",
       "      <th>Pred</th>\n",
       "      <th>Exposure</th>\n",
       "      <th>Danger</th>\n",
       "      <th>allSleep</th>\n",
       "    </tr>\n",
       "  </thead>\n",
       "  <tbody>\n",
       "    <tr>\n",
       "      <th>0</th>\n",
       "      <td>African_giant_pouched_rat</td>\n",
       "      <td>1.000</td>\n",
       "      <td>6.6</td>\n",
       "      <td>6.3</td>\n",
       "      <td>2.0</td>\n",
       "      <td>8.3</td>\n",
       "      <td>4.5</td>\n",
       "      <td>42.0</td>\n",
       "      <td>3</td>\n",
       "      <td>1</td>\n",
       "      <td>3</td>\n",
       "      <td>8</td>\n",
       "    </tr>\n",
       "    <tr>\n",
       "      <th>1</th>\n",
       "      <td>Asian_elephant</td>\n",
       "      <td>2547.000</td>\n",
       "      <td>4603.0</td>\n",
       "      <td>2.1</td>\n",
       "      <td>1.8</td>\n",
       "      <td>3.9</td>\n",
       "      <td>69.0</td>\n",
       "      <td>624.0</td>\n",
       "      <td>3</td>\n",
       "      <td>5</td>\n",
       "      <td>4</td>\n",
       "      <td>3</td>\n",
       "    </tr>\n",
       "    <tr>\n",
       "      <th>2</th>\n",
       "      <td>Baboon</td>\n",
       "      <td>10.550</td>\n",
       "      <td>179.5</td>\n",
       "      <td>9.1</td>\n",
       "      <td>0.7</td>\n",
       "      <td>9.8</td>\n",
       "      <td>27.0</td>\n",
       "      <td>180.0</td>\n",
       "      <td>4</td>\n",
       "      <td>4</td>\n",
       "      <td>4</td>\n",
       "      <td>9</td>\n",
       "    </tr>\n",
       "    <tr>\n",
       "      <th>3</th>\n",
       "      <td>Big_brown_bat</td>\n",
       "      <td>0.023</td>\n",
       "      <td>0.3</td>\n",
       "      <td>15.8</td>\n",
       "      <td>3.9</td>\n",
       "      <td>19.7</td>\n",
       "      <td>19.0</td>\n",
       "      <td>35.0</td>\n",
       "      <td>1</td>\n",
       "      <td>1</td>\n",
       "      <td>1</td>\n",
       "      <td>19</td>\n",
       "    </tr>\n",
       "    <tr>\n",
       "      <th>4</th>\n",
       "      <td>Brazilian_tapir</td>\n",
       "      <td>160.000</td>\n",
       "      <td>169.0</td>\n",
       "      <td>5.2</td>\n",
       "      <td>1.0</td>\n",
       "      <td>6.2</td>\n",
       "      <td>30.4</td>\n",
       "      <td>392.0</td>\n",
       "      <td>4</td>\n",
       "      <td>5</td>\n",
       "      <td>4</td>\n",
       "      <td>6</td>\n",
       "    </tr>\n",
       "  </tbody>\n",
       "</table>\n",
       "</div>"
      ],
      "text/plain": [
       "                      Animal      Body   Brain  SWsleep  Parasleep  Totsleep  \\\n",
       "0  African_giant_pouched_rat     1.000     6.6      6.3        2.0       8.3   \n",
       "1             Asian_elephant  2547.000  4603.0      2.1        1.8       3.9   \n",
       "2                     Baboon    10.550   179.5      9.1        0.7       9.8   \n",
       "3              Big_brown_bat     0.023     0.3     15.8        3.9      19.7   \n",
       "4            Brazilian_tapir   160.000   169.0      5.2        1.0       6.2   \n",
       "\n",
       "   Life   Gest  Pred  Exposure  Danger  allSleep  \n",
       "0   4.5   42.0     3         1       3         8  \n",
       "1  69.0  624.0     3         5       4         3  \n",
       "2  27.0  180.0     4         4       4         9  \n",
       "3  19.0   35.0     1         1       1        19  \n",
       "4  30.4  392.0     4         5       4         6  "
      ]
     },
     "execution_count": 31,
     "metadata": {},
     "output_type": "execute_result"
    }
   ],
   "source": [
    "sleep['allSleep'] = sleep['allSleep'].apply(lambda x: int(x))\n",
    "sleep.head()"
   ]
  },
  {
   "cell_type": "markdown",
   "metadata": {
    "id": "uLQiD_pXpS4Q"
   },
   "source": [
    "Create a new variable using if-then statments with .loc"
   ]
  },
  {
   "cell_type": "code",
   "execution_count": null,
   "metadata": {
    "id": "gzaD7rkjpb-5"
   },
   "outputs": [],
   "source": []
  },
  {
   "cell_type": "markdown",
   "metadata": {
    "id": "jiI41_j_pcNT"
   },
   "source": [
    "Add and and or statements to your if-then statement with .loc"
   ]
  },
  {
   "cell_type": "code",
   "execution_count": 39,
   "metadata": {
    "id": "jZUAwgcXpiIa"
   },
   "outputs": [
    {
     "data": {
      "text/html": [
       "<div>\n",
       "<style scoped>\n",
       "    .dataframe tbody tr th:only-of-type {\n",
       "        vertical-align: middle;\n",
       "    }\n",
       "\n",
       "    .dataframe tbody tr th {\n",
       "        vertical-align: top;\n",
       "    }\n",
       "\n",
       "    .dataframe thead th {\n",
       "        text-align: right;\n",
       "    }\n",
       "</style>\n",
       "<table border=\"1\" class=\"dataframe\">\n",
       "  <thead>\n",
       "    <tr style=\"text-align: right;\">\n",
       "      <th></th>\n",
       "      <th>Animal</th>\n",
       "      <th>Body</th>\n",
       "      <th>Brain</th>\n",
       "      <th>SWsleep</th>\n",
       "      <th>Parasleep</th>\n",
       "      <th>Totsleep</th>\n",
       "      <th>Life</th>\n",
       "      <th>Gest</th>\n",
       "      <th>Pred</th>\n",
       "      <th>Exposure</th>\n",
       "      <th>Danger</th>\n",
       "      <th>allSleep</th>\n",
       "      <th>sleepRate</th>\n",
       "    </tr>\n",
       "  </thead>\n",
       "  <tbody>\n",
       "    <tr>\n",
       "      <th>0</th>\n",
       "      <td>African_giant_pouched_rat</td>\n",
       "      <td>1.000</td>\n",
       "      <td>6.6</td>\n",
       "      <td>6.3</td>\n",
       "      <td>2.0</td>\n",
       "      <td>8.3</td>\n",
       "      <td>4.5</td>\n",
       "      <td>42.0</td>\n",
       "      <td>3</td>\n",
       "      <td>1</td>\n",
       "      <td>3</td>\n",
       "      <td>8</td>\n",
       "      <td>1.0</td>\n",
       "    </tr>\n",
       "    <tr>\n",
       "      <th>1</th>\n",
       "      <td>Asian_elephant</td>\n",
       "      <td>2547.000</td>\n",
       "      <td>4603.0</td>\n",
       "      <td>2.1</td>\n",
       "      <td>1.8</td>\n",
       "      <td>3.9</td>\n",
       "      <td>69.0</td>\n",
       "      <td>624.0</td>\n",
       "      <td>3</td>\n",
       "      <td>5</td>\n",
       "      <td>4</td>\n",
       "      <td>3</td>\n",
       "      <td>0.0</td>\n",
       "    </tr>\n",
       "    <tr>\n",
       "      <th>2</th>\n",
       "      <td>Baboon</td>\n",
       "      <td>10.550</td>\n",
       "      <td>179.5</td>\n",
       "      <td>9.1</td>\n",
       "      <td>0.7</td>\n",
       "      <td>9.8</td>\n",
       "      <td>27.0</td>\n",
       "      <td>180.0</td>\n",
       "      <td>4</td>\n",
       "      <td>4</td>\n",
       "      <td>4</td>\n",
       "      <td>9</td>\n",
       "      <td>1.0</td>\n",
       "    </tr>\n",
       "    <tr>\n",
       "      <th>3</th>\n",
       "      <td>Big_brown_bat</td>\n",
       "      <td>0.023</td>\n",
       "      <td>0.3</td>\n",
       "      <td>15.8</td>\n",
       "      <td>3.9</td>\n",
       "      <td>19.7</td>\n",
       "      <td>19.0</td>\n",
       "      <td>35.0</td>\n",
       "      <td>1</td>\n",
       "      <td>1</td>\n",
       "      <td>1</td>\n",
       "      <td>19</td>\n",
       "      <td>0.0</td>\n",
       "    </tr>\n",
       "    <tr>\n",
       "      <th>4</th>\n",
       "      <td>Brazilian_tapir</td>\n",
       "      <td>160.000</td>\n",
       "      <td>169.0</td>\n",
       "      <td>5.2</td>\n",
       "      <td>1.0</td>\n",
       "      <td>6.2</td>\n",
       "      <td>30.4</td>\n",
       "      <td>392.0</td>\n",
       "      <td>4</td>\n",
       "      <td>5</td>\n",
       "      <td>4</td>\n",
       "      <td>6</td>\n",
       "      <td>1.0</td>\n",
       "    </tr>\n",
       "  </tbody>\n",
       "</table>\n",
       "</div>"
      ],
      "text/plain": [
       "                      Animal      Body   Brain  SWsleep  Parasleep  Totsleep  \\\n",
       "0  African_giant_pouched_rat     1.000     6.6      6.3        2.0       8.3   \n",
       "1             Asian_elephant  2547.000  4603.0      2.1        1.8       3.9   \n",
       "2                     Baboon    10.550   179.5      9.1        0.7       9.8   \n",
       "3              Big_brown_bat     0.023     0.3     15.8        3.9      19.7   \n",
       "4            Brazilian_tapir   160.000   169.0      5.2        1.0       6.2   \n",
       "\n",
       "   Life   Gest  Pred  Exposure  Danger  allSleep  sleepRate  \n",
       "0   4.5   42.0     3         1       3         8        1.0  \n",
       "1  69.0  624.0     3         5       4         3        0.0  \n",
       "2  27.0  180.0     4         4       4         9        1.0  \n",
       "3  19.0   35.0     1         1       1        19        0.0  \n",
       "4  30.4  392.0     4         5       4         6        1.0  "
      ]
     },
     "execution_count": 39,
     "metadata": {},
     "output_type": "execute_result"
    }
   ],
   "source": [
    "sleep.loc[(sleep['allSleep'] > 10) | (sleep['allSleep'] < 5), 'sleepRate'] = 0\n",
    "sleep.loc[(sleep['allSleep'] <= 10) & (sleep['allSleep'] >= 5), 'sleepRate'] = 1\n",
    "sleep.head()"
   ]
  },
  {
   "cell_type": "markdown",
   "metadata": {
    "id": "TSzazmW1piUj"
   },
   "source": [
    "Convert a date to a datetime format."
   ]
  },
  {
   "cell_type": "code",
   "execution_count": 45,
   "metadata": {
    "id": "bZu1fB6Qraqr"
   },
   "outputs": [
    {
     "data": {
      "text/plain": [
       "datetime.datetime(2020, 2, 20, 0, 0)"
      ]
     },
     "execution_count": 45,
     "metadata": {},
     "output_type": "execute_result"
    }
   ],
   "source": [
    "import datetime as dt\n",
    "\n",
    "dt.datetime(2020, 2, 20)"
   ]
  },
  {
   "cell_type": "markdown",
   "metadata": {
    "id": "wzarAGNkrGyh"
   },
   "source": [
    "Make a histogram"
   ]
  },
  {
   "cell_type": "code",
   "execution_count": 46,
   "metadata": {
    "id": "fIPPUOP0rG97"
   },
   "outputs": [
    {
     "data": {
      "text/plain": [
       "(array([5., 2., 3., 7., 9., 2., 5., 3., 2., 4.]),\n",
       " array([ 2. ,  3.7,  5.4,  7.1,  8.8, 10.5, 12.2, 13.9, 15.6, 17.3, 19. ]),\n",
       " <BarContainer object of 10 artists>)"
      ]
     },
     "execution_count": 46,
     "metadata": {},
     "output_type": "execute_result"
    },
    {
     "data": {
      "image/png": "[encoded data removed]",
      "text/plain": [
       "<Figure size 432x288 with 1 Axes>"
      ]
     },
     "metadata": {
      "needs_background": "light"
     },
     "output_type": "display_data"
    }
   ],
   "source": [
    "fig, ax = plt.subplots()\n",
    "ax.hist(sleep['allSleep'])"
   ]
  },
  {
   "cell_type": "markdown",
   "metadata": {
    "id": "_q0dSVW3Nsms"
   },
   "source": [
    "Make a box plot"
   ]
  },
  {
   "cell_type": "code",
   "execution_count": 49,
   "metadata": {
    "id": "f7QCHb6xNv4v"
   },
   "outputs": [
    {
     "data": {
      "text/plain": [
       "{'whiskers': [<matplotlib.lines.Line2D at 0x1a741a4c190>,\n",
       "  <matplotlib.lines.Line2D at 0x1a741e23280>],\n",
       " 'caps': [<matplotlib.lines.Line2D at 0x1a743d8cb50>,\n",
       "  <matplotlib.lines.Line2D at 0x1a743399ee0>],\n",
       " 'boxes': [<matplotlib.lines.Line2D at 0x1a741a487f0>],\n",
       " 'medians': [<matplotlib.lines.Line2D at 0x1a741fc8760>],\n",
       " 'fliers': [<matplotlib.lines.Line2D at 0x1a741fc8370>],\n",
       " 'means': []}"
      ]
     },
     "execution_count": 49,
     "metadata": {},
     "output_type": "execute_result"
    },
    {
     "data": {
      "image/png": "[encoded data removed]",
      "text/plain": [
       "<Figure size 432x288 with 1 Axes>"
      ]
     },
     "metadata": {
      "needs_background": "light"
     },
     "output_type": "display_data"
    }
   ],
   "source": [
    "fig, ax = plt.subplots()\n",
    "ax.boxplot(sleep['allSleep'], vert = False)"
   ]
  },
  {
   "cell_type": "markdown",
   "metadata": {
    "id": "5l623djktvYg"
   },
   "source": [
    "Make a bar plot"
   ]
  },
  {
   "cell_type": "code",
   "execution_count": 60,
   "metadata": {
    "id": "bcdFHrFOtyzE"
   },
   "outputs": [
    {
     "name": "stdout",
     "output_type": "stream",
     "text": [
      "8     7\n",
      "9     5\n",
      "13    5\n",
      "3     4\n",
      "19    4\n",
      "10    4\n",
      "6     3\n",
      "14    2\n",
      "12    2\n",
      "17    2\n",
      "5     2\n",
      "2     1\n",
      "15    1\n",
      "Name: allSleep, dtype: int64\n"
     ]
    },
    {
     "data": {
      "text/plain": [
       "<BarContainer object of 42 artists>"
      ]
     },
     "execution_count": 60,
     "metadata": {},
     "output_type": "execute_result"
    },
    {
     "data": {
      "image/png": "[encoded data removed]",
      "text/plain": [
       "<Figure size 432x288 with 1 Axes>"
      ]
     },
     "metadata": {
      "needs_background": "light"
     },
     "output_type": "display_data"
    }
   ],
   "source": [
    "fig, ax = plt.subplots()\n",
    "print(sleep['allSleep'].value_counts())\n",
    "ax.bar(sleep['allSleep'], sleep.index)"
   ]
  },
  {
   "cell_type": "markdown",
   "metadata": {
    "id": "ZunmkAzDty-Q"
   },
   "source": [
    "Make a line plot"
   ]
  },
  {
   "cell_type": "code",
   "execution_count": 61,
   "metadata": {
    "id": "iUUR_m3LuHL2"
   },
   "outputs": [
    {
     "data": {
      "text/plain": [
       "[<matplotlib.lines.Line2D at 0x1a744f307c0>]"
      ]
     },
     "execution_count": 61,
     "metadata": {},
     "output_type": "execute_result"
    },
    {
     "data": {
      "image/png": "[encoded data removed]",
      "text/plain": [
       "<Figure size 432x288 with 1 Axes>"
      ]
     },
     "metadata": {
      "needs_background": "light"
     },
     "output_type": "display_data"
    }
   ],
   "source": [
    "fig, ax = plt.subplots()\n",
    "ax.plot(sleep['allSleep'])"
   ]
  },
  {
   "cell_type": "markdown",
   "metadata": {
    "id": "yrpxkNbRuHXd"
   },
   "source": [
    "Print axis and figure legends"
   ]
  },
  {
   "cell_type": "code",
   "execution_count": null,
   "metadata": {
    "id": "Aj5E84MAuR3Z"
   },
   "outputs": [],
   "source": []
  },
  {
   "cell_type": "markdown",
   "metadata": {
    "id": "e2zgIRceuSDg"
   },
   "source": [
    "Identify missing data in a dataframe."
   ]
  }
 ],
 "metadata": {
  "colab": {
   "collapsed_sections": [],
   "name": "Unit 1 Sprint 1 - Study Guide.ipynb",
   "provenance": [
    {
     "file_id": "1lAICG6khpXBJmRXvaMlctWrxm8QhxI5R",
     "timestamp": 1601310442388
    },
    {
     "file_id": "10T4m64dmfLsGA91j2v5c5yG7rUzBqB2Q",
     "timestamp": 1578879651220
    },
    {
     "file_id": "1SGnO8ZjDtlDUKnPMbzT9QHCO4Fne-fyB",
     "timestamp": 1573058832416
    }
   ]
  },
  "kernelspec": {
   "display_name": "Python 3 (ipykernel)",
   "language": "python",
   "name": "python3"
  },
  "language_info": {
   "codemirror_mode": {
    "name": "ipython",
    "version": 3
   },
   "file_extension": ".py",
   "mimetype": "text/x-python",
   "name": "python",
   "nbconvert_exporter": "python",
   "pygments_lexer": "ipython3",
   "version": "3.9.7"
  }
 },
 "nbformat": 4,
 "nbformat_minor": 1
}
