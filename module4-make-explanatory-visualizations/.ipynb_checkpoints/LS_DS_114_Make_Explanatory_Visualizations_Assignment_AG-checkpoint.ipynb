{
 "cells": [
  {
   "cell_type": "markdown",
   "metadata": {},
   "source": [
    "## Autograded Notebook (Canvas & CodeGrade)\n",
    "\n",
    "This notebook will be automatically graded. It is designed to test your answers and award points for the correct answers. Following the instructions for each Task carefully.\n",
    "\n",
    "### Instructions\n",
    "\n",
    "* **Download this notebook** as you would any other ipynb file\n",
    "* **Upload** to Google Colab or work locally (if you have that set-up)\n",
    "* **Delete `raise NotImplementedError()`**\n",
    "* Write your code in the `# YOUR CODE HERE` space\n",
    "* **Execute** the Test cells that contain `assert` statements - these help you check your work (others contain hidden tests that will be checked when you submit through Canvas)\n",
    "* **Save** your notebook when you are finished\n",
    "* **Download** as a `ipynb` file (if working in Colab)\n",
    "* **Upload** your complete notebook to Canvas (there will be additional instructions in Slack and/or Canvas)"
   ]
  },
  {
   "cell_type": "markdown",
   "metadata": {
    "id": "-8-trVo__vRE"
   },
   "source": [
    "# Lambda School Data Science - Unit 1 Sprint 1 Module 4\n",
    "\n",
    "## Make Explanatory Visualizations\n",
    "\n",
    "### Module Learning Objectives\n",
    "\n",
    "- Identify the appropriate visualization type for a particular variable type and research question \n",
    "- Use Matplotlib to visualize distributions and relationships with continuous and discrete variables\n",
    "- Add emphasis and annotations to transform visualizations from exploratory to explanatory\n",
    "- Remove clutter from visualizations\n",
    "- Identify misleading visualizations and how to fix them\n",
    "\n",
    "### Notebook points: 5"
   ]
  },
  {
   "cell_type": "markdown",
   "metadata": {
    "id": "9harOhCr93VC"
   },
   "source": [
    "### Introduction\n",
    "\n",
    "The first few modules in this Sprint have focused on exploring datasets, manipulating DataFrames, and creating new features. Now we're going to create some visualizations!\n",
    "\n",
    "### Dataset Description\n",
    "\n",
    "Researchers recorded data on sleep duration as well as a set of ecological and constitutional variables for a selection of mammal species.\n",
    "\n",
    "The data dictionary can be accessed here: https://github.com/LambdaSchool/data-science-practice-datasets/tree/main/unit_1/Sleep in the READ ME file.\n",
    "\n",
    "*Source: Allison, T. and Cicchetti, D. (1976), \"Sleep in Mammals: Ecological and Constitutional Correlates\", Science, November 12, vol. 194, pp. 732-734.*\n"
   ]
  },
  {
   "cell_type": "markdown",
   "metadata": {
    "id": "8LPohEc5sv7J"
   },
   "source": [
    "**Task 1** -  Import the `sleep.csv` file and load it as a DataFrame named `Sleep`.\n",
    "* Don't forget to include any import statements you need to create a DataFrame from a .csv file\n",
    "* The `sleep.csv` file can be accessed using `sleep_url` which is provided for you\n",
    "* Load the `sleep.csv` file and as a DataFrame named `Sleep`\n",
    "* Print the first 5 rows of `Sleep`"
   ]
  },
  {
   "cell_type": "code",
   "execution_count": 16,
   "metadata": {
    "colab": {
     "base_uri": "https://localhost:8080/",
     "height": 204
    },
    "deletable": false,
    "id": "ihNRKzhzs7_C",
    "nbgrader": {
     "cell_type": "code",
     "checksum": "e9868996bc4efd7948e8d04c9b4d44bd",
     "grade": false,
     "grade_id": "cell-565969801f9af810",
     "locked": false,
     "schema_version": 3,
     "solution": true,
     "task": false
    },
    "outputId": "ac140e85-ba35-4e1a-8517-6ce486432b26"
   },
   "outputs": [
    {
     "name": "stdout",
     "output_type": "stream",
     "text": [
      "(42, 11)\n"
     ]
    },
    {
     "data": {
      "text/html": [
       "<div>\n",
       "<style scoped>\n",
       "    .dataframe tbody tr th:only-of-type {\n",
       "        vertical-align: middle;\n",
       "    }\n",
       "\n",
       "    .dataframe tbody tr th {\n",
       "        vertical-align: top;\n",
       "    }\n",
       "\n",
       "    .dataframe thead th {\n",
       "        text-align: right;\n",
       "    }\n",
       "</style>\n",
       "<table border=\"1\" class=\"dataframe\">\n",
       "  <thead>\n",
       "    <tr style=\"text-align: right;\">\n",
       "      <th></th>\n",
       "      <th>Animal</th>\n",
       "      <th>Body</th>\n",
       "      <th>Brain</th>\n",
       "      <th>SWsleep</th>\n",
       "      <th>Parasleep</th>\n",
       "      <th>Totsleep</th>\n",
       "      <th>Life</th>\n",
       "      <th>Gest</th>\n",
       "      <th>Pred</th>\n",
       "      <th>Exposure</th>\n",
       "      <th>Danger</th>\n",
       "    </tr>\n",
       "  </thead>\n",
       "  <tbody>\n",
       "    <tr>\n",
       "      <th>0</th>\n",
       "      <td>African_giant_pouched_rat</td>\n",
       "      <td>1.000</td>\n",
       "      <td>6.6</td>\n",
       "      <td>6.3</td>\n",
       "      <td>2.0</td>\n",
       "      <td>8.3</td>\n",
       "      <td>4.5</td>\n",
       "      <td>42.0</td>\n",
       "      <td>3</td>\n",
       "      <td>1</td>\n",
       "      <td>3</td>\n",
       "    </tr>\n",
       "    <tr>\n",
       "      <th>1</th>\n",
       "      <td>Asian_elephant</td>\n",
       "      <td>2547.000</td>\n",
       "      <td>4603.0</td>\n",
       "      <td>2.1</td>\n",
       "      <td>1.8</td>\n",
       "      <td>3.9</td>\n",
       "      <td>69.0</td>\n",
       "      <td>624.0</td>\n",
       "      <td>3</td>\n",
       "      <td>5</td>\n",
       "      <td>4</td>\n",
       "    </tr>\n",
       "    <tr>\n",
       "      <th>2</th>\n",
       "      <td>Baboon</td>\n",
       "      <td>10.550</td>\n",
       "      <td>179.5</td>\n",
       "      <td>9.1</td>\n",
       "      <td>0.7</td>\n",
       "      <td>9.8</td>\n",
       "      <td>27.0</td>\n",
       "      <td>180.0</td>\n",
       "      <td>4</td>\n",
       "      <td>4</td>\n",
       "      <td>4</td>\n",
       "    </tr>\n",
       "    <tr>\n",
       "      <th>3</th>\n",
       "      <td>Big_brown_bat</td>\n",
       "      <td>0.023</td>\n",
       "      <td>0.3</td>\n",
       "      <td>15.8</td>\n",
       "      <td>3.9</td>\n",
       "      <td>19.7</td>\n",
       "      <td>19.0</td>\n",
       "      <td>35.0</td>\n",
       "      <td>1</td>\n",
       "      <td>1</td>\n",
       "      <td>1</td>\n",
       "    </tr>\n",
       "    <tr>\n",
       "      <th>4</th>\n",
       "      <td>Brazilian_tapir</td>\n",
       "      <td>160.000</td>\n",
       "      <td>169.0</td>\n",
       "      <td>5.2</td>\n",
       "      <td>1.0</td>\n",
       "      <td>6.2</td>\n",
       "      <td>30.4</td>\n",
       "      <td>392.0</td>\n",
       "      <td>4</td>\n",
       "      <td>5</td>\n",
       "      <td>4</td>\n",
       "    </tr>\n",
       "  </tbody>\n",
       "</table>\n",
       "</div>"
      ],
      "text/plain": [
       "                      Animal      Body   Brain  SWsleep  Parasleep  Totsleep  \\\n",
       "0  African_giant_pouched_rat     1.000     6.6      6.3        2.0       8.3   \n",
       "1             Asian_elephant  2547.000  4603.0      2.1        1.8       3.9   \n",
       "2                     Baboon    10.550   179.5      9.1        0.7       9.8   \n",
       "3              Big_brown_bat     0.023     0.3     15.8        3.9      19.7   \n",
       "4            Brazilian_tapir   160.000   169.0      5.2        1.0       6.2   \n",
       "\n",
       "   Life   Gest  Pred  Exposure  Danger  \n",
       "0   4.5   42.0     3         1       3  \n",
       "1  69.0  624.0     3         5       4  \n",
       "2  27.0  180.0     4         4       4  \n",
       "3  19.0   35.0     1         1       1  \n",
       "4  30.4  392.0     4         5       4  "
      ]
     },
     "execution_count": 16,
     "metadata": {},
     "output_type": "execute_result"
    }
   ],
   "source": [
    "# Task 1 \n",
    "\n",
    "# Access sleep.csv with this url\n",
    "sleep_url = 'https://raw.githubusercontent.com/LambdaSchool/data-science-practice-datasets/main/unit_1/Sleep/Sleep.csv'\n",
    "\n",
    "# Read in the sleep.csv file included above as a DataFrame named Sleep and print the first 5 rows.\n",
    "# Don't forget any necessary import statements.\n",
    "import pandas as pd\n",
    "\n",
    "# YOUR CODE HERE\n",
    "# raise NotImplementedError()\n",
    "Sleep = pd.read_csv(sleep_url)\n",
    "\n",
    "# View the DataFrame\n",
    "print(Sleep.shape)\n",
    "Sleep.head()"
   ]
  },
  {
   "cell_type": "markdown",
   "metadata": {
    "id": "mkPTF-66RFnh"
   },
   "source": [
    "**Task 1 Test**"
   ]
  },
  {
   "cell_type": "code",
   "execution_count": 17,
   "metadata": {
    "deletable": false,
    "editable": false,
    "id": "btcEJXxCMixT",
    "nbgrader": {
     "cell_type": "code",
     "checksum": "4993033fb98caa40114c4ed8f2788d64",
     "grade": true,
     "grade_id": "cell-22e1084a89e39897",
     "locked": true,
     "points": 1,
     "schema_version": 3,
     "solution": false,
     "task": false
    }
   },
   "outputs": [],
   "source": [
    "# Task 1 - Test\n",
    "\n",
    "assert isinstance(Sleep, pd.DataFrame), 'Have you created a DataFrame named `Sleep` (check your capitalization)?'\n",
    "assert len(Sleep) == 42\n"
   ]
  },
  {
   "cell_type": "markdown",
   "metadata": {
    "id": "R03kMCWNumQQ"
   },
   "source": [
    "**Task 2** - Plot a histogram of `Parasleep`, which is the number of hours of dreaming sleep each mammal slept during a 24-hour period.\n",
    "* The import statements to `import matplotlib.pyplot as plt` and `import seaborn as sns` are included for you.\n",
    "* Use the template below and **replace the #### as specified in the instructions**\n",
    "* Plot a histogram of `Parasleep` from the `Sleep` DataFrame\n",
    "* The x-axis label should read `'Total hours of dreaming sleep'`\n",
    "* The y-label should read `'Frequency`'\n",
    "* The title should read `'Daily dreaming sleep in mammal species'`\n",
    "\n",
    "**Note:** UNCOMMENT code lines to complete the plotting task"
   ]
  },
  {
   "cell_type": "code",
   "execution_count": 18,
   "metadata": {
    "colab": {
     "base_uri": "https://localhost:8080/",
     "height": 269
    },
    "id": "l_otHLWgStmT",
    "outputId": "4e15914f-642e-4c67-e556-c7df4710aa54"
   },
   "outputs": [
    {
     "data": {
      "image/png": "[encoded data removed]",
      "text/plain": [
       "<Figure size 432x288 with 1 Axes>"
      ]
     },
     "metadata": {
      "needs_background": "light"
     },
     "output_type": "display_data"
    }
   ],
   "source": [
    "# Task 2\n",
    "\n",
    "# UNCOMMENT the code lines to complete the Task\n",
    "\n",
    "# Import matplotlib and seaborn\n",
    "import matplotlib.pyplot as plt\n",
    "import seaborn as sns\n",
    "\n",
    "fig, ax = plt.subplots()\n",
    "\n",
    "# Plot a histogram of Parasleep from the Sleep DataFrame\n",
    "ax.hist(Sleep['Parasleep'])\n",
    "\n",
    "# Specify the axis labels and plot title\n",
    "ax.set_xlabel('Total hous of dreaming sleep') \n",
    "ax.set_ylabel('Frequency') \n",
    "ax.set_title('Daily dreaming sleep in mammal species') \n",
    "\n",
    "plt.show()"
   ]
  },
  {
   "cell_type": "code",
   "execution_count": null,
   "metadata": {
    "deletable": false,
    "id": "RrmIA3F493VF",
    "nbgrader": {
     "cell_type": "code",
     "checksum": "92e82f5e0e2aac0cda080c17b6e8c091",
     "grade": false,
     "grade_id": "cell-a99053d0685466ef",
     "locked": false,
     "schema_version": 3,
     "solution": true,
     "task": false
    },
    "outputId": "f603f214-1b34-4a21-c639-eb883d6dd275"
   },
   "outputs": [],
   "source": [
    "# Task 2 SOLUTION \n",
    "\n",
    "# IGNORE the YOUR CODE HERE - your code is completed above\n",
    "# You will see this solution when you submit the notebook\n",
    "\n",
    "# YOUR CODE HERE\n",
    "raise NotImplementedError()"
   ]
  },
  {
   "cell_type": "markdown",
   "metadata": {
    "id": "AyNFAYzYjFSA"
   },
   "source": [
    "**Task 3** - Prepare `Sleep` data for plotting\n",
    "\n",
    "* Create a subset of `Sleep` that includes only records of mammals in `Danger` category 1.  Name this DataFrame `Danger_1`\n",
    "* Create a subset of `Sleep` that includes only records of mammals in `Danger` category 5.  Name this DataFrame `Danger_5`"
   ]
  },
  {
   "cell_type": "code",
   "execution_count": 20,
   "metadata": {
    "deletable": false,
    "id": "thH2y_ik93VG",
    "nbgrader": {
     "cell_type": "code",
     "checksum": "1f4529bed205ff7e5a13e4f441f07ce3",
     "grade": false,
     "grade_id": "cell-337cd8cb51d5f637",
     "locked": false,
     "schema_version": 3,
     "solution": true,
     "task": false
    },
    "outputId": "2cc0e8e8-509c-4342-9c0a-ea94e1e74574"
   },
   "outputs": [
    {
     "name": "stdout",
     "output_type": "stream",
     "text": [
      "1    11\n",
      "2    10\n",
      "4     9\n",
      "3     7\n",
      "5     5\n",
      "Name: Danger, dtype: int64\n",
      "                   Animal    Body  Brain  SWsleep  Parasleep  Totsleep  Life  \\\n",
      "3           Big_brown_bat   0.023    0.3     15.8        3.9      19.7  19.0   \n",
      "5                     Cat   3.300   25.6     10.9        3.6      14.5  28.0   \n",
      "6              Chimpanzee  52.160  440.0      8.3        1.4       9.7  50.0   \n",
      "9   Eastern_American_mole   0.075    1.2      6.3        2.1       8.4   3.5   \n",
      "15              Gray_seal  85.000  325.0      4.7        1.5       6.2  41.0   \n",
      "\n",
      "     Gest  Pred  Exposure  Danger  \n",
      "3    35.0     1         1       1  \n",
      "5    63.0     1         2       1  \n",
      "6   230.0     1         1       1  \n",
      "9    42.0     1         1       1  \n",
      "15  310.0     1         3       1  \n",
      "    Animal    Body  Brain  SWsleep  Parasleep  Totsleep  Life   Gest  Pred  \\\n",
      "8      Cow  465.00  423.0      3.2        0.7       3.9  30.0  281.0     5   \n",
      "13    Goat   27.66  115.0      3.3        0.5       3.8  20.0  148.0     5   \n",
      "18   Horse  521.00  655.0      2.1        0.8       2.9  46.0  336.0     5   \n",
      "30  Rabbit    2.50   12.1      7.5        0.9       8.4  18.0   31.0     5   \n",
      "36   Sheep   55.50  175.0      3.2        0.6       3.8  20.0  151.0     5   \n",
      "\n",
      "    Exposure  Danger  \n",
      "8          5       5  \n",
      "13         5       5  \n",
      "18         5       5  \n",
      "30         5       5  \n",
      "36         5       5  \n"
     ]
    }
   ],
   "source": [
    "# Task 3\n",
    "\n",
    "# Set up danger category 1 and danger category 5\n",
    "\n",
    "# YOUR CODE HERE\n",
    "# raise NotImplementedError()\n",
    "Danger_1 = Sleep[Sleep['Danger'] == 1]\n",
    "Danger_5 = Sleep[Sleep['Danger'] == 5]\n",
    "\n",
    "print(Sleep['Danger'].value_counts())\n",
    "# View your DataFrames\n",
    "print(Danger_1.head())\n",
    "print(Danger_5.head())"
   ]
  },
  {
   "cell_type": "markdown",
   "metadata": {
    "id": "uvRK50IS93VG"
   },
   "source": [
    "**Task 3 Test**"
   ]
  },
  {
   "cell_type": "code",
   "execution_count": null,
   "metadata": {
    "deletable": false,
    "editable": false,
    "id": "fTa9GpVD93VG",
    "nbgrader": {
     "cell_type": "code",
     "checksum": "88d595666a3c45fbcf3850d663c3cb95",
     "grade": true,
     "grade_id": "cell-c3505d0306800048",
     "locked": true,
     "points": 1,
     "schema_version": 3,
     "solution": false,
     "task": false
    }
   },
   "outputs": [],
   "source": [
    "# Task 3 - Test\n",
    "\n",
    "assert isinstance(Danger_1, pd.DataFrame), 'Have you created a DataFrame named Danger_1 (check your capitalization)?'\n",
    "assert isinstance(Danger_5, pd.DataFrame), 'Have you created a DataFrame named Danger_5 (check your capitalization)?'\n"
   ]
  },
  {
   "cell_type": "markdown",
   "metadata": {
    "id": "ndqDsmeQ93VG"
   },
   "source": [
    "**Task 4** - Plot side-by-side box plots of `Parasleep` to compare the distribution of `Parasleep` for mammals in `Danger` category 1 and `Danger` category 5.\n",
    "\n",
    "Use the template below and **replace the #### as specified in the instructions**\n",
    "\n",
    "* Plot side-by-side boxplots of `Parasleep` from the `Sleep` DataFrame that shows the distribution of `Parasleep` separately for mammals in `Danger` categories 1 and 5.\n",
    "* Label the boxplots `'Least danger'` and `'Most danger'`\n",
    "* The x-axis label should read `'Total hours of dreaming sleep'`\n",
    "* The y-label should read `'Danger category`'\n",
    "* The title should read `'Daily dreaming sleep in mammal species'`\n",
    "* The `vert` parameter in the boxplot should be set to `False`.\n",
    "\n",
    "**The plotting code will not be autograded** but it is still required for completing the project."
   ]
  },
  {
   "cell_type": "code",
   "execution_count": 21,
   "metadata": {
    "colab": {
     "base_uri": "https://localhost:8080/",
     "height": 349
    },
    "id": "4H948LYYwa0p",
    "outputId": "ece48d15-4889-4878-f693-f97d6d3ba2a4"
   },
   "outputs": [
    {
     "data": {
      "image/png": "[encoded data removed]",
      "text/plain": [
       "<Figure size 432x288 with 1 Axes>"
      ]
     },
     "metadata": {
      "needs_background": "light"
     },
     "output_type": "display_data"
    }
   ],
   "source": [
    "# Task 4 - Plotting\n",
    "\n",
    "# UNCOMMENT the code lines to complete the Task\n",
    "\n",
    "fig, ax = plt.subplots()\n",
    "\n",
    "# Plot the side-by-side boxplots           \n",
    "ax.boxplot([Danger_1['Parasleep'] , Danger_5['Parasleep']], labels=['Least danger','Most danger'], vert = False)\n",
    "\n",
    "# Label the figure\n",
    "ax.set_xlabel('Hours of dreaming sleep')\n",
    "ax.set_ylabel('Danger category')\n",
    "ax.set_title('Dreaming sleep for mammals that experience low and high levels of danger')\n",
    "\n",
    "plt.show()"
   ]
  },
  {
   "cell_type": "code",
   "execution_count": null,
   "metadata": {
    "deletable": false,
    "id": "cMM6540e93VH",
    "nbgrader": {
     "cell_type": "code",
     "checksum": "322a79a90aaaefcc81f2daa1b43f44b3",
     "grade": false,
     "grade_id": "cell-5ba7c2434d312bda",
     "locked": false,
     "schema_version": 3,
     "solution": true,
     "task": false
    },
    "outputId": "d2936779-eab4-4454-a647-f7aa0438db1c"
   },
   "outputs": [],
   "source": [
    "# Task 4 SOLUTION\n",
    "\n",
    "# IGNORE the YOUR CODE HERE - your code is completed above\n",
    "# You will see this solution when you submit the notebook\n",
    "\n",
    "# YOUR CODE HERE\n",
    "raise NotImplementedError()"
   ]
  },
  {
   "cell_type": "markdown",
   "metadata": {
    "id": "IlBlDifc93VH"
   },
   "source": [
    "**Task 5** - Sort the `Sleep` DataFrame\n",
    "\n",
    "* Sort the `Sleep` DataFrame by `Gest`.  Name the sorted DataFrame `Sleep_sorted`"
   ]
  },
  {
   "cell_type": "code",
   "execution_count": 24,
   "metadata": {
    "deletable": false,
    "id": "f_LquzlJ93VI",
    "nbgrader": {
     "cell_type": "code",
     "checksum": "245a5dd5e452e92851011431b798da11",
     "grade": false,
     "grade_id": "cell-c0ab45b6dbe40522",
     "locked": false,
     "schema_version": 3,
     "solution": true,
     "task": false
    },
    "outputId": "4d844a44-ee6a-4ba4-f18f-0e51a8e66e26"
   },
   "outputs": [
    {
     "data": {
      "text/html": [
       "<div>\n",
       "<style scoped>\n",
       "    .dataframe tbody tr th:only-of-type {\n",
       "        vertical-align: middle;\n",
       "    }\n",
       "\n",
       "    .dataframe tbody tr th {\n",
       "        vertical-align: top;\n",
       "    }\n",
       "\n",
       "    .dataframe thead th {\n",
       "        text-align: right;\n",
       "    }\n",
       "</style>\n",
       "<table border=\"1\" class=\"dataframe\">\n",
       "  <thead>\n",
       "    <tr style=\"text-align: right;\">\n",
       "      <th></th>\n",
       "      <th>Animal</th>\n",
       "      <th>Body</th>\n",
       "      <th>Brain</th>\n",
       "      <th>SWsleep</th>\n",
       "      <th>Parasleep</th>\n",
       "      <th>Totsleep</th>\n",
       "      <th>Life</th>\n",
       "      <th>Gest</th>\n",
       "      <th>Pred</th>\n",
       "      <th>Exposure</th>\n",
       "      <th>Danger</th>\n",
       "    </tr>\n",
       "  </thead>\n",
       "  <tbody>\n",
       "    <tr>\n",
       "      <th>24</th>\n",
       "      <td>N_American_opossum</td>\n",
       "      <td>1.700</td>\n",
       "      <td>6.3</td>\n",
       "      <td>13.8</td>\n",
       "      <td>5.6</td>\n",
       "      <td>19.4</td>\n",
       "      <td>5.0</td>\n",
       "      <td>12.0</td>\n",
       "      <td>2</td>\n",
       "      <td>1</td>\n",
       "      <td>1</td>\n",
       "    </tr>\n",
       "    <tr>\n",
       "      <th>41</th>\n",
       "      <td>Water_opossum</td>\n",
       "      <td>3.500</td>\n",
       "      <td>3.9</td>\n",
       "      <td>12.8</td>\n",
       "      <td>6.6</td>\n",
       "      <td>19.4</td>\n",
       "      <td>3.0</td>\n",
       "      <td>14.0</td>\n",
       "      <td>2</td>\n",
       "      <td>1</td>\n",
       "      <td>1</td>\n",
       "    </tr>\n",
       "    <tr>\n",
       "      <th>14</th>\n",
       "      <td>Golden_hamster</td>\n",
       "      <td>0.120</td>\n",
       "      <td>1.0</td>\n",
       "      <td>11.0</td>\n",
       "      <td>3.4</td>\n",
       "      <td>14.4</td>\n",
       "      <td>3.9</td>\n",
       "      <td>16.0</td>\n",
       "      <td>3</td>\n",
       "      <td>1</td>\n",
       "      <td>2</td>\n",
       "    </tr>\n",
       "    <tr>\n",
       "      <th>28</th>\n",
       "      <td>Phanlanger</td>\n",
       "      <td>1.620</td>\n",
       "      <td>11.4</td>\n",
       "      <td>11.9</td>\n",
       "      <td>1.8</td>\n",
       "      <td>13.7</td>\n",
       "      <td>13.0</td>\n",
       "      <td>17.0</td>\n",
       "      <td>2</td>\n",
       "      <td>1</td>\n",
       "      <td>2</td>\n",
       "    </tr>\n",
       "    <tr>\n",
       "      <th>22</th>\n",
       "      <td>Mouse</td>\n",
       "      <td>0.023</td>\n",
       "      <td>0.4</td>\n",
       "      <td>11.9</td>\n",
       "      <td>1.3</td>\n",
       "      <td>13.2</td>\n",
       "      <td>3.2</td>\n",
       "      <td>19.0</td>\n",
       "      <td>4</td>\n",
       "      <td>1</td>\n",
       "      <td>3</td>\n",
       "    </tr>\n",
       "  </tbody>\n",
       "</table>\n",
       "</div>"
      ],
      "text/plain": [
       "                Animal   Body  Brain  SWsleep  Parasleep  Totsleep  Life  \\\n",
       "24  N_American_opossum  1.700    6.3     13.8        5.6      19.4   5.0   \n",
       "41       Water_opossum  3.500    3.9     12.8        6.6      19.4   3.0   \n",
       "14      Golden_hamster  0.120    1.0     11.0        3.4      14.4   3.9   \n",
       "28          Phanlanger  1.620   11.4     11.9        1.8      13.7  13.0   \n",
       "22               Mouse  0.023    0.4     11.9        1.3      13.2   3.2   \n",
       "\n",
       "    Gest  Pred  Exposure  Danger  \n",
       "24  12.0     2         1       1  \n",
       "41  14.0     2         1       1  \n",
       "14  16.0     3         1       2  \n",
       "28  17.0     2         1       2  \n",
       "22  19.0     4         1       3  "
      ]
     },
     "execution_count": 24,
     "metadata": {},
     "output_type": "execute_result"
    }
   ],
   "source": [
    "# Task 5\n",
    "\n",
    "# Sort Sleep by Gest\n",
    "\n",
    "# YOUR CODE HERE\n",
    "# raise NotImplementedError()\n",
    "Sleep_sorted = Sleep.sort_values(by = 'Gest')\n",
    "\n",
    "# View the results\n",
    "Sleep_sorted.head()"
   ]
  },
  {
   "cell_type": "markdown",
   "metadata": {
    "id": "4acyb4ot93VI"
   },
   "source": [
    "**Task 5 - Test**"
   ]
  },
  {
   "cell_type": "code",
   "execution_count": null,
   "metadata": {
    "deletable": false,
    "editable": false,
    "id": "H0QfbTcM93VI",
    "nbgrader": {
     "cell_type": "code",
     "checksum": "40acc70ce6c7c2b4dcd5af5b753e6347",
     "grade": true,
     "grade_id": "cell-7420f399f5d1cef9",
     "locked": true,
     "points": 1,
     "schema_version": 3,
     "solution": false,
     "task": false
    }
   },
   "outputs": [],
   "source": [
    "# Task 5 - Test\n",
    "\n",
    "assert Sleep_sorted.iloc[0, 0] == 'N_American_opossum', 'Double-check your DataFrame sorting'\n",
    "\n",
    "### No hidden tests"
   ]
  },
  {
   "cell_type": "markdown",
   "metadata": {
    "id": "ORR-VG_Uylsb"
   },
   "source": [
    "**Task 6** - Plot a line plot of `Parasleep` by `Gest`, the gestational time for each mammal.\n",
    "\n",
    "Use the template below and **replace the #### as specified in the instructions**\n",
    "\n",
    "* Plot a line plot using the `Sleep_sorted` DataFrame with each mammal's value of `Gest` on the x-axis and each mammal's value of `Parasleep` on the y-axis.\n",
    "* In the `plot` statment, specify `'o'` for the marker, `'dashdot'` for the linestyle and `'b'` for the color.\n",
    "* Label and title the graph using the statements provided for you.\n",
    "\n",
    "**The plotting code will not be autograded** but it is still required for completing the project."
   ]
  },
  {
   "cell_type": "code",
   "execution_count": 29,
   "metadata": {
    "id": "Xmx0jTIuxYfC",
    "outputId": "cd298821-a880-4c27-c6ae-d083cc23070d"
   },
   "outputs": [
    {
     "data": {
      "image/png": "[encoded data removed]",
      "text/plain": [
       "<Figure size 432x288 with 1 Axes>"
      ]
     },
     "metadata": {
      "needs_background": "light"
     },
     "output_type": "display_data"
    }
   ],
   "source": [
    "# Task 6 - Plotting\n",
    "\n",
    "# UNCOMMENT the code lines to complete the Task\n",
    "\n",
    "fig, ax = plt.subplots()\n",
    "\n",
    "ax.plot(Sleep_sorted['Gest'], \n",
    "   Sleep_sorted['Parasleep'], \n",
    "   marker = 'o',\n",
    "   linestyle = 'dashdot',\n",
    "   color = 'b') \n",
    "\n",
    "ax.set_xlabel('Gestational time (days)') \n",
    "ax.set_ylabel('Dreaming sleep (hours)') \n",
    "ax.set_title('The Relationship of Gestational Time to Dreaming Sleep in Mammals') \n",
    "\n",
    "plt.show()"
   ]
  },
  {
   "cell_type": "code",
   "execution_count": null,
   "metadata": {
    "deletable": false,
    "id": "Khm6WiEg93VJ",
    "nbgrader": {
     "cell_type": "code",
     "checksum": "9ed4b7d1f4756c3e6b889bf91051f5e8",
     "grade": false,
     "grade_id": "cell-eed45d8b40814c93",
     "locked": false,
     "schema_version": 3,
     "solution": true,
     "task": false
    },
    "outputId": "f85b105c-9a5d-4bd6-ffd8-17472d95b691"
   },
   "outputs": [],
   "source": [
    "# Task 6 SOLUTION\n",
    "\n",
    "# IGNORE the YOUR CODE HERE - your code is completed above\n",
    "# You will see this solution when you submit the notebook\n",
    "\n",
    "# YOUR CODE HERE\n",
    "raise NotImplementedError()"
   ]
  },
  {
   "cell_type": "markdown",
   "metadata": {
    "id": "Qr2ji9Pp93VJ"
   },
   "source": [
    "**Task 7** - Create a normalized DataFrame\n",
    "\n",
    "* Use `value_counts` with `normalize=True` to calculate the proportion of mammals in the `Sleep` DataFrame that are in each `Danger` category.  **Save your results in a DataFrame named `Danger_prop`**. \n",
    "* Calculate the percent of mammals in each `Danger` category by multiplying `Danger_prop` by 100 and naming the results `Danger_pct`."
   ]
  },
  {
   "cell_type": "code",
   "execution_count": 33,
   "metadata": {
    "deletable": false,
    "id": "uOhHtfOg93VJ",
    "nbgrader": {
     "cell_type": "code",
     "checksum": "597affaee38b66431c4b90f7c43a8571",
     "grade": false,
     "grade_id": "cell-2990d789c1d038b8",
     "locked": false,
     "schema_version": 3,
     "solution": true,
     "task": false
    },
    "outputId": "ebc02d18-dcc4-4b2e-a860-bfbec7b2fec4"
   },
   "outputs": [
    {
     "data": {
      "text/html": [
       "<div>\n",
       "<style scoped>\n",
       "    .dataframe tbody tr th:only-of-type {\n",
       "        vertical-align: middle;\n",
       "    }\n",
       "\n",
       "    .dataframe tbody tr th {\n",
       "        vertical-align: top;\n",
       "    }\n",
       "\n",
       "    .dataframe thead th {\n",
       "        text-align: right;\n",
       "    }\n",
       "</style>\n",
       "<table border=\"1\" class=\"dataframe\">\n",
       "  <thead>\n",
       "    <tr style=\"text-align: right;\">\n",
       "      <th></th>\n",
       "      <th>Danger</th>\n",
       "    </tr>\n",
       "  </thead>\n",
       "  <tbody>\n",
       "    <tr>\n",
       "      <th>1</th>\n",
       "      <td>26.190476</td>\n",
       "    </tr>\n",
       "    <tr>\n",
       "      <th>2</th>\n",
       "      <td>23.809524</td>\n",
       "    </tr>\n",
       "    <tr>\n",
       "      <th>4</th>\n",
       "      <td>21.428571</td>\n",
       "    </tr>\n",
       "    <tr>\n",
       "      <th>3</th>\n",
       "      <td>16.666667</td>\n",
       "    </tr>\n",
       "    <tr>\n",
       "      <th>5</th>\n",
       "      <td>11.904762</td>\n",
       "    </tr>\n",
       "  </tbody>\n",
       "</table>\n",
       "</div>"
      ],
      "text/plain": [
       "      Danger\n",
       "1  26.190476\n",
       "2  23.809524\n",
       "4  21.428571\n",
       "3  16.666667\n",
       "5  11.904762"
      ]
     },
     "execution_count": 33,
     "metadata": {},
     "output_type": "execute_result"
    }
   ],
   "source": [
    "# Task 7\n",
    "\n",
    "# YOUR CODE HERE\n",
    "# raise NotImplementedError()\n",
    "Danger_prop = pd.DataFrame(Sleep['Danger'].value_counts(normalize = True))\n",
    "Danger_pct = Danger_prop * 100\n",
    "\n",
    "# View the DataFrame\n",
    "Danger_pct.head()"
   ]
  },
  {
   "cell_type": "markdown",
   "metadata": {
    "id": "wvPcHF1s93VK"
   },
   "source": [
    "**Task 7 - Test**"
   ]
  },
  {
   "cell_type": "code",
   "execution_count": null,
   "metadata": {
    "deletable": false,
    "editable": false,
    "id": "UECibCmO93VK",
    "nbgrader": {
     "cell_type": "code",
     "checksum": "34a4c91d3b76d48aefc09637a32f70c4",
     "grade": true,
     "grade_id": "cell-7833404c372083ae",
     "locked": true,
     "points": 1,
     "schema_version": 3,
     "solution": false,
     "task": false
    }
   },
   "outputs": [],
   "source": [
    "# Task 7 - Test\n",
    "\n",
    "assert isinstance(Danger_prop, pd.DataFrame), 'Have you created a DataFrame named Danger_prop?'\n",
    "assert isinstance(Danger_pct, pd.DataFrame), 'Have you created a DataFrame named Danger_pct?'\n"
   ]
  },
  {
   "cell_type": "markdown",
   "metadata": {
    "id": "dpVOCB7HWmae"
   },
   "source": [
    "**Task 8** - Plot the percent of animals in each `danger` category using a pie chart.\n",
    "\n",
    "* Plot a pie chart using the `Danger` variable from the `Danger_pct` DataFrame.  \n",
    "* Set the labels of the plot using `Danger_pct.index`\n",
    "* Some other graphical parameters as well as the plot title have been set for you.\n",
    "\n",
    "**The plotting code will not be autograded** but it is still required for completing the project."
   ]
  },
  {
   "cell_type": "code",
   "execution_count": 34,
   "metadata": {
    "colab": {
     "base_uri": "https://localhost:8080/",
     "height": 264
    },
    "id": "-WIrvK5P1278",
    "outputId": "f70e0ee7-a354-427e-93e9-3c227cbded34"
   },
   "outputs": [
    {
     "data": {
      "image/png": "[encoded data removed]",
      "text/plain": [
       "<Figure size 432x288 with 1 Axes>"
      ]
     },
     "metadata": {},
     "output_type": "display_data"
    }
   ],
   "source": [
    "# Task 8 - Plotting\n",
    "\n",
    "# UNCOMMENT the code lines to complete the Task\n",
    "\n",
    "# Create the pie chart\n",
    "\n",
    "fig, ax = plt.subplots()\n",
    "\n",
    "ax.pie(Danger_pct['Danger'], labels = Danger_pct.index , autopct='%1.1f%%', startangle=90)\n",
    "ax.set_title('Percent of mammals in each danger category')\n",
    "\n",
    "plt.show()"
   ]
  },
  {
   "cell_type": "code",
   "execution_count": null,
   "metadata": {
    "deletable": false,
    "id": "uHpXwcEF93VL",
    "nbgrader": {
     "cell_type": "code",
     "checksum": "da1b9a23c75f7069a41587ed184bac1b",
     "grade": false,
     "grade_id": "cell-ade272759a14cda0",
     "locked": false,
     "schema_version": 3,
     "solution": true,
     "task": false
    },
    "outputId": "526229da-f571-4c08-d5f3-4c7e7e0a2bf1"
   },
   "outputs": [],
   "source": [
    "# Task 8 SOLUTION\n",
    "\n",
    "# IGNORE the YOUR CODE HERE - your code is completed above\n",
    "# You will see this solution when you submit the notebook\n",
    "\n",
    "# YOUR CODE HERE\n",
    "raise NotImplementedError()"
   ]
  },
  {
   "cell_type": "markdown",
   "metadata": {
    "id": "KjpEzt8993VL"
   },
   "source": [
    "**Task 9** - Create a new feature\n",
    "\n",
    "* Use `.loc` to create a new feature in `Sleep` called `Short life` that takes on the values: \n",
    "    * 1 if the mammal's lifespan is less than 30 years long\n",
    "    * 0 if the mammal's lifespan is 30 years or longer\n",
    "* Use `.value_counts()` to calculate the frequency of `Short life`.  **Save your results to a DataFrame named `Life_counts`**"
   ]
  },
  {
   "cell_type": "code",
   "execution_count": 92,
   "metadata": {
    "colab": {
     "base_uri": "https://localhost:8080/",
     "height": 111
    },
    "deletable": false,
    "id": "rVCZbe9c93VL",
    "nbgrader": {
     "cell_type": "code",
     "checksum": "05caeb4d1a60deead96f1b2e45129df5",
     "grade": false,
     "grade_id": "cell-eea76e97d9e1d059",
     "locked": false,
     "schema_version": 3,
     "solution": true,
     "task": false
    },
    "outputId": "5e404f26-7942-497e-bcfe-72ed68d6acec"
   },
   "outputs": [
    {
     "data": {
      "text/html": [
       "<div>\n",
       "<style scoped>\n",
       "    .dataframe tbody tr th:only-of-type {\n",
       "        vertical-align: middle;\n",
       "    }\n",
       "\n",
       "    .dataframe tbody tr th {\n",
       "        vertical-align: top;\n",
       "    }\n",
       "\n",
       "    .dataframe thead th {\n",
       "        text-align: right;\n",
       "    }\n",
       "</style>\n",
       "<table border=\"1\" class=\"dataframe\">\n",
       "  <thead>\n",
       "    <tr style=\"text-align: right;\">\n",
       "      <th></th>\n",
       "      <th>Short life</th>\n",
       "    </tr>\n",
       "  </thead>\n",
       "  <tbody>\n",
       "    <tr>\n",
       "      <th>1.0</th>\n",
       "      <td>34</td>\n",
       "    </tr>\n",
       "    <tr>\n",
       "      <th>0.0</th>\n",
       "      <td>8</td>\n",
       "    </tr>\n",
       "  </tbody>\n",
       "</table>\n",
       "</div>"
      ],
      "text/plain": [
       "     Short life\n",
       "1.0          34\n",
       "0.0           8"
      ]
     },
     "execution_count": 92,
     "metadata": {},
     "output_type": "execute_result"
    }
   ],
   "source": [
    "# Task 9\n",
    "\n",
    "# YOUR CODE HERE\n",
    "# raise NotImplementedError()\n",
    "Sleep.loc[Sleep['Life'] < 30, 'Short life'] = 1\n",
    "Sleep.loc[Sleep['Life'] >= 30, 'Short life'] = 0\n",
    "Life_counts = pd.DataFrame(Sleep['Short life'].value_counts())\n",
    "\n",
    "# View the results\n",
    "Life_counts.head()"
   ]
  },
  {
   "cell_type": "markdown",
   "metadata": {
    "id": "NPIx-tph93VL"
   },
   "source": [
    "**Task 9 - Test**"
   ]
  },
  {
   "cell_type": "code",
   "execution_count": null,
   "metadata": {
    "deletable": false,
    "editable": false,
    "id": "Cv94OoPq93VL",
    "nbgrader": {
     "cell_type": "code",
     "checksum": "4fbcfb458ff2daf19d401aa7e2c16eb8",
     "grade": true,
     "grade_id": "cell-ce26aa435b114a62",
     "locked": true,
     "points": 1,
     "schema_version": 3,
     "solution": false,
     "task": false
    }
   },
   "outputs": [],
   "source": [
    "# Task 9 - Test\n",
    "\n",
    "assert 'Short life' in Sleep.columns, 'Have you created the new feature column?'\n",
    "assert isinstance(Life_counts, pd.DataFrame), 'Have you created a DataFrame named Life_counts?'\n"
   ]
  },
  {
   "cell_type": "markdown",
   "metadata": {
    "id": "GAKb2bwr5I6l"
   },
   "source": [
    "**Task 10** - Plot the number of mammals in the `Sleep` dataset that had short (< 30 year) and long (> 30 year) lifespans.\n",
    "\n",
    "* Use `.catplot()` with `kind='count'` to plot the frequency of `Short life`.\n",
    "* Other graphical parameters, axis labels, and the title have been set for you.\n",
    "\n",
    "**The plotting code will not be autograded** but it is still required for completing the project."
   ]
  },
  {
   "cell_type": "code",
   "execution_count": 91,
   "metadata": {
    "id": "NDxvzUSp9D15",
    "outputId": "a563871c-6270-42da-940d-bdbe98d7138c"
   },
   "outputs": [
    {
     "data": {
      "image/png": "[encoded data removed]",
      "text/plain": [
       "<Figure size 360x360 with 1 Axes>"
      ]
     },
     "metadata": {
      "needs_background": "light"
     },
     "output_type": "display_data"
    }
   ],
   "source": [
    "# Task 10 - Plotting\n",
    "\n",
    "# UNCOMMENT the code lines to complete the Task\n",
    "\n",
    "sns.catplot(x = 'Short life', data = Sleep, kind = 'count')\n",
    "\n",
    "plt.ylabel('Frequency') \n",
    "plt.xlabel('Mammal lifespan')\n",
    "plt.title('Number of Mammals with Long and Short Life Expectancies') \n",
    "plt.xticks(ticks=[0,1], labels=['Lifespan >=30 years', 'Lifespan < 30 years'])\n",
    "\n",
    "plt.show()"
   ]
  },
  {
   "cell_type": "code",
   "execution_count": null,
   "metadata": {
    "deletable": false,
    "id": "dbX6eEOE93VM",
    "nbgrader": {
     "cell_type": "code",
     "checksum": "f81738e181049013d4978454df9ac51b",
     "grade": false,
     "grade_id": "cell-485432aaba3752cd",
     "locked": false,
     "schema_version": 3,
     "solution": true,
     "task": false
    }
   },
   "outputs": [],
   "source": [
    "# Task 10 - Plotting\n",
    "\n",
    "# IGNORE the YOUR CODE HERE - your code is completed above\n",
    "# You will see this solution when you submit the notebook\n",
    "\n",
    "        \n",
    "# YOUR CODE HERE\n",
    "raise NotImplementedError()"
   ]
  }
 ],
 "metadata": {
  "colab": {
   "collapsed_sections": [],
   "name": "LS_DS_114_Make_Explanatory_Visualizations_Assignment_AG_source.ipynb",
   "provenance": []
  },
  "kernelspec": {
   "display_name": "Python 3 (ipykernel)",
   "language": "python",
   "name": "python3"
  },
  "language_info": {
   "codemirror_mode": {
    "name": "ipython",
    "version": 3
   },
   "file_extension": ".py",
   "mimetype": "text/x-python",
   "name": "python",
   "nbconvert_exporter": "python",
   "pygments_lexer": "ipython3",
   "version": "3.9.7"
  }
 },
 "nbformat": 4,
 "nbformat_minor": 1
}
