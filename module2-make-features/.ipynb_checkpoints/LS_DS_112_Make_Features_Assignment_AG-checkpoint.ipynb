{
 "cells": [
  {
   "cell_type": "markdown",
   "metadata": {},
   "source": [
    "## Autograded Notebook (Canvas & CodeGrade)\n",
    "\n",
    "This notebook will be automatically graded. It is designed to test your answers and award points for the correct answers. Following the instructions for each Task carefully.\n",
    "\n",
    "### Instructions\n",
    "\n",
    "* **Download this notebook** as you would any other ipynb file\n",
    "* **Upload** to Google Colab or work locally (if you have that set-up)\n",
    "* **Delete `raise NotImplementedError()`**\n",
    "* Write your code in the `# YOUR CODE HERE` space\n",
    "* **Execute** the Test cells that contain `assert` statements - these help you check your work (others contain hidden tests that will be checked when you submit through Canvas)\n",
    "* **Save** your notebook when you are finished\n",
    "* **Download** as a `ipynb` file (if working in Colab)\n",
    "* **Upload** your complete notebook to Canvas (there will be additional instructions in Slack and/or Canvas)"
   ]
  },
  {
   "cell_type": "markdown",
   "metadata": {
    "id": "7fknoKxGz_jk"
   },
   "source": [
    "# Lambda School Data Science - Unit 1 Sprint 1 Module 2\n",
    "\n",
    "## Making Features\n",
    "\n",
    "### Module Learning Objectives\n",
    "\n",
    "- Understand the purpose of feature engineering\n",
    "- Work with strings in pandas\n",
    "- Work with dates and times in pandas\n",
    "- Modify or create columns of a dataframe using the `.apply()` function\n",
    "\n",
    "### Resources\n",
    "\n",
    "- Python Data Science Handbook\n",
    "  - [Chapter 3.10](https://jakevdp.github.io/PythonDataScienceHandbook/03.10-working-with-strings.html), Vectorized String Operations - eg. .strip(), .split(), .replace() and list comprehensions\n",
    "  - [Chapter 3.11](https://jakevdp.github.io/PythonDataScienceHandbook/03.11-working-with-time-series.html), Working with Time Series - lots more details about time using and not using Pandas\n",
    "- [Lambda Learning Method for DS - By Ryan Herr](https://docs.google.com/document/d/1ubOw9B3Hfip27hF2ZFnW3a3z9xAgrUDRReOEo-FHCVs/edit?usp=sharing)\n",
    "\n",
    "### Notebook points: 11"
   ]
  },
  {
   "cell_type": "markdown",
   "metadata": {
    "id": "LZSXUzBm3yvk"
   },
   "source": [
    "### Introduction\n",
    "\n",
    "This project is going to focus on learning how to create new features from exisiting data. There are many ways to create features in your datasets; we'll only focus on a few here. Let's get started!"
   ]
  },
  {
   "cell_type": "markdown",
   "metadata": {
    "id": "HEiZ9dpkcRsX"
   },
   "source": [
    "**Task 1** - Load the data set\n",
    "\n",
    "* Using the provided URL, load the Ames Housing Data into a DataFrame called `house`\n",
    "* View your DataFrame"
   ]
  },
  {
   "cell_type": "code",
   "execution_count": 26,
   "metadata": {
    "deletable": false,
    "id": "GHK1_AnhVsh8",
    "nbgrader": {
     "cell_type": "code",
     "checksum": "7a11bf856bacdf7efeb651411907719a",
     "grade": false,
     "grade_id": "cell-604a4cd13da263c1",
     "locked": false,
     "schema_version": 3,
     "solution": true,
     "task": false
    }
   },
   "outputs": [
    {
     "data": {
      "text/html": [
       "<div>\n",
       "<style scoped>\n",
       "    .dataframe tbody tr th:only-of-type {\n",
       "        vertical-align: middle;\n",
       "    }\n",
       "\n",
       "    .dataframe tbody tr th {\n",
       "        vertical-align: top;\n",
       "    }\n",
       "\n",
       "    .dataframe thead th {\n",
       "        text-align: right;\n",
       "    }\n",
       "</style>\n",
       "<table border=\"1\" class=\"dataframe\">\n",
       "  <thead>\n",
       "    <tr style=\"text-align: right;\">\n",
       "      <th></th>\n",
       "      <th>Id</th>\n",
       "      <th>MSSubClass</th>\n",
       "      <th>MSZoning</th>\n",
       "      <th>LotFrontage</th>\n",
       "      <th>LotArea</th>\n",
       "      <th>Street</th>\n",
       "      <th>Alley</th>\n",
       "      <th>LotShape</th>\n",
       "      <th>LandContour</th>\n",
       "      <th>Utilities</th>\n",
       "      <th>...</th>\n",
       "      <th>PoolArea</th>\n",
       "      <th>PoolQC</th>\n",
       "      <th>Fence</th>\n",
       "      <th>MiscFeature</th>\n",
       "      <th>MiscVal</th>\n",
       "      <th>MoSold</th>\n",
       "      <th>YrSold</th>\n",
       "      <th>SaleType</th>\n",
       "      <th>SaleCondition</th>\n",
       "      <th>SalePrice</th>\n",
       "    </tr>\n",
       "  </thead>\n",
       "  <tbody>\n",
       "    <tr>\n",
       "      <th>0</th>\n",
       "      <td>1</td>\n",
       "      <td>60</td>\n",
       "      <td>RL</td>\n",
       "      <td>65.0</td>\n",
       "      <td>8450</td>\n",
       "      <td>Pave</td>\n",
       "      <td>NaN</td>\n",
       "      <td>Reg</td>\n",
       "      <td>Lvl</td>\n",
       "      <td>AllPub</td>\n",
       "      <td>...</td>\n",
       "      <td>0</td>\n",
       "      <td>NaN</td>\n",
       "      <td>NaN</td>\n",
       "      <td>NaN</td>\n",
       "      <td>0</td>\n",
       "      <td>2</td>\n",
       "      <td>2008</td>\n",
       "      <td>WD</td>\n",
       "      <td>Normal</td>\n",
       "      <td>208500</td>\n",
       "    </tr>\n",
       "    <tr>\n",
       "      <th>1</th>\n",
       "      <td>2</td>\n",
       "      <td>20</td>\n",
       "      <td>RL</td>\n",
       "      <td>80.0</td>\n",
       "      <td>9600</td>\n",
       "      <td>Pave</td>\n",
       "      <td>NaN</td>\n",
       "      <td>Reg</td>\n",
       "      <td>Lvl</td>\n",
       "      <td>AllPub</td>\n",
       "      <td>...</td>\n",
       "      <td>0</td>\n",
       "      <td>NaN</td>\n",
       "      <td>NaN</td>\n",
       "      <td>NaN</td>\n",
       "      <td>0</td>\n",
       "      <td>5</td>\n",
       "      <td>2007</td>\n",
       "      <td>WD</td>\n",
       "      <td>Normal</td>\n",
       "      <td>181500</td>\n",
       "    </tr>\n",
       "    <tr>\n",
       "      <th>2</th>\n",
       "      <td>3</td>\n",
       "      <td>60</td>\n",
       "      <td>RL</td>\n",
       "      <td>68.0</td>\n",
       "      <td>11250</td>\n",
       "      <td>Pave</td>\n",
       "      <td>NaN</td>\n",
       "      <td>IR1</td>\n",
       "      <td>Lvl</td>\n",
       "      <td>AllPub</td>\n",
       "      <td>...</td>\n",
       "      <td>0</td>\n",
       "      <td>NaN</td>\n",
       "      <td>NaN</td>\n",
       "      <td>NaN</td>\n",
       "      <td>0</td>\n",
       "      <td>9</td>\n",
       "      <td>2008</td>\n",
       "      <td>WD</td>\n",
       "      <td>Normal</td>\n",
       "      <td>223500</td>\n",
       "    </tr>\n",
       "    <tr>\n",
       "      <th>3</th>\n",
       "      <td>4</td>\n",
       "      <td>70</td>\n",
       "      <td>RL</td>\n",
       "      <td>60.0</td>\n",
       "      <td>9550</td>\n",
       "      <td>Pave</td>\n",
       "      <td>NaN</td>\n",
       "      <td>IR1</td>\n",
       "      <td>Lvl</td>\n",
       "      <td>AllPub</td>\n",
       "      <td>...</td>\n",
       "      <td>0</td>\n",
       "      <td>NaN</td>\n",
       "      <td>NaN</td>\n",
       "      <td>NaN</td>\n",
       "      <td>0</td>\n",
       "      <td>2</td>\n",
       "      <td>2006</td>\n",
       "      <td>WD</td>\n",
       "      <td>Abnorml</td>\n",
       "      <td>140000</td>\n",
       "    </tr>\n",
       "    <tr>\n",
       "      <th>4</th>\n",
       "      <td>5</td>\n",
       "      <td>60</td>\n",
       "      <td>RL</td>\n",
       "      <td>84.0</td>\n",
       "      <td>14260</td>\n",
       "      <td>Pave</td>\n",
       "      <td>NaN</td>\n",
       "      <td>IR1</td>\n",
       "      <td>Lvl</td>\n",
       "      <td>AllPub</td>\n",
       "      <td>...</td>\n",
       "      <td>0</td>\n",
       "      <td>NaN</td>\n",
       "      <td>NaN</td>\n",
       "      <td>NaN</td>\n",
       "      <td>0</td>\n",
       "      <td>12</td>\n",
       "      <td>2008</td>\n",
       "      <td>WD</td>\n",
       "      <td>Normal</td>\n",
       "      <td>250000</td>\n",
       "    </tr>\n",
       "  </tbody>\n",
       "</table>\n",
       "<p>5 rows × 81 columns</p>\n",
       "</div>"
      ],
      "text/plain": [
       "   Id  MSSubClass MSZoning  LotFrontage  LotArea Street Alley LotShape  \\\n",
       "0   1          60       RL         65.0     8450   Pave   NaN      Reg   \n",
       "1   2          20       RL         80.0     9600   Pave   NaN      Reg   \n",
       "2   3          60       RL         68.0    11250   Pave   NaN      IR1   \n",
       "3   4          70       RL         60.0     9550   Pave   NaN      IR1   \n",
       "4   5          60       RL         84.0    14260   Pave   NaN      IR1   \n",
       "\n",
       "  LandContour Utilities  ... PoolArea PoolQC Fence MiscFeature MiscVal MoSold  \\\n",
       "0         Lvl    AllPub  ...        0    NaN   NaN         NaN       0      2   \n",
       "1         Lvl    AllPub  ...        0    NaN   NaN         NaN       0      5   \n",
       "2         Lvl    AllPub  ...        0    NaN   NaN         NaN       0      9   \n",
       "3         Lvl    AllPub  ...        0    NaN   NaN         NaN       0      2   \n",
       "4         Lvl    AllPub  ...        0    NaN   NaN         NaN       0     12   \n",
       "\n",
       "  YrSold  SaleType  SaleCondition  SalePrice  \n",
       "0   2008        WD         Normal     208500  \n",
       "1   2007        WD         Normal     181500  \n",
       "2   2008        WD         Normal     223500  \n",
       "3   2006        WD        Abnorml     140000  \n",
       "4   2008        WD         Normal     250000  \n",
       "\n",
       "[5 rows x 81 columns]"
      ]
     },
     "execution_count": 26,
     "metadata": {},
     "output_type": "execute_result"
    }
   ],
   "source": [
    "# Task 1\n",
    "\n",
    "# Imports\n",
    "import pandas as pd\n",
    "\n",
    "# Dataset URL\n",
    "\n",
    "data_url = 'https://raw.githubusercontent.com/LambdaSchool/data-science-practice-datasets/main/unit_1/Housing/Ames%20Iowa%20Housing%20Data.csv'\n",
    "\n",
    "# YOUR CODE HERE\n",
    "# raise NotImplementedError()\n",
    "house = pd.read_csv(data_url)\n",
    "\n",
    "# View your DataFrame\n",
    "house.head()"
   ]
  },
  {
   "cell_type": "markdown",
   "metadata": {
    "id": "0foQpPZmcRsY"
   },
   "source": [
    "**Task 1 Test**"
   ]
  },
  {
   "cell_type": "code",
   "execution_count": 4,
   "metadata": {
    "deletable": false,
    "editable": false,
    "id": "rOnKHd9OcRsY",
    "nbgrader": {
     "cell_type": "code",
     "checksum": "862a67ed985b5fabe236e26724f65cae",
     "grade": true,
     "grade_id": "cell-4be6ce6f2ae0213b",
     "locked": true,
     "points": 1,
     "schema_version": 3,
     "solution": false,
     "task": false
    }
   },
   "outputs": [],
   "source": [
    "# Task 1 - Test\n",
    "\n",
    "# These tests are for you to check your work before submitting\n",
    "assert isinstance(house, pd.DataFrame), 'Have you created a DataFrame named house?'\n",
    "\n",
    "# Hidden tests - you'll see results when you submit to Canvas"
   ]
  },
  {
   "cell_type": "markdown",
   "metadata": {
    "id": "3MiNr26QcRsY"
   },
   "source": [
    "**Task 2** - Create a new feature\n",
    "\n",
    "Now that we have the data loaded, we're going to create a new feature. We can use the some of the existing features, in this case, the total number of bathrooms in one column.\n",
    "\n",
    "* Create a new variable called `Total_Bathrooms` that contains the total number of full and half bathrooms in the house.  \n",
    "\n",
    "*Hint: Identify all the columns with bath in the title and add their values together. There are four columns to add together.  Add one to the total for each full or half bathroom.*"
   ]
  },
  {
   "cell_type": "code",
   "execution_count": 40,
   "metadata": {
    "deletable": false,
    "id": "abW4ju7scRsZ",
    "nbgrader": {
     "cell_type": "code",
     "checksum": "4b44666800833a50fdd72ff9bfe83477",
     "grade": false,
     "grade_id": "cell-98808d8ac7de9a36",
     "locked": false,
     "schema_version": 3,
     "solution": true,
     "task": false
    }
   },
   "outputs": [
    {
     "name": "stdout",
     "output_type": "stream",
     "text": [
      "<class 'pandas.core.frame.DataFrame'>\n",
      "RangeIndex: 1460 entries, 0 to 1459\n",
      "Data columns (total 83 columns):\n",
      " #   Column           Non-Null Count  Dtype  \n",
      "---  ------           --------------  -----  \n",
      " 0   Id               1460 non-null   int64  \n",
      " 1   MSSubClass       1460 non-null   int64  \n",
      " 2   MSZoning         1460 non-null   object \n",
      " 3   LotFrontage      1201 non-null   float64\n",
      " 4   LotArea          1460 non-null   int64  \n",
      " 5   Street           1460 non-null   object \n",
      " 6   Alley            91 non-null     object \n",
      " 7   LotShape         1460 non-null   object \n",
      " 8   LandContour      1460 non-null   object \n",
      " 9   Utilities        1460 non-null   object \n",
      " 10  LotConfig        1460 non-null   object \n",
      " 11  LandSlope        1460 non-null   object \n",
      " 12  Neighborhood     1460 non-null   object \n",
      " 13  Condition1       1460 non-null   object \n",
      " 14  Condition2       1460 non-null   object \n",
      " 15  BldgType         1460 non-null   object \n",
      " 16  HouseStyle       1460 non-null   object \n",
      " 17  OverallQual      1460 non-null   int64  \n",
      " 18  OverallCond      1460 non-null   int64  \n",
      " 19  YearBuilt        1460 non-null   int64  \n",
      " 20  YearRemodAdd     1460 non-null   int64  \n",
      " 21  RoofStyle        1460 non-null   object \n",
      " 22  RoofMatl         1460 non-null   object \n",
      " 23  Exterior1st      1460 non-null   object \n",
      " 24  Exterior2nd      1460 non-null   object \n",
      " 25  MasVnrType       1452 non-null   object \n",
      " 26  MasVnrArea       1452 non-null   float64\n",
      " 27  ExterQual        1460 non-null   object \n",
      " 28  ExterCond        1460 non-null   object \n",
      " 29  Foundation       1460 non-null   object \n",
      " 30  BsmtQual         1423 non-null   object \n",
      " 31  BsmtCond         1423 non-null   object \n",
      " 32  BsmtExposure     1422 non-null   object \n",
      " 33  BsmtFinType1     1423 non-null   object \n",
      " 34  BsmtFinSF1       1460 non-null   int64  \n",
      " 35  BsmtFinType2     1422 non-null   object \n",
      " 36  BsmtFinSF2       1460 non-null   int64  \n",
      " 37  BsmtUnfSF        1460 non-null   int64  \n",
      " 38  TotalBsmtSF      1460 non-null   int64  \n",
      " 39  Heating          1460 non-null   object \n",
      " 40  HeatingQC        1460 non-null   object \n",
      " 41  CentralAir       1460 non-null   object \n",
      " 42  Electrical       1459 non-null   object \n",
      " 43  1stFlrSF         1460 non-null   int64  \n",
      " 44  2ndFlrSF         1460 non-null   int64  \n",
      " 45  LowQualFinSF     1460 non-null   int64  \n",
      " 46  GrLivArea        1460 non-null   int64  \n",
      " 47  BsmtFullBath     1460 non-null   int64  \n",
      " 48  BsmtHalfBath     1460 non-null   int64  \n",
      " 49  FullBath         1460 non-null   int64  \n",
      " 50  HalfBath         1460 non-null   int64  \n",
      " 51  BedroomAbvGr     1460 non-null   int64  \n",
      " 52  KitchenAbvGr     1460 non-null   int64  \n",
      " 53  KitchenQual      1460 non-null   object \n",
      " 54  TotRmsAbvGrd     1460 non-null   int64  \n",
      " 55  Functional       1460 non-null   object \n",
      " 56  Fireplaces       1460 non-null   int64  \n",
      " 57  FireplaceQu      770 non-null    object \n",
      " 58  GarageType       1379 non-null   object \n",
      " 59  GarageYrBlt      1379 non-null   float64\n",
      " 60  GarageFinish     1379 non-null   object \n",
      " 61  GarageCars       1460 non-null   int64  \n",
      " 62  GarageArea       1460 non-null   int64  \n",
      " 63  GarageQual       1379 non-null   object \n",
      " 64  GarageCond       1379 non-null   object \n",
      " 65  PavedDrive       1460 non-null   object \n",
      " 66  WoodDeckSF       1460 non-null   int64  \n",
      " 67  OpenPorchSF      1460 non-null   int64  \n",
      " 68  EnclosedPorch    1460 non-null   int64  \n",
      " 69  3SsnPorch        1460 non-null   int64  \n",
      " 70  ScreenPorch      1460 non-null   int64  \n",
      " 71  PoolArea         1460 non-null   int64  \n",
      " 72  PoolQC           7 non-null      object \n",
      " 73  Fence            281 non-null    object \n",
      " 74  MiscFeature      54 non-null     object \n",
      " 75  MiscVal          1460 non-null   int64  \n",
      " 76  MoSold           1460 non-null   int64  \n",
      " 77  YrSold           1460 non-null   int64  \n",
      " 78  SaleType         1460 non-null   object \n",
      " 79  SaleCondition    1460 non-null   object \n",
      " 80  SalePrice        1460 non-null   int64  \n",
      " 81  Total_Bathrooms  1460 non-null   int64  \n",
      " 82  Large_Lot        1460 non-null   int64  \n",
      "dtypes: float64(3), int64(37), object(43)\n",
      "memory usage: 946.8+ KB\n"
     ]
    },
    {
     "data": {
      "text/html": [
       "<div>\n",
       "<style scoped>\n",
       "    .dataframe tbody tr th:only-of-type {\n",
       "        vertical-align: middle;\n",
       "    }\n",
       "\n",
       "    .dataframe tbody tr th {\n",
       "        vertical-align: top;\n",
       "    }\n",
       "\n",
       "    .dataframe thead th {\n",
       "        text-align: right;\n",
       "    }\n",
       "</style>\n",
       "<table border=\"1\" class=\"dataframe\">\n",
       "  <thead>\n",
       "    <tr style=\"text-align: right;\">\n",
       "      <th></th>\n",
       "      <th>Id</th>\n",
       "      <th>MSSubClass</th>\n",
       "      <th>MSZoning</th>\n",
       "      <th>LotFrontage</th>\n",
       "      <th>LotArea</th>\n",
       "      <th>Street</th>\n",
       "      <th>Alley</th>\n",
       "      <th>LotShape</th>\n",
       "      <th>LandContour</th>\n",
       "      <th>Utilities</th>\n",
       "      <th>...</th>\n",
       "      <th>Fence</th>\n",
       "      <th>MiscFeature</th>\n",
       "      <th>MiscVal</th>\n",
       "      <th>MoSold</th>\n",
       "      <th>YrSold</th>\n",
       "      <th>SaleType</th>\n",
       "      <th>SaleCondition</th>\n",
       "      <th>SalePrice</th>\n",
       "      <th>Total_Bathrooms</th>\n",
       "      <th>Large_Lot</th>\n",
       "    </tr>\n",
       "  </thead>\n",
       "  <tbody>\n",
       "    <tr>\n",
       "      <th>0</th>\n",
       "      <td>1</td>\n",
       "      <td>60</td>\n",
       "      <td>RL</td>\n",
       "      <td>65.0</td>\n",
       "      <td>8450</td>\n",
       "      <td>Pave</td>\n",
       "      <td>NaN</td>\n",
       "      <td>Reg</td>\n",
       "      <td>Lvl</td>\n",
       "      <td>AllPub</td>\n",
       "      <td>...</td>\n",
       "      <td>NaN</td>\n",
       "      <td>NaN</td>\n",
       "      <td>0</td>\n",
       "      <td>2</td>\n",
       "      <td>2008</td>\n",
       "      <td>WD</td>\n",
       "      <td>Normal</td>\n",
       "      <td>208500</td>\n",
       "      <td>4</td>\n",
       "      <td>0</td>\n",
       "    </tr>\n",
       "    <tr>\n",
       "      <th>1</th>\n",
       "      <td>2</td>\n",
       "      <td>20</td>\n",
       "      <td>RL</td>\n",
       "      <td>80.0</td>\n",
       "      <td>9600</td>\n",
       "      <td>Pave</td>\n",
       "      <td>NaN</td>\n",
       "      <td>Reg</td>\n",
       "      <td>Lvl</td>\n",
       "      <td>AllPub</td>\n",
       "      <td>...</td>\n",
       "      <td>NaN</td>\n",
       "      <td>NaN</td>\n",
       "      <td>0</td>\n",
       "      <td>5</td>\n",
       "      <td>2007</td>\n",
       "      <td>WD</td>\n",
       "      <td>Normal</td>\n",
       "      <td>181500</td>\n",
       "      <td>3</td>\n",
       "      <td>0</td>\n",
       "    </tr>\n",
       "    <tr>\n",
       "      <th>2</th>\n",
       "      <td>3</td>\n",
       "      <td>60</td>\n",
       "      <td>RL</td>\n",
       "      <td>68.0</td>\n",
       "      <td>11250</td>\n",
       "      <td>Pave</td>\n",
       "      <td>NaN</td>\n",
       "      <td>IR1</td>\n",
       "      <td>Lvl</td>\n",
       "      <td>AllPub</td>\n",
       "      <td>...</td>\n",
       "      <td>NaN</td>\n",
       "      <td>NaN</td>\n",
       "      <td>0</td>\n",
       "      <td>9</td>\n",
       "      <td>2008</td>\n",
       "      <td>WD</td>\n",
       "      <td>Normal</td>\n",
       "      <td>223500</td>\n",
       "      <td>4</td>\n",
       "      <td>1</td>\n",
       "    </tr>\n",
       "    <tr>\n",
       "      <th>3</th>\n",
       "      <td>4</td>\n",
       "      <td>70</td>\n",
       "      <td>RL</td>\n",
       "      <td>60.0</td>\n",
       "      <td>9550</td>\n",
       "      <td>Pave</td>\n",
       "      <td>NaN</td>\n",
       "      <td>IR1</td>\n",
       "      <td>Lvl</td>\n",
       "      <td>AllPub</td>\n",
       "      <td>...</td>\n",
       "      <td>NaN</td>\n",
       "      <td>NaN</td>\n",
       "      <td>0</td>\n",
       "      <td>2</td>\n",
       "      <td>2006</td>\n",
       "      <td>WD</td>\n",
       "      <td>Abnorml</td>\n",
       "      <td>140000</td>\n",
       "      <td>2</td>\n",
       "      <td>0</td>\n",
       "    </tr>\n",
       "    <tr>\n",
       "      <th>4</th>\n",
       "      <td>5</td>\n",
       "      <td>60</td>\n",
       "      <td>RL</td>\n",
       "      <td>84.0</td>\n",
       "      <td>14260</td>\n",
       "      <td>Pave</td>\n",
       "      <td>NaN</td>\n",
       "      <td>IR1</td>\n",
       "      <td>Lvl</td>\n",
       "      <td>AllPub</td>\n",
       "      <td>...</td>\n",
       "      <td>NaN</td>\n",
       "      <td>NaN</td>\n",
       "      <td>0</td>\n",
       "      <td>12</td>\n",
       "      <td>2008</td>\n",
       "      <td>WD</td>\n",
       "      <td>Normal</td>\n",
       "      <td>250000</td>\n",
       "      <td>4</td>\n",
       "      <td>1</td>\n",
       "    </tr>\n",
       "  </tbody>\n",
       "</table>\n",
       "<p>5 rows × 83 columns</p>\n",
       "</div>"
      ],
      "text/plain": [
       "   Id  MSSubClass MSZoning  LotFrontage  LotArea Street Alley LotShape  \\\n",
       "0   1          60       RL         65.0     8450   Pave   NaN      Reg   \n",
       "1   2          20       RL         80.0     9600   Pave   NaN      Reg   \n",
       "2   3          60       RL         68.0    11250   Pave   NaN      IR1   \n",
       "3   4          70       RL         60.0     9550   Pave   NaN      IR1   \n",
       "4   5          60       RL         84.0    14260   Pave   NaN      IR1   \n",
       "\n",
       "  LandContour Utilities  ... Fence MiscFeature MiscVal MoSold YrSold SaleType  \\\n",
       "0         Lvl    AllPub  ...   NaN         NaN       0      2   2008       WD   \n",
       "1         Lvl    AllPub  ...   NaN         NaN       0      5   2007       WD   \n",
       "2         Lvl    AllPub  ...   NaN         NaN       0      9   2008       WD   \n",
       "3         Lvl    AllPub  ...   NaN         NaN       0      2   2006       WD   \n",
       "4         Lvl    AllPub  ...   NaN         NaN       0     12   2008       WD   \n",
       "\n",
       "  SaleCondition  SalePrice  Total_Bathrooms  Large_Lot  \n",
       "0        Normal     208500                4          0  \n",
       "1        Normal     181500                3          0  \n",
       "2        Normal     223500                4          1  \n",
       "3       Abnorml     140000                2          0  \n",
       "4        Normal     250000                4          1  \n",
       "\n",
       "[5 rows x 83 columns]"
      ]
     },
     "execution_count": 40,
     "metadata": {},
     "output_type": "execute_result"
    }
   ],
   "source": [
    "# Task 2\n",
    "\n",
    "# YOUR CODE HERE\n",
    "# raise NotImplementedError()\n",
    "\n",
    "house.info()\n",
    "# display(house[['BsmtFullBath', 'BsmtHalfBath', 'HalfBath', 'FullBath']])\n",
    "# display(house[['BsmtFullBath', 'BsmtHalfBath', 'HalfBath', 'FullBath']].isnull().sum())\n",
    "\n",
    "def add_bathrooms(bathrooms):\n",
    "    return bathrooms.sum()\n",
    "\n",
    "# house['Total_Bathrooms'] = house[['BsmtFullBath', 'BsmtHalfBath', 'HalfBath', 'FullBath']].sum(axis = 1)\n",
    "house['Total_Bathrooms'] = house[['BsmtFullBath', 'BsmtHalfBath', 'HalfBath', 'FullBath']].apply(add_bathrooms, axis = 1)\n",
    "house.head()"
   ]
  },
  {
   "cell_type": "markdown",
   "metadata": {
    "id": "1OwdxrCpcRsZ"
   },
   "source": [
    "**Task 2 Test**"
   ]
  },
  {
   "cell_type": "code",
   "execution_count": 28,
   "metadata": {
    "deletable": false,
    "editable": false,
    "id": "N6jHujrScRsZ",
    "nbgrader": {
     "cell_type": "code",
     "checksum": "093af0e8e6677cdbd6f1239e2d394513",
     "grade": true,
     "grade_id": "cell-f9c97fbd0846aa11",
     "locked": true,
     "points": 1,
     "schema_version": 3,
     "solution": false,
     "task": false
    }
   },
   "outputs": [
    {
     "data": {
      "text/html": [
       "<div>\n",
       "<style scoped>\n",
       "    .dataframe tbody tr th:only-of-type {\n",
       "        vertical-align: middle;\n",
       "    }\n",
       "\n",
       "    .dataframe tbody tr th {\n",
       "        vertical-align: top;\n",
       "    }\n",
       "\n",
       "    .dataframe thead th {\n",
       "        text-align: right;\n",
       "    }\n",
       "</style>\n",
       "<table border=\"1\" class=\"dataframe\">\n",
       "  <thead>\n",
       "    <tr style=\"text-align: right;\">\n",
       "      <th></th>\n",
       "      <th>Total_Bathrooms</th>\n",
       "      <th>BsmtFullBath</th>\n",
       "      <th>BsmtHalfBath</th>\n",
       "      <th>FullBath</th>\n",
       "      <th>HalfBath</th>\n",
       "    </tr>\n",
       "  </thead>\n",
       "  <tbody>\n",
       "    <tr>\n",
       "      <th>0</th>\n",
       "      <td>4</td>\n",
       "      <td>1</td>\n",
       "      <td>0</td>\n",
       "      <td>2</td>\n",
       "      <td>1</td>\n",
       "    </tr>\n",
       "    <tr>\n",
       "      <th>1</th>\n",
       "      <td>3</td>\n",
       "      <td>0</td>\n",
       "      <td>1</td>\n",
       "      <td>2</td>\n",
       "      <td>0</td>\n",
       "    </tr>\n",
       "    <tr>\n",
       "      <th>2</th>\n",
       "      <td>4</td>\n",
       "      <td>1</td>\n",
       "      <td>0</td>\n",
       "      <td>2</td>\n",
       "      <td>1</td>\n",
       "    </tr>\n",
       "    <tr>\n",
       "      <th>3</th>\n",
       "      <td>2</td>\n",
       "      <td>1</td>\n",
       "      <td>0</td>\n",
       "      <td>1</td>\n",
       "      <td>0</td>\n",
       "    </tr>\n",
       "    <tr>\n",
       "      <th>4</th>\n",
       "      <td>4</td>\n",
       "      <td>1</td>\n",
       "      <td>0</td>\n",
       "      <td>2</td>\n",
       "      <td>1</td>\n",
       "    </tr>\n",
       "  </tbody>\n",
       "</table>\n",
       "</div>"
      ],
      "text/plain": [
       "   Total_Bathrooms  BsmtFullBath  BsmtHalfBath  FullBath  HalfBath\n",
       "0                4             1             0         2         1\n",
       "1                3             0             1         2         0\n",
       "2                4             1             0         2         1\n",
       "3                2             1             0         1         0\n",
       "4                4             1             0         2         1"
      ]
     },
     "execution_count": 28,
     "metadata": {},
     "output_type": "execute_result"
    }
   ],
   "source": [
    "# Task 2 - Test\n",
    "\n",
    "assert 'Total_Bathrooms' in house.columns, 'Did you add the new column?'\n",
    "\n",
    "# Hidden tests - you'll see results when you submit to Canvas\n",
    "\n",
    "# View all the bathroom columns\n",
    "house[['Total_Bathrooms','BsmtFullBath','BsmtHalfBath','FullBath','HalfBath']].head()"
   ]
  },
  {
   "cell_type": "markdown",
   "metadata": {
    "id": "s1T9P_I0XJqa"
   },
   "source": [
    "**Task 3** - Create a new feature using encoding\n",
    "\n",
    "Next we're going to create another new column by \"encoding\" an exisitng column. Using the `LotArea` column, we'll assign values according the area of the lot.\n",
    "\n",
    "* Create a new column called `Large_Lot` that takes on the following values:\n",
    "    * 0 when `LotArea` is **less** than 10,000\n",
    "    * 1 when `LotArea` is **greater than or equal** to 10,000"
   ]
  },
  {
   "cell_type": "code",
   "execution_count": 38,
   "metadata": {
    "deletable": false,
    "id": "ud09Dy0zreRB",
    "nbgrader": {
     "cell_type": "code",
     "checksum": "2169d6a1299d1df3b06f61755cf8c7fa",
     "grade": false,
     "grade_id": "cell-baf76e10fc75872a",
     "locked": false,
     "schema_version": 3,
     "solution": true,
     "task": false
    }
   },
   "outputs": [
    {
     "data": {
      "text/html": [
       "<div>\n",
       "<style scoped>\n",
       "    .dataframe tbody tr th:only-of-type {\n",
       "        vertical-align: middle;\n",
       "    }\n",
       "\n",
       "    .dataframe tbody tr th {\n",
       "        vertical-align: top;\n",
       "    }\n",
       "\n",
       "    .dataframe thead th {\n",
       "        text-align: right;\n",
       "    }\n",
       "</style>\n",
       "<table border=\"1\" class=\"dataframe\">\n",
       "  <thead>\n",
       "    <tr style=\"text-align: right;\">\n",
       "      <th></th>\n",
       "      <th>LotArea</th>\n",
       "      <th>Large_Lot</th>\n",
       "    </tr>\n",
       "  </thead>\n",
       "  <tbody>\n",
       "    <tr>\n",
       "      <th>0</th>\n",
       "      <td>8450</td>\n",
       "      <td>0</td>\n",
       "    </tr>\n",
       "    <tr>\n",
       "      <th>1</th>\n",
       "      <td>9600</td>\n",
       "      <td>0</td>\n",
       "    </tr>\n",
       "    <tr>\n",
       "      <th>2</th>\n",
       "      <td>11250</td>\n",
       "      <td>1</td>\n",
       "    </tr>\n",
       "    <tr>\n",
       "      <th>3</th>\n",
       "      <td>9550</td>\n",
       "      <td>0</td>\n",
       "    </tr>\n",
       "    <tr>\n",
       "      <th>4</th>\n",
       "      <td>14260</td>\n",
       "      <td>1</td>\n",
       "    </tr>\n",
       "  </tbody>\n",
       "</table>\n",
       "</div>"
      ],
      "text/plain": [
       "   LotArea  Large_Lot\n",
       "0     8450          0\n",
       "1     9600          0\n",
       "2    11250          1\n",
       "3     9550          0\n",
       "4    14260          1"
      ]
     },
     "execution_count": 38,
     "metadata": {},
     "output_type": "execute_result"
    }
   ],
   "source": [
    "# Task 3\n",
    "\n",
    "# YOUR CODE HERE\n",
    "# raise NotImplementedError()\n",
    "# display(house['LotArea'].isnull().sum())\n",
    "# house.loc[house['LotArea'] >= 10000, 'Large_Lot'] = 1\n",
    "# house.loc[house['LotArea'] < 10000, 'Large_Lot'] = 0\n",
    "\n",
    "def check_large_lot(lotArea):\n",
    "    return 1 if lotArea >= 10000 else 0\n",
    "\n",
    "house['Large_Lot'] = house['LotArea'].apply(check_large_lot)\n",
    "# View the new column\n",
    "house[['LotArea', 'Large_Lot']].head()"
   ]
  },
  {
   "cell_type": "markdown",
   "metadata": {
    "id": "vwEhAoH1cRsa"
   },
   "source": [
    "**Task 3 Test**"
   ]
  },
  {
   "cell_type": "code",
   "execution_count": 24,
   "metadata": {
    "deletable": false,
    "editable": false,
    "id": "8NQ7oBzKcRsa",
    "nbgrader": {
     "cell_type": "code",
     "checksum": "f995a23669cfb8800b807917cea5c6d4",
     "grade": true,
     "grade_id": "cell-dc861d3d6dbf7bec",
     "locked": true,
     "points": 1,
     "schema_version": 3,
     "solution": false,
     "task": false
    }
   },
   "outputs": [],
   "source": [
    "# Task 3 - Test\n",
    "\n",
    "assert 'Large_Lot' in house.columns, 'Did you add the Large_Lot column?'\n",
    "\n",
    "# Hidden tests - you'll see results when you submit to Canvas"
   ]
  },
  {
   "cell_type": "markdown",
   "metadata": {
    "id": "bnh-uoqYN29Q"
   },
   "source": [
    "**Task 4** - Create another feature\n",
    "\n",
    "Let's continue with creating new features. This time, we'll focus on encoding for the sale month.\n",
    "\n",
    "* Create a new column called `Summer_Sale` that takes on the following values:\n",
    "    * 0 if the sale month was in September - May (`MoSold` = 1-5, 9-12)\n",
    "    * 1 if the sale month was in June, July or August (`MoSold` = 6, 7 or 8)"
   ]
  },
  {
   "cell_type": "code",
   "execution_count": 48,
   "metadata": {
    "deletable": false,
    "id": "3oHxB9JecRsb",
    "nbgrader": {
     "cell_type": "code",
     "checksum": "ea6c24c4077f091262db848c37ccf650",
     "grade": false,
     "grade_id": "cell-077200eae8a405e2",
     "locked": false,
     "schema_version": 3,
     "solution": true,
     "task": false
    }
   },
   "outputs": [
    {
     "data": {
      "text/html": [
       "<div>\n",
       "<style scoped>\n",
       "    .dataframe tbody tr th:only-of-type {\n",
       "        vertical-align: middle;\n",
       "    }\n",
       "\n",
       "    .dataframe tbody tr th {\n",
       "        vertical-align: top;\n",
       "    }\n",
       "\n",
       "    .dataframe thead th {\n",
       "        text-align: right;\n",
       "    }\n",
       "</style>\n",
       "<table border=\"1\" class=\"dataframe\">\n",
       "  <thead>\n",
       "    <tr style=\"text-align: right;\">\n",
       "      <th></th>\n",
       "      <th>MoSold</th>\n",
       "      <th>Summer_Sale</th>\n",
       "    </tr>\n",
       "  </thead>\n",
       "  <tbody>\n",
       "    <tr>\n",
       "      <th>0</th>\n",
       "      <td>2</td>\n",
       "      <td>0</td>\n",
       "    </tr>\n",
       "    <tr>\n",
       "      <th>1</th>\n",
       "      <td>5</td>\n",
       "      <td>0</td>\n",
       "    </tr>\n",
       "    <tr>\n",
       "      <th>2</th>\n",
       "      <td>9</td>\n",
       "      <td>0</td>\n",
       "    </tr>\n",
       "    <tr>\n",
       "      <th>3</th>\n",
       "      <td>2</td>\n",
       "      <td>0</td>\n",
       "    </tr>\n",
       "    <tr>\n",
       "      <th>4</th>\n",
       "      <td>12</td>\n",
       "      <td>0</td>\n",
       "    </tr>\n",
       "    <tr>\n",
       "      <th>...</th>\n",
       "      <td>...</td>\n",
       "      <td>...</td>\n",
       "    </tr>\n",
       "    <tr>\n",
       "      <th>1455</th>\n",
       "      <td>8</td>\n",
       "      <td>1</td>\n",
       "    </tr>\n",
       "    <tr>\n",
       "      <th>1456</th>\n",
       "      <td>2</td>\n",
       "      <td>0</td>\n",
       "    </tr>\n",
       "    <tr>\n",
       "      <th>1457</th>\n",
       "      <td>5</td>\n",
       "      <td>0</td>\n",
       "    </tr>\n",
       "    <tr>\n",
       "      <th>1458</th>\n",
       "      <td>4</td>\n",
       "      <td>0</td>\n",
       "    </tr>\n",
       "    <tr>\n",
       "      <th>1459</th>\n",
       "      <td>6</td>\n",
       "      <td>1</td>\n",
       "    </tr>\n",
       "  </tbody>\n",
       "</table>\n",
       "<p>1460 rows × 2 columns</p>\n",
       "</div>"
      ],
      "text/plain": [
       "      MoSold  Summer_Sale\n",
       "0          2            0\n",
       "1          5            0\n",
       "2          9            0\n",
       "3          2            0\n",
       "4         12            0\n",
       "...      ...          ...\n",
       "1455       8            1\n",
       "1456       2            0\n",
       "1457       5            0\n",
       "1458       4            0\n",
       "1459       6            1\n",
       "\n",
       "[1460 rows x 2 columns]"
      ]
     },
     "execution_count": 48,
     "metadata": {},
     "output_type": "execute_result"
    }
   ],
   "source": [
    "# Task 4\n",
    "\n",
    "# YOUR CODE HERE\n",
    "# raise NotImplementedError()\n",
    "# display(house['MoSold'].head())\n",
    "# house['MoSold'].isnull().sum()\n",
    "# summer_months = [6, 7, 8]\n",
    "# def check_summer_sale(Mo_Sold):\n",
    "#     return 1 if Mo_Sold in summer_months else 0\n",
    "\n",
    "def check_summer_sale(Mo_Sold):\n",
    "    return 1 if Mo_Sold == 6 or Mo_Sold == 7 or Mo_Sold == 8 else 0\n",
    "\n",
    "house['Summer_Sale'] = house['MoSold'].apply(check_summer_sale)\n",
    "\n",
    "# View the new column\n",
    "house[['MoSold', 'Summer_Sale']]"
   ]
  },
  {
   "cell_type": "markdown",
   "metadata": {
    "id": "-g9YtACzcRsb"
   },
   "source": [
    "**Task 4 Test**"
   ]
  },
  {
   "cell_type": "code",
   "execution_count": null,
   "metadata": {
    "deletable": false,
    "editable": false,
    "id": "WvJbX9WJcRsb",
    "nbgrader": {
     "cell_type": "code",
     "checksum": "f376221e60d262c6ce30a843590c5d46",
     "grade": true,
     "grade_id": "cell-7df13700c084fe99",
     "locked": true,
     "points": 1,
     "schema_version": 3,
     "solution": false,
     "task": false
    }
   },
   "outputs": [],
   "source": [
    "# Task 4 - Test\n",
    "\n",
    "assert 'Summer_Sale' in house.columns, 'Did you add the Summer_Sale column?'\n",
    "\n",
    "# Hidden tests - you'll see results when you submit to Canvas"
   ]
  },
  {
   "cell_type": "markdown",
   "metadata": {
    "id": "B_9CTa2QYcpu"
   },
   "source": [
    "**Task 5**\n",
    "\n",
    "Now we'll revisit the LendingClub data. The statements to import the `loans` DataFrame have been provided for you.  Run the code block below without changing anything to load the `loans` data.\n",
    "\n",
    "* Load the data into a DataFrame called `loans`.\n",
    "* Make sure to view the `loans` DataFrame to see what data we're working with."
   ]
  },
  {
   "cell_type": "code",
   "execution_count": 49,
   "metadata": {
    "deletable": false,
    "id": "ZlXycTiAcRsc",
    "nbgrader": {
     "cell_type": "code",
     "checksum": "e0d44b4275613a840e87fd51c2afa266",
     "grade": false,
     "grade_id": "cell-a03fb13afedb44b5",
     "locked": false,
     "schema_version": 3,
     "solution": true,
     "task": false
    }
   },
   "outputs": [
    {
     "data": {
      "text/html": [
       "<div>\n",
       "<style scoped>\n",
       "    .dataframe tbody tr th:only-of-type {\n",
       "        vertical-align: middle;\n",
       "    }\n",
       "\n",
       "    .dataframe tbody tr th {\n",
       "        vertical-align: top;\n",
       "    }\n",
       "\n",
       "    .dataframe thead th {\n",
       "        text-align: right;\n",
       "    }\n",
       "</style>\n",
       "<table border=\"1\" class=\"dataframe\">\n",
       "  <thead>\n",
       "    <tr style=\"text-align: right;\">\n",
       "      <th></th>\n",
       "      <th>id</th>\n",
       "      <th>member_id</th>\n",
       "      <th>loan_amnt</th>\n",
       "      <th>funded_amnt</th>\n",
       "      <th>funded_amnt_inv</th>\n",
       "      <th>term</th>\n",
       "      <th>int_rate</th>\n",
       "      <th>installment</th>\n",
       "      <th>grade</th>\n",
       "      <th>sub_grade</th>\n",
       "      <th>...</th>\n",
       "      <th>orig_projected_additional_accrued_interest</th>\n",
       "      <th>hardship_payoff_balance_amount</th>\n",
       "      <th>hardship_last_payment_amount</th>\n",
       "      <th>debt_settlement_flag</th>\n",
       "      <th>debt_settlement_flag_date</th>\n",
       "      <th>settlement_status</th>\n",
       "      <th>settlement_date</th>\n",
       "      <th>settlement_amount</th>\n",
       "      <th>settlement_percentage</th>\n",
       "      <th>settlement_term</th>\n",
       "    </tr>\n",
       "  </thead>\n",
       "  <tbody>\n",
       "    <tr>\n",
       "      <th>0</th>\n",
       "      <td>NaN</td>\n",
       "      <td>NaN</td>\n",
       "      <td>5525</td>\n",
       "      <td>5525</td>\n",
       "      <td>5525.0</td>\n",
       "      <td>36 months</td>\n",
       "      <td>10.72%</td>\n",
       "      <td>180.15</td>\n",
       "      <td>B</td>\n",
       "      <td>B2</td>\n",
       "      <td>...</td>\n",
       "      <td>NaN</td>\n",
       "      <td>NaN</td>\n",
       "      <td>NaN</td>\n",
       "      <td>N</td>\n",
       "      <td>NaN</td>\n",
       "      <td>NaN</td>\n",
       "      <td>NaN</td>\n",
       "      <td>NaN</td>\n",
       "      <td>NaN</td>\n",
       "      <td>NaN</td>\n",
       "    </tr>\n",
       "    <tr>\n",
       "      <th>1</th>\n",
       "      <td>NaN</td>\n",
       "      <td>NaN</td>\n",
       "      <td>10000</td>\n",
       "      <td>10000</td>\n",
       "      <td>10000.0</td>\n",
       "      <td>36 months</td>\n",
       "      <td>10.08%</td>\n",
       "      <td>323.05</td>\n",
       "      <td>B</td>\n",
       "      <td>B1</td>\n",
       "      <td>...</td>\n",
       "      <td>NaN</td>\n",
       "      <td>NaN</td>\n",
       "      <td>NaN</td>\n",
       "      <td>N</td>\n",
       "      <td>NaN</td>\n",
       "      <td>NaN</td>\n",
       "      <td>NaN</td>\n",
       "      <td>NaN</td>\n",
       "      <td>NaN</td>\n",
       "      <td>NaN</td>\n",
       "    </tr>\n",
       "    <tr>\n",
       "      <th>2</th>\n",
       "      <td>NaN</td>\n",
       "      <td>NaN</td>\n",
       "      <td>12000</td>\n",
       "      <td>12000</td>\n",
       "      <td>12000.0</td>\n",
       "      <td>60 months</td>\n",
       "      <td>10.08%</td>\n",
       "      <td>255.44</td>\n",
       "      <td>B</td>\n",
       "      <td>B1</td>\n",
       "      <td>...</td>\n",
       "      <td>NaN</td>\n",
       "      <td>NaN</td>\n",
       "      <td>NaN</td>\n",
       "      <td>N</td>\n",
       "      <td>NaN</td>\n",
       "      <td>NaN</td>\n",
       "      <td>NaN</td>\n",
       "      <td>NaN</td>\n",
       "      <td>NaN</td>\n",
       "      <td>NaN</td>\n",
       "    </tr>\n",
       "    <tr>\n",
       "      <th>3</th>\n",
       "      <td>NaN</td>\n",
       "      <td>NaN</td>\n",
       "      <td>20000</td>\n",
       "      <td>20000</td>\n",
       "      <td>20000.0</td>\n",
       "      <td>36 months</td>\n",
       "      <td>6.46%</td>\n",
       "      <td>612.62</td>\n",
       "      <td>A</td>\n",
       "      <td>A1</td>\n",
       "      <td>...</td>\n",
       "      <td>NaN</td>\n",
       "      <td>NaN</td>\n",
       "      <td>NaN</td>\n",
       "      <td>N</td>\n",
       "      <td>NaN</td>\n",
       "      <td>NaN</td>\n",
       "      <td>NaN</td>\n",
       "      <td>NaN</td>\n",
       "      <td>NaN</td>\n",
       "      <td>NaN</td>\n",
       "    </tr>\n",
       "    <tr>\n",
       "      <th>4</th>\n",
       "      <td>NaN</td>\n",
       "      <td>NaN</td>\n",
       "      <td>12000</td>\n",
       "      <td>12000</td>\n",
       "      <td>12000.0</td>\n",
       "      <td>36 months</td>\n",
       "      <td>7.02%</td>\n",
       "      <td>370.64</td>\n",
       "      <td>A</td>\n",
       "      <td>A2</td>\n",
       "      <td>...</td>\n",
       "      <td>NaN</td>\n",
       "      <td>NaN</td>\n",
       "      <td>NaN</td>\n",
       "      <td>N</td>\n",
       "      <td>NaN</td>\n",
       "      <td>NaN</td>\n",
       "      <td>NaN</td>\n",
       "      <td>NaN</td>\n",
       "      <td>NaN</td>\n",
       "      <td>NaN</td>\n",
       "    </tr>\n",
       "  </tbody>\n",
       "</table>\n",
       "<p>5 rows × 144 columns</p>\n",
       "</div>"
      ],
      "text/plain": [
       "   id  member_id  loan_amnt  funded_amnt  funded_amnt_inv        term  \\\n",
       "0 NaN        NaN       5525         5525           5525.0   36 months   \n",
       "1 NaN        NaN      10000        10000          10000.0   36 months   \n",
       "2 NaN        NaN      12000        12000          12000.0   60 months   \n",
       "3 NaN        NaN      20000        20000          20000.0   36 months   \n",
       "4 NaN        NaN      12000        12000          12000.0   36 months   \n",
       "\n",
       "  int_rate  installment grade sub_grade  ...  \\\n",
       "0   10.72%       180.15     B        B2  ...   \n",
       "1   10.08%       323.05     B        B1  ...   \n",
       "2   10.08%       255.44     B        B1  ...   \n",
       "3    6.46%       612.62     A        A1  ...   \n",
       "4    7.02%       370.64     A        A2  ...   \n",
       "\n",
       "  orig_projected_additional_accrued_interest hardship_payoff_balance_amount  \\\n",
       "0                                        NaN                            NaN   \n",
       "1                                        NaN                            NaN   \n",
       "2                                        NaN                            NaN   \n",
       "3                                        NaN                            NaN   \n",
       "4                                        NaN                            NaN   \n",
       "\n",
       "  hardship_last_payment_amount  debt_settlement_flag  \\\n",
       "0                          NaN                     N   \n",
       "1                          NaN                     N   \n",
       "2                          NaN                     N   \n",
       "3                          NaN                     N   \n",
       "4                          NaN                     N   \n",
       "\n",
       "  debt_settlement_flag_date settlement_status settlement_date  \\\n",
       "0                       NaN               NaN             NaN   \n",
       "1                       NaN               NaN             NaN   \n",
       "2                       NaN               NaN             NaN   \n",
       "3                       NaN               NaN             NaN   \n",
       "4                       NaN               NaN             NaN   \n",
       "\n",
       "  settlement_amount  settlement_percentage  settlement_term  \n",
       "0               NaN                    NaN              NaN  \n",
       "1               NaN                    NaN              NaN  \n",
       "2               NaN                    NaN              NaN  \n",
       "3               NaN                    NaN              NaN  \n",
       "4               NaN                    NaN              NaN  \n",
       "\n",
       "[5 rows x 144 columns]"
      ]
     },
     "execution_count": 49,
     "metadata": {},
     "output_type": "execute_result"
    }
   ],
   "source": [
    "# Task 5\n",
    "\n",
    "# Dataset URL\n",
    "\n",
    "# Dataset URL\n",
    "loans_data = 'https://raw.githubusercontent.com/LambdaSchool/data-science-practice-datasets/main/unit_1/LendingClub/LoanStats_2018Q4_sm.csv'\n",
    "\n",
    "# YOUR CODE HERE\n",
    "# raise NotImplementedError()\n",
    "loans = pd.read_csv(loans_data)\n",
    "\n",
    "# View the dataset!\n",
    "loans.head()"
   ]
  },
  {
   "cell_type": "markdown",
   "metadata": {
    "id": "sQnzQAZrcRsc"
   },
   "source": [
    "**Tast 5 Test**"
   ]
  },
  {
   "cell_type": "code",
   "execution_count": 50,
   "metadata": {
    "deletable": false,
    "editable": false,
    "id": "kMyyAyAZcRsc",
    "nbgrader": {
     "cell_type": "code",
     "checksum": "8778b4b25a3faf54fc16085292c5f93f",
     "grade": true,
     "grade_id": "cell-365203eb4c6651fd",
     "locked": true,
     "points": 1,
     "schema_version": 3,
     "solution": false,
     "task": false
    }
   },
   "outputs": [],
   "source": [
    "# Task 5 - Test\n",
    "\n",
    "assert isinstance(loans, pd.DataFrame), 'Have you created a DataFrame named loans?'\n",
    "assert loans.shape == (30000, 144), 'Double check your DataFrame size.'\n",
    "\n",
    "# NO hidden tests for this task"
   ]
  },
  {
   "cell_type": "markdown",
   "metadata": {
    "id": "qnT_KD-MhLfg"
   },
   "source": [
    "**Introduction** - Approaching a problem two different ways.\n",
    "\n",
    "In the Guided Project, we learned how to find the earliest credit year using the built-in date-time format.  However, there is often more than one way to come up with the same solution.  \n",
    "\n",
    "In the following questions, we will work through the steps to create new variables called `Earliest_Credit_Year` and `issue_year` where we use the `.split()` function to split on the month and year in a string variable, and return just the year value. We can then use those variables to calculate the length of credit history in years.  \n",
    "\n",
    "If we do everything correctly, we should calculate *about* the same length of longest credit history that we did in class working with the date-time format.  The answers won't exactly match because we are making different assumptions about when in each month and year the loans were taken out, but it will give you a flavor for different ways of approaching the same problem."
   ]
  },
  {
   "cell_type": "markdown",
   "metadata": {
    "id": "Lx0kHSTFhoKj"
   },
   "source": [
    "**Task 6** - Create a simple test case\n",
    "\n",
    "The `credit` variable has been created for you with the value 'Jun-1979'\n",
    "\n",
    "* Use the `.split('-')` function to separate the month and year parts of the data.\n",
    "* Name the results of the .split('-') function `fields`: \n",
    "    * assign `fields[0]` to the variable `month`\n",
    "    * assign `fields[1]` to the variable `year`"
   ]
  },
  {
   "cell_type": "code",
   "execution_count": 55,
   "metadata": {
    "deletable": false,
    "id": "y80jf99GaKsL",
    "nbgrader": {
     "cell_type": "code",
     "checksum": "f119acd233e67660a97cac257a43f19b",
     "grade": false,
     "grade_id": "cell-2e0e85d026ef0577",
     "locked": false,
     "schema_version": 3,
     "solution": true,
     "task": false
    }
   },
   "outputs": [
    {
     "name": "stdout",
     "output_type": "stream",
     "text": [
      "String:  1979\n",
      "Float:  1979.0\n"
     ]
    }
   ],
   "source": [
    "# Task 6\n",
    "\n",
    "# Don't change or delete\n",
    "credit = 'Jun-1979' \n",
    "\n",
    "# YOUR CODE HERE\n",
    "# raise NotImplementedError()\n",
    "year = credit.split('-')[1]\n",
    "\n",
    "# Look at the year variable both as a string and as a float\n",
    "print('String: ', year)\n",
    "print('Float: ', float(year))"
   ]
  },
  {
   "cell_type": "markdown",
   "metadata": {
    "id": "hScLOlxAcRse"
   },
   "source": [
    "**Task 6 Test**"
   ]
  },
  {
   "cell_type": "code",
   "execution_count": null,
   "metadata": {
    "deletable": false,
    "editable": false,
    "id": "VkMqAQcCcRse",
    "nbgrader": {
     "cell_type": "code",
     "checksum": "5fbe2cfd02715641fbf21a4b319a9b16",
     "grade": true,
     "grade_id": "cell-95ad43446cc5faaa",
     "locked": true,
     "points": 1,
     "schema_version": 3,
     "solution": false,
     "task": false
    }
   },
   "outputs": [],
   "source": [
    "# Task 6 - Test\n",
    "\n",
    "# Hidden tests - you'll see results when you submit to Canvas"
   ]
  },
  {
   "cell_type": "markdown",
   "metadata": {
    "id": "TtC6exPui9y4"
   },
   "source": [
    "**Task 7** - Create a function\n",
    "\n",
    "Use your answer from **Task 6** to write a function called `credit_yr` that takes in the contents of a cell that is formatted as \"month-year\" and returns the year.\n",
    "\n",
    "* Complete the definition of the function `credit_yr` below:\n",
    "    * one argument `cell_contents` as input (provided for you)\n",
    "    * splits the `cell_content` on a `-` and calls the result `fields`\n",
    "    * creates the variable `year` which has the value `fields[1]`\n",
    "    * returns `year` as a float variable\n",
    "* Run your function using the simple test case in Task 6 (`credit='Jun-1979'`). Assign the output of the function to the variable `year_function`."
   ]
  },
  {
   "cell_type": "code",
   "execution_count": 64,
   "metadata": {
    "deletable": false,
    "id": "dtF2-tjogC6J",
    "nbgrader": {
     "cell_type": "code",
     "checksum": "9d5cceb4eb91cd83d0eb1ad0310bdc0e",
     "grade": false,
     "grade_id": "cell-67705c48e95b83db",
     "locked": false,
     "schema_version": 3,
     "solution": true,
     "task": false
    }
   },
   "outputs": [
    {
     "name": "stdout",
     "output_type": "stream",
     "text": [
      "1979.0\n"
     ]
    }
   ],
   "source": [
    "# Task 7\n",
    "\n",
    "# Complete the function definition\n",
    "def credit_yr(cell_contents):\n",
    "    return float(cell_contents.split('-')[1])\n",
    "# YOUR CODE HERE\n",
    "# raise NotImplementedError()\n",
    "\n",
    "# Print your year_function variable\n",
    "print(credit_yr('Jun-1979'))\n",
    "year_function = credit_yr"
   ]
  },
  {
   "cell_type": "markdown",
   "metadata": {
    "id": "-bQ0sYPVcRsf"
   },
   "source": [
    "**Task 7 Test**"
   ]
  },
  {
   "cell_type": "code",
   "execution_count": null,
   "metadata": {
    "deletable": false,
    "editable": false,
    "id": "nea_V08lcRsf",
    "nbgrader": {
     "cell_type": "code",
     "checksum": "c0208e15b36760d1a1d0d0ea94bacda0",
     "grade": true,
     "grade_id": "cell-e850dcb0651cdf47",
     "locked": true,
     "points": 1,
     "schema_version": 3,
     "solution": false,
     "task": false
    }
   },
   "outputs": [],
   "source": [
    "# Task 7 - Test\n",
    "\n",
    "assert isinstance(year_function, float), 'Make sure your year variable is a float!'\n",
    "\n",
    "# Hidden tests - you'll see results when you submit to Canvas"
   ]
  },
  {
   "cell_type": "markdown",
   "metadata": {
    "id": "a1XVfTOIjfrW"
   },
   "source": [
    "**Task 8** - Apply our function\n",
    "\n",
    "Now we're going to use the function we created and apply it to a column in our `loans` DataFrame. \n",
    "\n",
    "* Use the `.apply()` function to apply the function to every cell in the `earliest_cr_line` column.\n",
    "* Assign the results to a new column called `Earliest_Credit_Year`.\n",
    "* View the top five rows of the `Earliest_Credit_Year` and `earliest_cr_line` columns to make sure the variables were created correctly (code provided for you)."
   ]
  },
  {
   "cell_type": "code",
   "execution_count": 67,
   "metadata": {
    "deletable": false,
    "id": "lZhlULhykCB_",
    "nbgrader": {
     "cell_type": "code",
     "checksum": "06a8503a192be83061e085a9462c9faf",
     "grade": false,
     "grade_id": "cell-190721b22d999b13",
     "locked": false,
     "schema_version": 3,
     "solution": true,
     "task": false
    }
   },
   "outputs": [
    {
     "name": "stdout",
     "output_type": "stream",
     "text": [
      "(30000, 145)\n"
     ]
    },
    {
     "data": {
      "text/html": [
       "<div>\n",
       "<style scoped>\n",
       "    .dataframe tbody tr th:only-of-type {\n",
       "        vertical-align: middle;\n",
       "    }\n",
       "\n",
       "    .dataframe tbody tr th {\n",
       "        vertical-align: top;\n",
       "    }\n",
       "\n",
       "    .dataframe thead th {\n",
       "        text-align: right;\n",
       "    }\n",
       "</style>\n",
       "<table border=\"1\" class=\"dataframe\">\n",
       "  <thead>\n",
       "    <tr style=\"text-align: right;\">\n",
       "      <th></th>\n",
       "      <th>Earliest_Credit_Year</th>\n",
       "      <th>earliest_cr_line</th>\n",
       "    </tr>\n",
       "  </thead>\n",
       "  <tbody>\n",
       "    <tr>\n",
       "      <th>0</th>\n",
       "      <td>1998.0</td>\n",
       "      <td>Oct-1998</td>\n",
       "    </tr>\n",
       "    <tr>\n",
       "      <th>1</th>\n",
       "      <td>2015.0</td>\n",
       "      <td>Sep-2015</td>\n",
       "    </tr>\n",
       "    <tr>\n",
       "      <th>2</th>\n",
       "      <td>2003.0</td>\n",
       "      <td>Jun-2003</td>\n",
       "    </tr>\n",
       "    <tr>\n",
       "      <th>3</th>\n",
       "      <td>2005.0</td>\n",
       "      <td>Feb-2005</td>\n",
       "    </tr>\n",
       "    <tr>\n",
       "      <th>4</th>\n",
       "      <td>2008.0</td>\n",
       "      <td>Feb-2008</td>\n",
       "    </tr>\n",
       "  </tbody>\n",
       "</table>\n",
       "</div>"
      ],
      "text/plain": [
       "   Earliest_Credit_Year earliest_cr_line\n",
       "0                1998.0         Oct-1998\n",
       "1                2015.0         Sep-2015\n",
       "2                2003.0         Jun-2003\n",
       "3                2005.0         Feb-2005\n",
       "4                2008.0         Feb-2008"
      ]
     },
     "execution_count": 67,
     "metadata": {},
     "output_type": "execute_result"
    }
   ],
   "source": [
    "# Task 8\n",
    "\n",
    "loans = loans.copy()\n",
    "\n",
    "# YOUR CODE HERE\n",
    "# raise NotImplementedError()\n",
    "loans['Earliest_Credit_Year'] = loans['earliest_cr_line'].apply(credit_yr)\n",
    "print(loans.shape)\n",
    "# Print your columns\n",
    "loans[['Earliest_Credit_Year','earliest_cr_line']].head()\n"
   ]
  },
  {
   "cell_type": "markdown",
   "metadata": {
    "id": "KW3dvjORcRsg"
   },
   "source": [
    "**Task 8 Test**"
   ]
  },
  {
   "cell_type": "code",
   "execution_count": 66,
   "metadata": {
    "deletable": false,
    "editable": false,
    "id": "sBJQDUJxcRsg",
    "nbgrader": {
     "cell_type": "code",
     "checksum": "5922454ea6c43cbed0d38b36295f006c",
     "grade": true,
     "grade_id": "cell-1c6181c54ca22ae6",
     "locked": true,
     "points": 1,
     "schema_version": 3,
     "solution": false,
     "task": false
    }
   },
   "outputs": [],
   "source": [
    "# Task 8 - Test\n",
    "\n",
    "assert 'Earliest_Credit_Year' in loans.columns, 'Did you add the \"Earliest_Credit_Year\" column?'\n",
    "assert loans.shape == (30000, 145), 'Double check your DataFrame size.'\n",
    "\n",
    "# Hidden tests - you'll see results when you submit to Canvas"
   ]
  },
  {
   "cell_type": "markdown",
   "metadata": {
    "id": "w5vb0vQjg3Sj"
   },
   "source": [
    "**Task 9** - Apply the function to a new column\n",
    "\n",
    "So next, we're going to use the `credit_yr` function to create a new variable called `Issue_Year` from the `issue_d` variable. Follow the sames steps as you did in Task 8.\n",
    "\n",
    "* Apply `credit_yr` to the `issue_d` column.\n",
    "* Name your new column `Issue_Year`.\n",
    "* View the `Issue_Year`,`issue_d` columns (code provided for you)."
   ]
  },
  {
   "cell_type": "code",
   "execution_count": 70,
   "metadata": {
    "deletable": false,
    "id": "5sIn85mbg1pw",
    "nbgrader": {
     "cell_type": "code",
     "checksum": "203c38c6d3020749d9460f27b3d73f2e",
     "grade": false,
     "grade_id": "cell-b31b3dfe0d069095",
     "locked": false,
     "schema_version": 3,
     "solution": true,
     "task": false
    }
   },
   "outputs": [
    {
     "data": {
      "text/html": [
       "<div>\n",
       "<style scoped>\n",
       "    .dataframe tbody tr th:only-of-type {\n",
       "        vertical-align: middle;\n",
       "    }\n",
       "\n",
       "    .dataframe tbody tr th {\n",
       "        vertical-align: top;\n",
       "    }\n",
       "\n",
       "    .dataframe thead th {\n",
       "        text-align: right;\n",
       "    }\n",
       "</style>\n",
       "<table border=\"1\" class=\"dataframe\">\n",
       "  <thead>\n",
       "    <tr style=\"text-align: right;\">\n",
       "      <th></th>\n",
       "      <th>Issue_Year</th>\n",
       "      <th>issue_d</th>\n",
       "    </tr>\n",
       "  </thead>\n",
       "  <tbody>\n",
       "    <tr>\n",
       "      <th>0</th>\n",
       "      <td>2018.0</td>\n",
       "      <td>Dec-2018</td>\n",
       "    </tr>\n",
       "    <tr>\n",
       "      <th>1</th>\n",
       "      <td>2018.0</td>\n",
       "      <td>Oct-2018</td>\n",
       "    </tr>\n",
       "    <tr>\n",
       "      <th>2</th>\n",
       "      <td>2018.0</td>\n",
       "      <td>Oct-2018</td>\n",
       "    </tr>\n",
       "    <tr>\n",
       "      <th>3</th>\n",
       "      <td>2018.0</td>\n",
       "      <td>Nov-2018</td>\n",
       "    </tr>\n",
       "    <tr>\n",
       "      <th>4</th>\n",
       "      <td>2018.0</td>\n",
       "      <td>Dec-2018</td>\n",
       "    </tr>\n",
       "  </tbody>\n",
       "</table>\n",
       "</div>"
      ],
      "text/plain": [
       "   Issue_Year   issue_d\n",
       "0      2018.0  Dec-2018\n",
       "1      2018.0  Oct-2018\n",
       "2      2018.0  Oct-2018\n",
       "3      2018.0  Nov-2018\n",
       "4      2018.0  Dec-2018"
      ]
     },
     "execution_count": 70,
     "metadata": {},
     "output_type": "execute_result"
    }
   ],
   "source": [
    "# Task 9\n",
    "\n",
    "# YOUR CODE HERE\n",
    "# raise NotImplementedError()\n",
    "loans['Issue_Year'] = loans['issue_d'].apply(credit_yr)\n",
    "\n",
    "# Print your columns\n",
    "loans[['Issue_Year','issue_d']].head()"
   ]
  },
  {
   "cell_type": "markdown",
   "metadata": {
    "id": "Oa__5NeAcRsg"
   },
   "source": [
    "**Task 9**"
   ]
  },
  {
   "cell_type": "code",
   "execution_count": 71,
   "metadata": {
    "deletable": false,
    "editable": false,
    "id": "hLdmvYJqcRsh",
    "nbgrader": {
     "cell_type": "code",
     "checksum": "d4c482e283b26971356d81e800bb2198",
     "grade": true,
     "grade_id": "cell-1ae1a8aef5f84b70",
     "locked": true,
     "points": 1,
     "schema_version": 3,
     "solution": false,
     "task": false
    }
   },
   "outputs": [],
   "source": [
    "# Task 9 - Test\n",
    "\n",
    "assert 'Issue_Year' in loans.columns, 'Did you add the \"Issue_Year\" column?'\n",
    "assert loans.shape == (30000, 146), 'Double check your DataFrame size.'\n",
    "\n",
    "# Hidden tests - you'll see results when you submit to Canvas"
   ]
  },
  {
   "cell_type": "markdown",
   "metadata": {
    "id": "iZItgQjQiCh9"
   },
   "source": [
    "**Task 10** - Calculate length of time from your new columns\n",
    "\n",
    "Now we're going to use the two new columns you created to calculate the length of credit history in years and in days.\n",
    "\n",
    "* Create a new column called `Credit_History_Years` which is the difference between `Issue_Year` and `Earliest_Credit_Year`\n",
    "* Create another new column called `Credit_History_Days` which is the value in the column you created above expect multipled by 365.25 to convert years to days.\n",
    "* View the top five rows of the `loans` DataFrame (code has been provided).\n",
    "\n",
    "Hint: If you are getting an error message, make sure to check the data type of the `year` values output by your function."
   ]
  },
  {
   "cell_type": "code",
   "execution_count": 74,
   "metadata": {
    "deletable": false,
    "id": "0mT7pG9hiTf2",
    "nbgrader": {
     "cell_type": "code",
     "checksum": "024db84343a316dbc1c3ae0cb48307c3",
     "grade": false,
     "grade_id": "cell-2f411113665bb37a",
     "locked": false,
     "schema_version": 3,
     "solution": true,
     "task": false
    }
   },
   "outputs": [
    {
     "name": "stdout",
     "output_type": "stream",
     "text": [
      "(30000, 148)\n"
     ]
    },
    {
     "data": {
      "text/html": [
       "<div>\n",
       "<style scoped>\n",
       "    .dataframe tbody tr th:only-of-type {\n",
       "        vertical-align: middle;\n",
       "    }\n",
       "\n",
       "    .dataframe tbody tr th {\n",
       "        vertical-align: top;\n",
       "    }\n",
       "\n",
       "    .dataframe thead th {\n",
       "        text-align: right;\n",
       "    }\n",
       "</style>\n",
       "<table border=\"1\" class=\"dataframe\">\n",
       "  <thead>\n",
       "    <tr style=\"text-align: right;\">\n",
       "      <th></th>\n",
       "      <th>Issue_Year</th>\n",
       "      <th>Earliest_Credit_Year</th>\n",
       "      <th>Credit_History_Years</th>\n",
       "      <th>Credit_History_Days</th>\n",
       "    </tr>\n",
       "  </thead>\n",
       "  <tbody>\n",
       "    <tr>\n",
       "      <th>0</th>\n",
       "      <td>2018.0</td>\n",
       "      <td>1998.0</td>\n",
       "      <td>20.0</td>\n",
       "      <td>7305.00</td>\n",
       "    </tr>\n",
       "    <tr>\n",
       "      <th>1</th>\n",
       "      <td>2018.0</td>\n",
       "      <td>2015.0</td>\n",
       "      <td>3.0</td>\n",
       "      <td>1095.75</td>\n",
       "    </tr>\n",
       "    <tr>\n",
       "      <th>2</th>\n",
       "      <td>2018.0</td>\n",
       "      <td>2003.0</td>\n",
       "      <td>15.0</td>\n",
       "      <td>5478.75</td>\n",
       "    </tr>\n",
       "    <tr>\n",
       "      <th>3</th>\n",
       "      <td>2018.0</td>\n",
       "      <td>2005.0</td>\n",
       "      <td>13.0</td>\n",
       "      <td>4748.25</td>\n",
       "    </tr>\n",
       "    <tr>\n",
       "      <th>4</th>\n",
       "      <td>2018.0</td>\n",
       "      <td>2008.0</td>\n",
       "      <td>10.0</td>\n",
       "      <td>3652.50</td>\n",
       "    </tr>\n",
       "  </tbody>\n",
       "</table>\n",
       "</div>"
      ],
      "text/plain": [
       "   Issue_Year  Earliest_Credit_Year  Credit_History_Years  Credit_History_Days\n",
       "0      2018.0                1998.0                  20.0              7305.00\n",
       "1      2018.0                2015.0                   3.0              1095.75\n",
       "2      2018.0                2003.0                  15.0              5478.75\n",
       "3      2018.0                2005.0                  13.0              4748.25\n",
       "4      2018.0                2008.0                  10.0              3652.50"
      ]
     },
     "execution_count": 74,
     "metadata": {},
     "output_type": "execute_result"
    }
   ],
   "source": [
    "# Task 10\n",
    "\n",
    "# YOUR CODE HERE\n",
    "# raise NotImplementedError()\n",
    "loans['Credit_History_Years'] = loans['Issue_Year'] - loans['Earliest_Credit_Year']\n",
    "loans['Credit_History_Days'] = loans['Credit_History_Years'] * 365.25\n",
    "\n",
    "print(loans.shape)\n",
    "\n",
    "loans[['Issue_Year','Earliest_Credit_Year','Credit_History_Years','Credit_History_Days']].head()"
   ]
  },
  {
   "cell_type": "markdown",
   "metadata": {
    "id": "RZ-9Qih6cRsh"
   },
   "source": [
    "**Task 10 Test**"
   ]
  },
  {
   "cell_type": "code",
   "execution_count": null,
   "metadata": {
    "deletable": false,
    "editable": false,
    "id": "sd5cWJ7BcRsh",
    "nbgrader": {
     "cell_type": "code",
     "checksum": "7d1deccb8585b3635ebbcd6a50f887df",
     "grade": true,
     "grade_id": "cell-e3694613b297ae85",
     "locked": true,
     "points": 1,
     "schema_version": 3,
     "solution": false,
     "task": false
    }
   },
   "outputs": [],
   "source": [
    "# Task 10 - Test\n",
    "\n",
    "assert 'Credit_History_Years' in loans.columns, 'Did you add the correct column?'\n",
    "assert 'Credit_History_Days' in loans.columns, 'Did you add the correct column converted to days?'\n",
    "assert loans.shape == (30000, 148), 'Double check your DataFrame size.'\n",
    "\n",
    "# Hidden tests - you'll see results when you submit to Canvas"
   ]
  },
  {
   "cell_type": "markdown",
   "metadata": {
    "id": "PvcOSw9gjUzF"
   },
   "source": [
    "**Task 11** - Calculate the maximum credit length\n",
    "\n",
    "Finally, we're going to use results from the `Credit_History_Years` column and compare it to we got in the Guided Project.\n",
    "\n",
    "* Find the maximum values in the `Credit_History_Years` column and assign it to the variable `max_credit`. Make sure you have a float value defined out to one decimal place.\n",
    "* Compare the the value from the Guided Project (refer to your notebook from class).\n",
    "\n",
    "Note - it won't be *exactly* the same because both methods are working in different ways, but they will give you a \"pretty close\" answer."
   ]
  },
  {
   "cell_type": "code",
   "execution_count": 75,
   "metadata": {
    "deletable": false,
    "id": "gmNFZzaQjdQi",
    "nbgrader": {
     "cell_type": "code",
     "checksum": "18f87705debb5f4d4c75be2159796925",
     "grade": false,
     "grade_id": "cell-421ef18e66bbaab0",
     "locked": false,
     "schema_version": 3,
     "solution": true,
     "task": false
    }
   },
   "outputs": [
    {
     "data": {
      "text/plain": [
       "68.0"
      ]
     },
     "execution_count": 75,
     "metadata": {},
     "output_type": "execute_result"
    }
   ],
   "source": [
    "# Task 11\n",
    "\n",
    "# YOUR CODE HERE\n",
    "# raise NotImplementedError()\n",
    "max_credit = loans['Credit_History_Years'].max()"
   ]
  },
  {
   "cell_type": "markdown",
   "metadata": {
    "id": "8v7nvfJHcRsi"
   },
   "source": [
    "**Task 11 Test**"
   ]
  },
  {
   "cell_type": "code",
   "execution_count": null,
   "metadata": {
    "deletable": false,
    "editable": false,
    "id": "HtINJWibcRsi",
    "nbgrader": {
     "cell_type": "code",
     "checksum": "6c136ce5c21a864d092273a0ae080725",
     "grade": true,
     "grade_id": "cell-b39de9ca5d93a343",
     "locked": true,
     "points": 1,
     "schema_version": 3,
     "solution": false,
     "task": false
    }
   },
   "outputs": [],
   "source": [
    "# Task 11 - Test\n",
    "\n",
    "# Hidden tests - you'll see results when you submit to Canvas\n"
   ]
  }
 ],
 "metadata": {
  "colab": {
   "collapsed_sections": [],
   "name": "LS_DS_112_Make_Features_Assignment_AG.ipynb",
   "provenance": []
  },
  "kernelspec": {
   "display_name": "Python 3 (ipykernel)",
   "language": "python",
   "name": "python3"
  },
  "language_info": {
   "codemirror_mode": {
    "name": "ipython",
    "version": 3
   },
   "file_extension": ".py",
   "mimetype": "text/x-python",
   "name": "python",
   "nbconvert_exporter": "python",
   "pygments_lexer": "ipython3",
   "version": "3.8.5"
  }
 },
 "nbformat": 4,
 "nbformat_minor": 1
}
