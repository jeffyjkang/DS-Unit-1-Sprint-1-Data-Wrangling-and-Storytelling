{
 "cells": [
  {
   "cell_type": "markdown",
   "metadata": {
    "id": "qacqiXogluN_"
   },
   "source": [
    "#Can you fix my code?\n",
    "\n",
    "I tried to complete yesterday's project, but I have so many errors!  Can you find and fix them all?"
   ]
  },
  {
   "cell_type": "markdown",
   "metadata": {
    "id": "LZSXUzBm3yvk"
   },
   "source": [
    "# Let's continue to explore feature engineering with the Ames Housing data.  Import the dataset and name it \"house\".\n",
    "\n",
    "###1) Import the Ames Housing Data here: https://raw.githubusercontent.com/ryanleeallred/datasets/master/Ames%20Housing%20Data/train.csv"
   ]
  },
  {
   "cell_type": "code",
   "execution_count": 4,
   "metadata": {
    "id": "GHK1_AnhVsh8"
   },
   "outputs": [],
   "source": [
    "import pandas as pd\n",
    "\n",
    "house = pd.read_csv('https://raw.githubusercontent.com/ryanleeallred/datasets/master/Ames%20Housing%20Data/train.csv')"
   ]
  },
  {
   "cell_type": "markdown",
   "metadata": {
    "id": "Skyk7zl3V75m"
   },
   "source": [
    "###2) Print the first five rows of the house dataset."
   ]
  },
  {
   "cell_type": "code",
   "execution_count": 6,
   "metadata": {
    "id": "dWWxoKPRWLWI"
   },
   "outputs": [
    {
     "data": {
      "text/html": [
       "<div>\n",
       "<style scoped>\n",
       "    .dataframe tbody tr th:only-of-type {\n",
       "        vertical-align: middle;\n",
       "    }\n",
       "\n",
       "    .dataframe tbody tr th {\n",
       "        vertical-align: top;\n",
       "    }\n",
       "\n",
       "    .dataframe thead th {\n",
       "        text-align: right;\n",
       "    }\n",
       "</style>\n",
       "<table border=\"1\" class=\"dataframe\">\n",
       "  <thead>\n",
       "    <tr style=\"text-align: right;\">\n",
       "      <th></th>\n",
       "      <th>Id</th>\n",
       "      <th>MSSubClass</th>\n",
       "      <th>MSZoning</th>\n",
       "      <th>LotFrontage</th>\n",
       "      <th>LotArea</th>\n",
       "      <th>Street</th>\n",
       "      <th>Alley</th>\n",
       "      <th>LotShape</th>\n",
       "      <th>LandContour</th>\n",
       "      <th>Utilities</th>\n",
       "      <th>...</th>\n",
       "      <th>PoolArea</th>\n",
       "      <th>PoolQC</th>\n",
       "      <th>Fence</th>\n",
       "      <th>MiscFeature</th>\n",
       "      <th>MiscVal</th>\n",
       "      <th>MoSold</th>\n",
       "      <th>YrSold</th>\n",
       "      <th>SaleType</th>\n",
       "      <th>SaleCondition</th>\n",
       "      <th>SalePrice</th>\n",
       "    </tr>\n",
       "  </thead>\n",
       "  <tbody>\n",
       "    <tr>\n",
       "      <th>0</th>\n",
       "      <td>1</td>\n",
       "      <td>60</td>\n",
       "      <td>RL</td>\n",
       "      <td>65.0</td>\n",
       "      <td>8450</td>\n",
       "      <td>Pave</td>\n",
       "      <td>NaN</td>\n",
       "      <td>Reg</td>\n",
       "      <td>Lvl</td>\n",
       "      <td>AllPub</td>\n",
       "      <td>...</td>\n",
       "      <td>0</td>\n",
       "      <td>NaN</td>\n",
       "      <td>NaN</td>\n",
       "      <td>NaN</td>\n",
       "      <td>0</td>\n",
       "      <td>2</td>\n",
       "      <td>2008</td>\n",
       "      <td>WD</td>\n",
       "      <td>Normal</td>\n",
       "      <td>208500</td>\n",
       "    </tr>\n",
       "    <tr>\n",
       "      <th>1</th>\n",
       "      <td>2</td>\n",
       "      <td>20</td>\n",
       "      <td>RL</td>\n",
       "      <td>80.0</td>\n",
       "      <td>9600</td>\n",
       "      <td>Pave</td>\n",
       "      <td>NaN</td>\n",
       "      <td>Reg</td>\n",
       "      <td>Lvl</td>\n",
       "      <td>AllPub</td>\n",
       "      <td>...</td>\n",
       "      <td>0</td>\n",
       "      <td>NaN</td>\n",
       "      <td>NaN</td>\n",
       "      <td>NaN</td>\n",
       "      <td>0</td>\n",
       "      <td>5</td>\n",
       "      <td>2007</td>\n",
       "      <td>WD</td>\n",
       "      <td>Normal</td>\n",
       "      <td>181500</td>\n",
       "    </tr>\n",
       "    <tr>\n",
       "      <th>2</th>\n",
       "      <td>3</td>\n",
       "      <td>60</td>\n",
       "      <td>RL</td>\n",
       "      <td>68.0</td>\n",
       "      <td>11250</td>\n",
       "      <td>Pave</td>\n",
       "      <td>NaN</td>\n",
       "      <td>IR1</td>\n",
       "      <td>Lvl</td>\n",
       "      <td>AllPub</td>\n",
       "      <td>...</td>\n",
       "      <td>0</td>\n",
       "      <td>NaN</td>\n",
       "      <td>NaN</td>\n",
       "      <td>NaN</td>\n",
       "      <td>0</td>\n",
       "      <td>9</td>\n",
       "      <td>2008</td>\n",
       "      <td>WD</td>\n",
       "      <td>Normal</td>\n",
       "      <td>223500</td>\n",
       "    </tr>\n",
       "    <tr>\n",
       "      <th>3</th>\n",
       "      <td>4</td>\n",
       "      <td>70</td>\n",
       "      <td>RL</td>\n",
       "      <td>60.0</td>\n",
       "      <td>9550</td>\n",
       "      <td>Pave</td>\n",
       "      <td>NaN</td>\n",
       "      <td>IR1</td>\n",
       "      <td>Lvl</td>\n",
       "      <td>AllPub</td>\n",
       "      <td>...</td>\n",
       "      <td>0</td>\n",
       "      <td>NaN</td>\n",
       "      <td>NaN</td>\n",
       "      <td>NaN</td>\n",
       "      <td>0</td>\n",
       "      <td>2</td>\n",
       "      <td>2006</td>\n",
       "      <td>WD</td>\n",
       "      <td>Abnorml</td>\n",
       "      <td>140000</td>\n",
       "    </tr>\n",
       "    <tr>\n",
       "      <th>4</th>\n",
       "      <td>5</td>\n",
       "      <td>60</td>\n",
       "      <td>RL</td>\n",
       "      <td>84.0</td>\n",
       "      <td>14260</td>\n",
       "      <td>Pave</td>\n",
       "      <td>NaN</td>\n",
       "      <td>IR1</td>\n",
       "      <td>Lvl</td>\n",
       "      <td>AllPub</td>\n",
       "      <td>...</td>\n",
       "      <td>0</td>\n",
       "      <td>NaN</td>\n",
       "      <td>NaN</td>\n",
       "      <td>NaN</td>\n",
       "      <td>0</td>\n",
       "      <td>12</td>\n",
       "      <td>2008</td>\n",
       "      <td>WD</td>\n",
       "      <td>Normal</td>\n",
       "      <td>250000</td>\n",
       "    </tr>\n",
       "  </tbody>\n",
       "</table>\n",
       "<p>5 rows × 81 columns</p>\n",
       "</div>"
      ],
      "text/plain": [
       "   Id  MSSubClass MSZoning  LotFrontage  LotArea Street Alley LotShape  \\\n",
       "0   1          60       RL         65.0     8450   Pave   NaN      Reg   \n",
       "1   2          20       RL         80.0     9600   Pave   NaN      Reg   \n",
       "2   3          60       RL         68.0    11250   Pave   NaN      IR1   \n",
       "3   4          70       RL         60.0     9550   Pave   NaN      IR1   \n",
       "4   5          60       RL         84.0    14260   Pave   NaN      IR1   \n",
       "\n",
       "  LandContour Utilities  ... PoolArea PoolQC Fence MiscFeature MiscVal MoSold  \\\n",
       "0         Lvl    AllPub  ...        0    NaN   NaN         NaN       0      2   \n",
       "1         Lvl    AllPub  ...        0    NaN   NaN         NaN       0      5   \n",
       "2         Lvl    AllPub  ...        0    NaN   NaN         NaN       0      9   \n",
       "3         Lvl    AllPub  ...        0    NaN   NaN         NaN       0      2   \n",
       "4         Lvl    AllPub  ...        0    NaN   NaN         NaN       0     12   \n",
       "\n",
       "  YrSold  SaleType  SaleCondition  SalePrice  \n",
       "0   2008        WD         Normal     208500  \n",
       "1   2007        WD         Normal     181500  \n",
       "2   2008        WD         Normal     223500  \n",
       "3   2006        WD        Abnorml     140000  \n",
       "4   2008        WD         Normal     250000  \n",
       "\n",
       "[5 rows x 81 columns]"
      ]
     },
     "execution_count": 6,
     "metadata": {},
     "output_type": "execute_result"
    }
   ],
   "source": [
    "house.head()"
   ]
  },
  {
   "cell_type": "markdown",
   "metadata": {
    "id": "s1T9P_I0XJqa"
   },
   "source": [
    "###3) Create a new variable called Large_Lot that takes on the value 1 when LotArea is gerater than or equal to 10,000 and the value 0 when LotArea is less than 10,000."
   ]
  },
  {
   "cell_type": "code",
   "execution_count": 12,
   "metadata": {
    "id": "ud09Dy0zreRB"
   },
   "outputs": [
    {
     "data": {
      "text/html": [
       "<div>\n",
       "<style scoped>\n",
       "    .dataframe tbody tr th:only-of-type {\n",
       "        vertical-align: middle;\n",
       "    }\n",
       "\n",
       "    .dataframe tbody tr th {\n",
       "        vertical-align: top;\n",
       "    }\n",
       "\n",
       "    .dataframe thead th {\n",
       "        text-align: right;\n",
       "    }\n",
       "</style>\n",
       "<table border=\"1\" class=\"dataframe\">\n",
       "  <thead>\n",
       "    <tr style=\"text-align: right;\">\n",
       "      <th></th>\n",
       "      <th>LotArea</th>\n",
       "      <th>Large_Lot</th>\n",
       "    </tr>\n",
       "  </thead>\n",
       "  <tbody>\n",
       "    <tr>\n",
       "      <th>0</th>\n",
       "      <td>8450</td>\n",
       "      <td>0.0</td>\n",
       "    </tr>\n",
       "    <tr>\n",
       "      <th>1</th>\n",
       "      <td>9600</td>\n",
       "      <td>0.0</td>\n",
       "    </tr>\n",
       "    <tr>\n",
       "      <th>2</th>\n",
       "      <td>11250</td>\n",
       "      <td>1.0</td>\n",
       "    </tr>\n",
       "    <tr>\n",
       "      <th>3</th>\n",
       "      <td>9550</td>\n",
       "      <td>0.0</td>\n",
       "    </tr>\n",
       "    <tr>\n",
       "      <th>4</th>\n",
       "      <td>14260</td>\n",
       "      <td>1.0</td>\n",
       "    </tr>\n",
       "    <tr>\n",
       "      <th>...</th>\n",
       "      <td>...</td>\n",
       "      <td>...</td>\n",
       "    </tr>\n",
       "    <tr>\n",
       "      <th>1455</th>\n",
       "      <td>7917</td>\n",
       "      <td>0.0</td>\n",
       "    </tr>\n",
       "    <tr>\n",
       "      <th>1456</th>\n",
       "      <td>13175</td>\n",
       "      <td>1.0</td>\n",
       "    </tr>\n",
       "    <tr>\n",
       "      <th>1457</th>\n",
       "      <td>9042</td>\n",
       "      <td>0.0</td>\n",
       "    </tr>\n",
       "    <tr>\n",
       "      <th>1458</th>\n",
       "      <td>9717</td>\n",
       "      <td>0.0</td>\n",
       "    </tr>\n",
       "    <tr>\n",
       "      <th>1459</th>\n",
       "      <td>9937</td>\n",
       "      <td>0.0</td>\n",
       "    </tr>\n",
       "  </tbody>\n",
       "</table>\n",
       "<p>1460 rows × 2 columns</p>\n",
       "</div>"
      ],
      "text/plain": [
       "      LotArea  Large_Lot\n",
       "0        8450        0.0\n",
       "1        9600        0.0\n",
       "2       11250        1.0\n",
       "3        9550        0.0\n",
       "4       14260        1.0\n",
       "...       ...        ...\n",
       "1455     7917        0.0\n",
       "1456    13175        1.0\n",
       "1457     9042        0.0\n",
       "1458     9717        0.0\n",
       "1459     9937        0.0\n",
       "\n",
       "[1460 rows x 2 columns]"
      ]
     },
     "execution_count": 12,
     "metadata": {},
     "output_type": "execute_result"
    }
   ],
   "source": [
    "house.loc[house['LotArea'] >= 10000, 'Large_Lot'] = 1\n",
    "house.loc[house['LotArea'] < 10000, 'Large_Lot'] = 0\n",
    "\n",
    "house[['LotArea', 'Large_Lot']] "
   ]
  },
  {
   "cell_type": "markdown",
   "metadata": {
    "id": "sFduYJa5L-s4"
   },
   "source": [
    "###4) Create a new variable called Total_Bathrooms that contains the total number of full and half bathrooms in the house."
   ]
  },
  {
   "cell_type": "code",
   "execution_count": 11,
   "metadata": {
    "id": "qzDon2puMCAy"
   },
   "outputs": [
    {
     "name": "stdout",
     "output_type": "stream",
     "text": [
      "      Total_Bathrooms  BsmtFullBath  BsmtHalfBath  FullBath  HalfBath\n",
      "0                   4             1             0         2         1\n",
      "1                   3             0             1         2         0\n",
      "2                   4             1             0         2         1\n",
      "3                   2             1             0         1         0\n",
      "4                   4             1             0         2         1\n",
      "...               ...           ...           ...       ...       ...\n",
      "1455                3             0             0         2         1\n",
      "1456                3             1             0         2         0\n",
      "1457                2             0             0         2         0\n",
      "1458                2             1             0         1         0\n",
      "1459                3             1             0         1         1\n",
      "\n",
      "[1460 rows x 5 columns]\n"
     ]
    }
   ],
   "source": [
    "house['Total_Bathrooms'] = house['BsmtFullBath'] + house['BsmtHalfBath'] + house['FullBath'] + house['HalfBath']\n",
    "\n",
    "print(house[['Total_Bathrooms','BsmtFullBath','BsmtHalfBath','FullBath','HalfBath']])"
   ]
  },
  {
   "cell_type": "markdown",
   "metadata": {
    "id": "bnh-uoqYN29Q"
   },
   "source": [
    "###5) Create a new variable called Summer_Sale that equals 1 if the sale month was in June, July or August ( MoSold = 6, 7 or 8) and 0 if the sale month was in September - May."
   ]
  },
  {
   "cell_type": "code",
   "execution_count": 14,
   "metadata": {
    "id": "4k0Qd30MP4OS"
   },
   "outputs": [
    {
     "data": {
      "text/html": [
       "<div>\n",
       "<style scoped>\n",
       "    .dataframe tbody tr th:only-of-type {\n",
       "        vertical-align: middle;\n",
       "    }\n",
       "\n",
       "    .dataframe tbody tr th {\n",
       "        vertical-align: top;\n",
       "    }\n",
       "\n",
       "    .dataframe thead th {\n",
       "        text-align: right;\n",
       "    }\n",
       "</style>\n",
       "<table border=\"1\" class=\"dataframe\">\n",
       "  <thead>\n",
       "    <tr style=\"text-align: right;\">\n",
       "      <th></th>\n",
       "      <th>MoSold</th>\n",
       "      <th>Summer_Sale</th>\n",
       "    </tr>\n",
       "  </thead>\n",
       "  <tbody>\n",
       "    <tr>\n",
       "      <th>0</th>\n",
       "      <td>2</td>\n",
       "      <td>0.0</td>\n",
       "    </tr>\n",
       "    <tr>\n",
       "      <th>1</th>\n",
       "      <td>5</td>\n",
       "      <td>0.0</td>\n",
       "    </tr>\n",
       "    <tr>\n",
       "      <th>2</th>\n",
       "      <td>9</td>\n",
       "      <td>0.0</td>\n",
       "    </tr>\n",
       "    <tr>\n",
       "      <th>3</th>\n",
       "      <td>2</td>\n",
       "      <td>0.0</td>\n",
       "    </tr>\n",
       "    <tr>\n",
       "      <th>4</th>\n",
       "      <td>12</td>\n",
       "      <td>0.0</td>\n",
       "    </tr>\n",
       "    <tr>\n",
       "      <th>...</th>\n",
       "      <td>...</td>\n",
       "      <td>...</td>\n",
       "    </tr>\n",
       "    <tr>\n",
       "      <th>1455</th>\n",
       "      <td>8</td>\n",
       "      <td>1.0</td>\n",
       "    </tr>\n",
       "    <tr>\n",
       "      <th>1456</th>\n",
       "      <td>2</td>\n",
       "      <td>0.0</td>\n",
       "    </tr>\n",
       "    <tr>\n",
       "      <th>1457</th>\n",
       "      <td>5</td>\n",
       "      <td>0.0</td>\n",
       "    </tr>\n",
       "    <tr>\n",
       "      <th>1458</th>\n",
       "      <td>4</td>\n",
       "      <td>0.0</td>\n",
       "    </tr>\n",
       "    <tr>\n",
       "      <th>1459</th>\n",
       "      <td>6</td>\n",
       "      <td>1.0</td>\n",
       "    </tr>\n",
       "  </tbody>\n",
       "</table>\n",
       "<p>1460 rows × 2 columns</p>\n",
       "</div>"
      ],
      "text/plain": [
       "      MoSold  Summer_Sale\n",
       "0          2          0.0\n",
       "1          5          0.0\n",
       "2          9          0.0\n",
       "3          2          0.0\n",
       "4         12          0.0\n",
       "...      ...          ...\n",
       "1455       8          1.0\n",
       "1456       2          0.0\n",
       "1457       5          0.0\n",
       "1458       4          0.0\n",
       "1459       6          1.0\n",
       "\n",
       "[1460 rows x 2 columns]"
      ]
     },
     "execution_count": 14,
     "metadata": {},
     "output_type": "execute_result"
    }
   ],
   "source": [
    "house.loc[(house['MoSold'] >= 6 ) & (house['MoSold'] <= 8 ), 'Summer_Sale'] = 1 \n",
    "\n",
    "house.loc[(house['MoSold'] < 6) | (house['MoSold'] > 8), 'Summer_Sale'] = 0  \n",
    "\n",
    "house[['MoSold', 'Summer_Sale']] "
   ]
  },
  {
   "cell_type": "markdown",
   "metadata": {
    "id": "B_9CTa2QYcpu"
   },
   "source": [
    "#Now we'll revisit the LendingClub data.\n",
    "\n",
    "Remember to import the data by first unzipping the file:"
   ]
  },
  {
   "cell_type": "code",
   "execution_count": 15,
   "metadata": {
    "id": "i_RRvbrDYslZ"
   },
   "outputs": [
    {
     "name": "stdout",
     "output_type": "stream",
     "text": [
      "zsh:1: command not found: wget\r\n"
     ]
    }
   ],
   "source": [
    "!wget https://resources.lendingclub.com/LoanStats_2018Q4.csv.zip"
   ]
  },
  {
   "cell_type": "code",
   "execution_count": 16,
   "metadata": {
    "id": "hxUqtdlnY3oB"
   },
   "outputs": [
    {
     "name": "stdout",
     "output_type": "stream",
     "text": [
      "unzip:  cannot find or open LoanStats_2018Q4.csv.zip, LoanStats_2018Q4.csv.zip.zip or LoanStats_2018Q4.csv.zip.ZIP.\r\n"
     ]
    }
   ],
   "source": [
    "!unzip LoanStats_2018Q4.csv.zip\n"
   ]
  },
  {
   "cell_type": "code",
   "execution_count": 92,
   "metadata": {
    "id": "aQB-OhvAZZQC",
    "scrolled": true
   },
   "outputs": [
    {
     "name": "stdout",
     "output_type": "stream",
     "text": [
      "(128412, 144)\n"
     ]
    },
    {
     "name": "stderr",
     "output_type": "stream",
     "text": [
      "/Users/jeffkang/.pyenv/versions/3.8.5/lib/python3.8/site-packages/IPython/core/interactiveshell.py:3441: DtypeWarning: Columns (0) have mixed types.Specify dtype option on import or set low_memory=False.\n",
      "  exec(code_obj, self.user_global_ns, self.user_ns)\n"
     ]
    },
    {
     "data": {
      "text/html": [
       "<div>\n",
       "<style scoped>\n",
       "    .dataframe tbody tr th:only-of-type {\n",
       "        vertical-align: middle;\n",
       "    }\n",
       "\n",
       "    .dataframe tbody tr th {\n",
       "        vertical-align: top;\n",
       "    }\n",
       "\n",
       "    .dataframe thead th {\n",
       "        text-align: right;\n",
       "    }\n",
       "</style>\n",
       "<table border=\"1\" class=\"dataframe\">\n",
       "  <thead>\n",
       "    <tr style=\"text-align: right;\">\n",
       "      <th></th>\n",
       "      <th>id</th>\n",
       "      <th>member_id</th>\n",
       "      <th>loan_amnt</th>\n",
       "      <th>funded_amnt</th>\n",
       "      <th>funded_amnt_inv</th>\n",
       "      <th>term</th>\n",
       "      <th>int_rate</th>\n",
       "      <th>installment</th>\n",
       "      <th>grade</th>\n",
       "      <th>sub_grade</th>\n",
       "      <th>...</th>\n",
       "      <th>orig_projected_additional_accrued_interest</th>\n",
       "      <th>hardship_payoff_balance_amount</th>\n",
       "      <th>hardship_last_payment_amount</th>\n",
       "      <th>debt_settlement_flag</th>\n",
       "      <th>debt_settlement_flag_date</th>\n",
       "      <th>settlement_status</th>\n",
       "      <th>settlement_date</th>\n",
       "      <th>settlement_amount</th>\n",
       "      <th>settlement_percentage</th>\n",
       "      <th>settlement_term</th>\n",
       "    </tr>\n",
       "  </thead>\n",
       "  <tbody>\n",
       "    <tr>\n",
       "      <th>128407</th>\n",
       "      <td>NaN</td>\n",
       "      <td>NaN</td>\n",
       "      <td>23000.0</td>\n",
       "      <td>23000.0</td>\n",
       "      <td>23000.0</td>\n",
       "      <td>36 months</td>\n",
       "      <td>15.02%</td>\n",
       "      <td>797.53</td>\n",
       "      <td>C</td>\n",
       "      <td>C3</td>\n",
       "      <td>...</td>\n",
       "      <td>NaN</td>\n",
       "      <td>NaN</td>\n",
       "      <td>NaN</td>\n",
       "      <td>N</td>\n",
       "      <td>NaN</td>\n",
       "      <td>NaN</td>\n",
       "      <td>NaN</td>\n",
       "      <td>NaN</td>\n",
       "      <td>NaN</td>\n",
       "      <td>NaN</td>\n",
       "    </tr>\n",
       "    <tr>\n",
       "      <th>128408</th>\n",
       "      <td>NaN</td>\n",
       "      <td>NaN</td>\n",
       "      <td>10000.0</td>\n",
       "      <td>10000.0</td>\n",
       "      <td>10000.0</td>\n",
       "      <td>36 months</td>\n",
       "      <td>15.02%</td>\n",
       "      <td>346.76</td>\n",
       "      <td>C</td>\n",
       "      <td>C3</td>\n",
       "      <td>...</td>\n",
       "      <td>NaN</td>\n",
       "      <td>NaN</td>\n",
       "      <td>NaN</td>\n",
       "      <td>N</td>\n",
       "      <td>NaN</td>\n",
       "      <td>NaN</td>\n",
       "      <td>NaN</td>\n",
       "      <td>NaN</td>\n",
       "      <td>NaN</td>\n",
       "      <td>NaN</td>\n",
       "    </tr>\n",
       "    <tr>\n",
       "      <th>128409</th>\n",
       "      <td>NaN</td>\n",
       "      <td>NaN</td>\n",
       "      <td>5000.0</td>\n",
       "      <td>5000.0</td>\n",
       "      <td>5000.0</td>\n",
       "      <td>36 months</td>\n",
       "      <td>13.56%</td>\n",
       "      <td>169.83</td>\n",
       "      <td>C</td>\n",
       "      <td>C1</td>\n",
       "      <td>...</td>\n",
       "      <td>NaN</td>\n",
       "      <td>NaN</td>\n",
       "      <td>NaN</td>\n",
       "      <td>N</td>\n",
       "      <td>NaN</td>\n",
       "      <td>NaN</td>\n",
       "      <td>NaN</td>\n",
       "      <td>NaN</td>\n",
       "      <td>NaN</td>\n",
       "      <td>NaN</td>\n",
       "    </tr>\n",
       "    <tr>\n",
       "      <th>128410</th>\n",
       "      <td>NaN</td>\n",
       "      <td>NaN</td>\n",
       "      <td>10000.0</td>\n",
       "      <td>10000.0</td>\n",
       "      <td>9750.0</td>\n",
       "      <td>36 months</td>\n",
       "      <td>11.06%</td>\n",
       "      <td>327.68</td>\n",
       "      <td>B</td>\n",
       "      <td>B3</td>\n",
       "      <td>...</td>\n",
       "      <td>NaN</td>\n",
       "      <td>NaN</td>\n",
       "      <td>NaN</td>\n",
       "      <td>N</td>\n",
       "      <td>NaN</td>\n",
       "      <td>NaN</td>\n",
       "      <td>NaN</td>\n",
       "      <td>NaN</td>\n",
       "      <td>NaN</td>\n",
       "      <td>NaN</td>\n",
       "    </tr>\n",
       "    <tr>\n",
       "      <th>128411</th>\n",
       "      <td>NaN</td>\n",
       "      <td>NaN</td>\n",
       "      <td>10000.0</td>\n",
       "      <td>10000.0</td>\n",
       "      <td>10000.0</td>\n",
       "      <td>36 months</td>\n",
       "      <td>16.91%</td>\n",
       "      <td>356.08</td>\n",
       "      <td>C</td>\n",
       "      <td>C5</td>\n",
       "      <td>...</td>\n",
       "      <td>NaN</td>\n",
       "      <td>NaN</td>\n",
       "      <td>NaN</td>\n",
       "      <td>N</td>\n",
       "      <td>NaN</td>\n",
       "      <td>NaN</td>\n",
       "      <td>NaN</td>\n",
       "      <td>NaN</td>\n",
       "      <td>NaN</td>\n",
       "      <td>NaN</td>\n",
       "    </tr>\n",
       "  </tbody>\n",
       "</table>\n",
       "<p>5 rows × 144 columns</p>\n",
       "</div>"
      ],
      "text/plain": [
       "         id  member_id  loan_amnt  funded_amnt  funded_amnt_inv        term  \\\n",
       "128407  NaN        NaN    23000.0      23000.0          23000.0   36 months   \n",
       "128408  NaN        NaN    10000.0      10000.0          10000.0   36 months   \n",
       "128409  NaN        NaN     5000.0       5000.0           5000.0   36 months   \n",
       "128410  NaN        NaN    10000.0      10000.0           9750.0   36 months   \n",
       "128411  NaN        NaN    10000.0      10000.0          10000.0   36 months   \n",
       "\n",
       "       int_rate  installment grade sub_grade  ...  \\\n",
       "128407   15.02%       797.53     C        C3  ...   \n",
       "128408   15.02%       346.76     C        C3  ...   \n",
       "128409   13.56%       169.83     C        C1  ...   \n",
       "128410   11.06%       327.68     B        B3  ...   \n",
       "128411   16.91%       356.08     C        C5  ...   \n",
       "\n",
       "       orig_projected_additional_accrued_interest  \\\n",
       "128407                                        NaN   \n",
       "128408                                        NaN   \n",
       "128409                                        NaN   \n",
       "128410                                        NaN   \n",
       "128411                                        NaN   \n",
       "\n",
       "       hardship_payoff_balance_amount hardship_last_payment_amount  \\\n",
       "128407                            NaN                          NaN   \n",
       "128408                            NaN                          NaN   \n",
       "128409                            NaN                          NaN   \n",
       "128410                            NaN                          NaN   \n",
       "128411                            NaN                          NaN   \n",
       "\n",
       "        debt_settlement_flag debt_settlement_flag_date settlement_status  \\\n",
       "128407                     N                       NaN               NaN   \n",
       "128408                     N                       NaN               NaN   \n",
       "128409                     N                       NaN               NaN   \n",
       "128410                     N                       NaN               NaN   \n",
       "128411                     N                       NaN               NaN   \n",
       "\n",
       "       settlement_date settlement_amount  settlement_percentage  \\\n",
       "128407             NaN               NaN                    NaN   \n",
       "128408             NaN               NaN                    NaN   \n",
       "128409             NaN               NaN                    NaN   \n",
       "128410             NaN               NaN                    NaN   \n",
       "128411             NaN               NaN                    NaN   \n",
       "\n",
       "        settlement_term  \n",
       "128407              NaN  \n",
       "128408              NaN  \n",
       "128409              NaN  \n",
       "128410              NaN  \n",
       "128411              NaN  \n",
       "\n",
       "[5 rows x 144 columns]"
      ]
     },
     "execution_count": 92,
     "metadata": {},
     "output_type": "execute_result"
    }
   ],
   "source": [
    "# Read in the CSV\n",
    "# import pandas as pd\n",
    "df = pd.read_csv('LoanStats_2018Q4.csv.zip', skiprows = 1)\n",
    "df = df[0 : 128412]\n",
    "print(df.shape)\n",
    "\n",
    "df.head()\n",
    "df.tail()"
   ]
  },
  {
   "cell_type": "markdown",
   "metadata": {
    "id": "qnT_KD-MhLfg"
   },
   "source": [
    "#Approaching a problem two different ways.\n",
    "\n",
    "In the guided project, we learned how to find the earliest credit year using the built-in pandas date-time format.  However, there is often more than one way to come up with the same solution.  \n",
    "\n",
    "\n",
    "\n",
    "\n"
   ]
  },
  {
   "cell_type": "markdown",
   "metadata": {
    "id": "yuUB4pnFgbAr"
   },
   "source": [
    "\n",
    "In the following questions we will work through the steps to create a new variables called Earliest_Credit_Year and issue_year where we use the .split() function remove the month report back just the year as a float data type.  Then we'll use those variables to calculate the length of credit history in years.  "
   ]
  },
  {
   "cell_type": "markdown",
   "metadata": {
    "id": "P2Utc8Togc79"
   },
   "source": [
    "If we do everything correctly, we should calculate *about* the same length of longest credit history that we did in class working with the date-time format.  The answers won't exactly match because we are making different assumptions about when in each month and year the loans were taken out, but it will give you a flavor for different ways of approaching the same problem."
   ]
  },
  {
   "cell_type": "markdown",
   "metadata": {
    "id": "Lx0kHSTFhoKj"
   },
   "source": [
    "###6) Create a simple test case where credit = 'Jun-1979'.  \n",
    "\n",
    "Use the .split('-') function to separate the month and year parts of the data and print the year.\n",
    "\n",
    "Hint: Name the results of the .split('-') function \"fields\".  fields[0] will return the month part of the date and fields[1] will return the year part of the date."
   ]
  },
  {
   "cell_type": "code",
   "execution_count": 93,
   "metadata": {
    "id": "y80jf99GaKsL"
   },
   "outputs": [
    {
     "name": "stdout",
     "output_type": "stream",
     "text": [
      "1979.0\n"
     ]
    }
   ],
   "source": [
    "credit = 'Jun-1979'\n",
    "\n",
    "fields = credit.split('-')\n",
    "\n",
    "month = fields[0]\n",
    "year = fields[1]\n",
    "\n",
    "print(float(year))\n"
   ]
  },
  {
   "cell_type": "markdown",
   "metadata": {
    "id": "TtC6exPui9y4"
   },
   "source": [
    "###7) Use your answer in 6) to write a function called credit_yr that takes in the contents of a cell formatted 'month-year' and returns the year.\n",
    "\n",
    "Run your function using the simple test case in 6)."
   ]
  },
  {
   "cell_type": "code",
   "execution_count": 94,
   "metadata": {
    "id": "dtF2-tjogC6J"
   },
   "outputs": [
    {
     "data": {
      "text/plain": [
       "(128412, 144)"
      ]
     },
     "execution_count": 94,
     "metadata": {},
     "output_type": "execute_result"
    }
   ],
   "source": [
    "def credit_yr(cell_contents):\n",
    "  fields = cell_contents.split('-')\n",
    "  month = fields[0]\n",
    "  year = fields[1]\n",
    "  year = float(year)\n",
    "  return year\n",
    "\n",
    "credit_yr(credit)\n",
    "\n",
    "df.head()\n",
    "df.shape"
   ]
  },
  {
   "cell_type": "markdown",
   "metadata": {
    "id": "a1XVfTOIjfrW"
   },
   "source": [
    "###8) Use the .apply() function to apply the function to every cell in the earliest_cr_line variable."
   ]
  },
  {
   "cell_type": "code",
   "execution_count": 95,
   "metadata": {
    "id": "lZhlULhykCB_"
   },
   "outputs": [],
   "source": [
    "df['Earliest_Credit_Year'] = df['earliest_cr_line'].apply(credit_yr)"
   ]
  },
  {
   "cell_type": "markdown",
   "metadata": {
    "id": "ckSsAPccmvMQ"
   },
   "source": [
    "###9) Print the top 5 rows of the Earliest_Credit_Year and earliest_cr_line variables to make sure the variables were created correctly."
   ]
  },
  {
   "cell_type": "code",
   "execution_count": 96,
   "metadata": {
    "id": "XLpUOqdgm4WQ"
   },
   "outputs": [
    {
     "data": {
      "text/html": [
       "<div>\n",
       "<style scoped>\n",
       "    .dataframe tbody tr th:only-of-type {\n",
       "        vertical-align: middle;\n",
       "    }\n",
       "\n",
       "    .dataframe tbody tr th {\n",
       "        vertical-align: top;\n",
       "    }\n",
       "\n",
       "    .dataframe thead th {\n",
       "        text-align: right;\n",
       "    }\n",
       "</style>\n",
       "<table border=\"1\" class=\"dataframe\">\n",
       "  <thead>\n",
       "    <tr style=\"text-align: right;\">\n",
       "      <th></th>\n",
       "      <th>Earliest_Credit_Year</th>\n",
       "      <th>earliest_cr_line</th>\n",
       "    </tr>\n",
       "  </thead>\n",
       "  <tbody>\n",
       "    <tr>\n",
       "      <th>0</th>\n",
       "      <td>1998.0</td>\n",
       "      <td>Mar-1998</td>\n",
       "    </tr>\n",
       "    <tr>\n",
       "      <th>1</th>\n",
       "      <td>2002.0</td>\n",
       "      <td>Sep-2002</td>\n",
       "    </tr>\n",
       "    <tr>\n",
       "      <th>2</th>\n",
       "      <td>2010.0</td>\n",
       "      <td>Sep-2010</td>\n",
       "    </tr>\n",
       "    <tr>\n",
       "      <th>3</th>\n",
       "      <td>2014.0</td>\n",
       "      <td>Apr-2014</td>\n",
       "    </tr>\n",
       "    <tr>\n",
       "      <th>4</th>\n",
       "      <td>2007.0</td>\n",
       "      <td>Mar-2007</td>\n",
       "    </tr>\n",
       "  </tbody>\n",
       "</table>\n",
       "</div>"
      ],
      "text/plain": [
       "   Earliest_Credit_Year earliest_cr_line\n",
       "0                1998.0         Mar-1998\n",
       "1                2002.0         Sep-2002\n",
       "2                2010.0         Sep-2010\n",
       "3                2014.0         Apr-2014\n",
       "4                2007.0         Mar-2007"
      ]
     },
     "execution_count": 96,
     "metadata": {},
     "output_type": "execute_result"
    }
   ],
   "source": [
    "df[['Earliest_Credit_Year','earliest_cr_line']].head()"
   ]
  },
  {
   "cell_type": "markdown",
   "metadata": {
    "id": "w5vb0vQjg3Sj"
   },
   "source": [
    "### 10) Use your function to create a new variable called Issue_Year from the issue_d variable."
   ]
  },
  {
   "cell_type": "code",
   "execution_count": 97,
   "metadata": {
    "id": "5sIn85mbg1pw"
   },
   "outputs": [
    {
     "data": {
      "text/html": [
       "<div>\n",
       "<style scoped>\n",
       "    .dataframe tbody tr th:only-of-type {\n",
       "        vertical-align: middle;\n",
       "    }\n",
       "\n",
       "    .dataframe tbody tr th {\n",
       "        vertical-align: top;\n",
       "    }\n",
       "\n",
       "    .dataframe thead th {\n",
       "        text-align: right;\n",
       "    }\n",
       "</style>\n",
       "<table border=\"1\" class=\"dataframe\">\n",
       "  <thead>\n",
       "    <tr style=\"text-align: right;\">\n",
       "      <th></th>\n",
       "      <th>Issue_Year</th>\n",
       "      <th>issue_d</th>\n",
       "    </tr>\n",
       "  </thead>\n",
       "  <tbody>\n",
       "    <tr>\n",
       "      <th>0</th>\n",
       "      <td>2018.0</td>\n",
       "      <td>Dec-2018</td>\n",
       "    </tr>\n",
       "    <tr>\n",
       "      <th>1</th>\n",
       "      <td>2018.0</td>\n",
       "      <td>Dec-2018</td>\n",
       "    </tr>\n",
       "    <tr>\n",
       "      <th>2</th>\n",
       "      <td>2018.0</td>\n",
       "      <td>Dec-2018</td>\n",
       "    </tr>\n",
       "    <tr>\n",
       "      <th>3</th>\n",
       "      <td>2018.0</td>\n",
       "      <td>Dec-2018</td>\n",
       "    </tr>\n",
       "    <tr>\n",
       "      <th>4</th>\n",
       "      <td>2018.0</td>\n",
       "      <td>Dec-2018</td>\n",
       "    </tr>\n",
       "  </tbody>\n",
       "</table>\n",
       "</div>"
      ],
      "text/plain": [
       "   Issue_Year   issue_d\n",
       "0      2018.0  Dec-2018\n",
       "1      2018.0  Dec-2018\n",
       "2      2018.0  Dec-2018\n",
       "3      2018.0  Dec-2018\n",
       "4      2018.0  Dec-2018"
      ]
     },
     "execution_count": 97,
     "metadata": {},
     "output_type": "execute_result"
    }
   ],
   "source": [
    "df['Issue_Year'] = df['issue_d'].apply(credit_yr)\n",
    "\n",
    "df[['Issue_Year','issue_d']].head()"
   ]
  },
  {
   "cell_type": "markdown",
   "metadata": {
    "id": "iZItgQjQiCh9"
   },
   "source": [
    "###11) Caluculate length of credit history in years and in days.\n",
    "\n",
    "Hint: If you are getting an error message, make sure to check the data type of the years output by your functions."
   ]
  },
  {
   "cell_type": "code",
   "execution_count": 101,
   "metadata": {
    "colab": {
     "base_uri": "https://localhost:8080/",
     "height": 204
    },
    "executionInfo": {
     "elapsed": 771,
     "status": "ok",
     "timestamp": 1600605970388,
     "user": {
      "displayName": "Chelsea Myers",
      "photoUrl": "",
      "userId": "05871651112741478957"
     },
     "user_tz": 240
    },
    "id": "0mT7pG9hiTf2",
    "outputId": "9edfa70b-495c-40dd-9b1c-2e87da138732"
   },
   "outputs": [
    {
     "data": {
      "text/html": [
       "<div>\n",
       "<style scoped>\n",
       "    .dataframe tbody tr th:only-of-type {\n",
       "        vertical-align: middle;\n",
       "    }\n",
       "\n",
       "    .dataframe tbody tr th {\n",
       "        vertical-align: top;\n",
       "    }\n",
       "\n",
       "    .dataframe thead th {\n",
       "        text-align: right;\n",
       "    }\n",
       "</style>\n",
       "<table border=\"1\" class=\"dataframe\">\n",
       "  <thead>\n",
       "    <tr style=\"text-align: right;\">\n",
       "      <th></th>\n",
       "      <th>Issue_Year</th>\n",
       "      <th>Earliest_Credit_Year</th>\n",
       "      <th>Credit_History_Years</th>\n",
       "      <th>Credit_History_Days</th>\n",
       "    </tr>\n",
       "  </thead>\n",
       "  <tbody>\n",
       "    <tr>\n",
       "      <th>0</th>\n",
       "      <td>2018.0</td>\n",
       "      <td>1998.0</td>\n",
       "      <td>20.0</td>\n",
       "      <td>7305.00</td>\n",
       "    </tr>\n",
       "    <tr>\n",
       "      <th>1</th>\n",
       "      <td>2018.0</td>\n",
       "      <td>2002.0</td>\n",
       "      <td>16.0</td>\n",
       "      <td>5844.00</td>\n",
       "    </tr>\n",
       "    <tr>\n",
       "      <th>2</th>\n",
       "      <td>2018.0</td>\n",
       "      <td>2010.0</td>\n",
       "      <td>8.0</td>\n",
       "      <td>2922.00</td>\n",
       "    </tr>\n",
       "    <tr>\n",
       "      <th>3</th>\n",
       "      <td>2018.0</td>\n",
       "      <td>2014.0</td>\n",
       "      <td>4.0</td>\n",
       "      <td>1461.00</td>\n",
       "    </tr>\n",
       "    <tr>\n",
       "      <th>4</th>\n",
       "      <td>2018.0</td>\n",
       "      <td>2007.0</td>\n",
       "      <td>11.0</td>\n",
       "      <td>4017.75</td>\n",
       "    </tr>\n",
       "  </tbody>\n",
       "</table>\n",
       "</div>"
      ],
      "text/plain": [
       "   Issue_Year  Earliest_Credit_Year  Credit_History_Years  Credit_History_Days\n",
       "0      2018.0                1998.0                  20.0              7305.00\n",
       "1      2018.0                2002.0                  16.0              5844.00\n",
       "2      2018.0                2010.0                   8.0              2922.00\n",
       "3      2018.0                2014.0                   4.0              1461.00\n",
       "4      2018.0                2007.0                  11.0              4017.75"
      ]
     },
     "execution_count": 101,
     "metadata": {},
     "output_type": "execute_result"
    }
   ],
   "source": [
    "df['Credit_History_Years'] = df['Issue_Year'] - df['Earliest_Credit_Year']\n",
    "df['Credit_History_Days'] = df['Credit_History_Years'] * 365.25\n",
    "\n",
    "df[['Issue_Year','Earliest_Credit_Year','Credit_History_Years','Credit_History_Days']].head()"
   ]
  },
  {
   "cell_type": "markdown",
   "metadata": {
    "id": "PvcOSw9gjUzF"
   },
   "source": [
    "###12) Calculate the maximum credit length and compare it to we got in the guided project.  \n",
    "\n",
    "Note - it won't be *exactly* the same because both methods are working in different ways, but they will give you a \"pretty close\" answer."
   ]
  },
  {
   "cell_type": "code",
   "execution_count": 106,
   "metadata": {
    "id": "gmNFZzaQjdQi"
   },
   "outputs": [
    {
     "data": {
      "text/plain": [
       "68.0"
      ]
     },
     "execution_count": 106,
     "metadata": {},
     "output_type": "execute_result"
    }
   ],
   "source": [
    "df['Credit_History_Years'].max()"
   ]
  },
  {
   "cell_type": "code",
   "execution_count": null,
   "metadata": {},
   "outputs": [],
   "source": []
  }
 ],
 "metadata": {
  "colab": {
   "collapsed_sections": [],
   "name": "Sprint 1 Fix My Code.ipynb",
   "provenance": [
    {
     "file_id": "1A53Hr-gR1qIWYibp5p0DEfQi0d-kSYfD",
     "timestamp": 1605807262351
    },
    {
     "file_id": "1eiAw_Yt52kMWxQfmTxzUTcbjusK5VueC",
     "timestamp": 1600383598651
    },
    {
     "file_id": "https://github.com/ryanleeallred/DS-Unit-1-Sprint-1-Data-Wrangling-and-Storytelling/blob/master/module2-make-features/LS_DS_112_Make_Features.ipynb",
     "timestamp": 1600341710328
    }
   ]
  },
  "kernelspec": {
   "display_name": "Python 3 (ipykernel)",
   "language": "python",
   "name": "python3"
  },
  "language_info": {
   "codemirror_mode": {
    "name": "ipython",
    "version": 3
   },
   "file_extension": ".py",
   "mimetype": "text/x-python",
   "name": "python",
   "nbconvert_exporter": "python",
   "pygments_lexer": "ipython3",
   "version": "3.8.5"
  }
 },
 "nbformat": 4,
 "nbformat_minor": 1
}
